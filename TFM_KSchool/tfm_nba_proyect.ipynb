{
  "cells": [
    {
      "cell_type": "code",
      "execution_count": 21,
      "metadata": {
        "id": "0AquFS2rRzz5"
      },
      "outputs": [],
      "source": [
        "\n",
        "import pandas as pd\n",
        "import numpy as np\n",
        "import matplotlib.pyplot as plt\n",
        "import seaborn as sns\n",
        "from sklearn.linear_model import LinearRegression"
      ]
    },
    {
      "cell_type": "code",
      "execution_count": 22,
      "metadata": {},
      "outputs": [],
      "source": [
        "# Cargar archivos\n",
        "\n",
        "df_player_data = pd.read_csv('res/player_data.csv')\n",
        "df_players = pd.read_csv('res/players.csv')\n",
        "df_season_stats = pd.read_csv('res/Seasons_Stats.csv')"
      ]
    },
    {
      "cell_type": "code",
      "execution_count": 23,
      "metadata": {
        "colab": {
          "base_uri": "https://localhost:8080/",
          "height": 206
        },
        "id": "qzaaTUya0VWo",
        "outputId": "cab7fcab-b39a-47e1-9ab7-0913b4bfd863"
      },
      "outputs": [
        {
          "data": {
            "text/html": [
              "<div>\n",
              "<style scoped>\n",
              "    .dataframe tbody tr th:only-of-type {\n",
              "        vertical-align: middle;\n",
              "    }\n",
              "\n",
              "    .dataframe tbody tr th {\n",
              "        vertical-align: top;\n",
              "    }\n",
              "\n",
              "    .dataframe thead th {\n",
              "        text-align: right;\n",
              "    }\n",
              "</style>\n",
              "<table border=\"1\" class=\"dataframe\">\n",
              "  <thead>\n",
              "    <tr style=\"text-align: right;\">\n",
              "      <th></th>\n",
              "      <th>Unnamed: 0</th>\n",
              "      <th>Player</th>\n",
              "      <th>height</th>\n",
              "      <th>weight</th>\n",
              "      <th>collage</th>\n",
              "      <th>born</th>\n",
              "      <th>birth_city</th>\n",
              "      <th>birth_state</th>\n",
              "    </tr>\n",
              "  </thead>\n",
              "  <tbody>\n",
              "    <tr>\n",
              "      <th>0</th>\n",
              "      <td>0</td>\n",
              "      <td>Curly Armstrong</td>\n",
              "      <td>180.0</td>\n",
              "      <td>77.0</td>\n",
              "      <td>Indiana University</td>\n",
              "      <td>1918.0</td>\n",
              "      <td>NaN</td>\n",
              "      <td>NaN</td>\n",
              "    </tr>\n",
              "    <tr>\n",
              "      <th>1</th>\n",
              "      <td>1</td>\n",
              "      <td>Cliff Barker</td>\n",
              "      <td>188.0</td>\n",
              "      <td>83.0</td>\n",
              "      <td>University of Kentucky</td>\n",
              "      <td>1921.0</td>\n",
              "      <td>Yorktown</td>\n",
              "      <td>Indiana</td>\n",
              "    </tr>\n",
              "    <tr>\n",
              "      <th>2</th>\n",
              "      <td>2</td>\n",
              "      <td>Leo Barnhorst</td>\n",
              "      <td>193.0</td>\n",
              "      <td>86.0</td>\n",
              "      <td>University of Notre Dame</td>\n",
              "      <td>1924.0</td>\n",
              "      <td>NaN</td>\n",
              "      <td>NaN</td>\n",
              "    </tr>\n",
              "    <tr>\n",
              "      <th>3</th>\n",
              "      <td>3</td>\n",
              "      <td>Ed Bartels</td>\n",
              "      <td>196.0</td>\n",
              "      <td>88.0</td>\n",
              "      <td>North Carolina State University</td>\n",
              "      <td>1925.0</td>\n",
              "      <td>NaN</td>\n",
              "      <td>NaN</td>\n",
              "    </tr>\n",
              "    <tr>\n",
              "      <th>4</th>\n",
              "      <td>4</td>\n",
              "      <td>Ralph Beard</td>\n",
              "      <td>178.0</td>\n",
              "      <td>79.0</td>\n",
              "      <td>University of Kentucky</td>\n",
              "      <td>1927.0</td>\n",
              "      <td>Hardinsburg</td>\n",
              "      <td>Kentucky</td>\n",
              "    </tr>\n",
              "  </tbody>\n",
              "</table>\n",
              "</div>"
            ],
            "text/plain": [
              "   Unnamed: 0           Player  height  weight  \\\n",
              "0           0  Curly Armstrong   180.0    77.0   \n",
              "1           1     Cliff Barker   188.0    83.0   \n",
              "2           2    Leo Barnhorst   193.0    86.0   \n",
              "3           3       Ed Bartels   196.0    88.0   \n",
              "4           4      Ralph Beard   178.0    79.0   \n",
              "\n",
              "                           collage    born   birth_city birth_state  \n",
              "0               Indiana University  1918.0          NaN         NaN  \n",
              "1           University of Kentucky  1921.0     Yorktown     Indiana  \n",
              "2         University of Notre Dame  1924.0          NaN         NaN  \n",
              "3  North Carolina State University  1925.0          NaN         NaN  \n",
              "4           University of Kentucky  1927.0  Hardinsburg    Kentucky  "
            ]
          },
          "execution_count": 23,
          "metadata": {},
          "output_type": "execute_result"
        }
      ],
      "source": [
        "df_players.head()"
      ]
    },
    {
      "cell_type": "code",
      "execution_count": 24,
      "metadata": {
        "colab": {
          "base_uri": "https://localhost:8080/",
          "height": 235
        },
        "id": "fB1iHsx16Jlc",
        "outputId": "a88c4cc3-ec32-4548-c496-d10fbd725081"
      },
      "outputs": [
        {
          "data": {
            "text/html": [
              "<div>\n",
              "<style scoped>\n",
              "    .dataframe tbody tr th:only-of-type {\n",
              "        vertical-align: middle;\n",
              "    }\n",
              "\n",
              "    .dataframe tbody tr th {\n",
              "        vertical-align: top;\n",
              "    }\n",
              "\n",
              "    .dataframe thead th {\n",
              "        text-align: right;\n",
              "    }\n",
              "</style>\n",
              "<table border=\"1\" class=\"dataframe\">\n",
              "  <thead>\n",
              "    <tr style=\"text-align: right;\">\n",
              "      <th></th>\n",
              "      <th>Unnamed: 0</th>\n",
              "      <th>Year</th>\n",
              "      <th>Player</th>\n",
              "      <th>Pos</th>\n",
              "      <th>Age</th>\n",
              "      <th>Tm</th>\n",
              "      <th>G</th>\n",
              "      <th>GS</th>\n",
              "      <th>MP</th>\n",
              "      <th>PER</th>\n",
              "      <th>...</th>\n",
              "      <th>FT%</th>\n",
              "      <th>ORB</th>\n",
              "      <th>DRB</th>\n",
              "      <th>TRB</th>\n",
              "      <th>AST</th>\n",
              "      <th>STL</th>\n",
              "      <th>BLK</th>\n",
              "      <th>TOV</th>\n",
              "      <th>PF</th>\n",
              "      <th>PTS</th>\n",
              "    </tr>\n",
              "  </thead>\n",
              "  <tbody>\n",
              "    <tr>\n",
              "      <th>0</th>\n",
              "      <td>0</td>\n",
              "      <td>1950.0</td>\n",
              "      <td>Curly Armstrong</td>\n",
              "      <td>G-F</td>\n",
              "      <td>31.0</td>\n",
              "      <td>FTW</td>\n",
              "      <td>63.0</td>\n",
              "      <td>NaN</td>\n",
              "      <td>NaN</td>\n",
              "      <td>NaN</td>\n",
              "      <td>...</td>\n",
              "      <td>0.705</td>\n",
              "      <td>NaN</td>\n",
              "      <td>NaN</td>\n",
              "      <td>NaN</td>\n",
              "      <td>176.0</td>\n",
              "      <td>NaN</td>\n",
              "      <td>NaN</td>\n",
              "      <td>NaN</td>\n",
              "      <td>217.0</td>\n",
              "      <td>458.0</td>\n",
              "    </tr>\n",
              "    <tr>\n",
              "      <th>1</th>\n",
              "      <td>1</td>\n",
              "      <td>1950.0</td>\n",
              "      <td>Cliff Barker</td>\n",
              "      <td>SG</td>\n",
              "      <td>29.0</td>\n",
              "      <td>INO</td>\n",
              "      <td>49.0</td>\n",
              "      <td>NaN</td>\n",
              "      <td>NaN</td>\n",
              "      <td>NaN</td>\n",
              "      <td>...</td>\n",
              "      <td>0.708</td>\n",
              "      <td>NaN</td>\n",
              "      <td>NaN</td>\n",
              "      <td>NaN</td>\n",
              "      <td>109.0</td>\n",
              "      <td>NaN</td>\n",
              "      <td>NaN</td>\n",
              "      <td>NaN</td>\n",
              "      <td>99.0</td>\n",
              "      <td>279.0</td>\n",
              "    </tr>\n",
              "    <tr>\n",
              "      <th>2</th>\n",
              "      <td>2</td>\n",
              "      <td>1950.0</td>\n",
              "      <td>Leo Barnhorst</td>\n",
              "      <td>SF</td>\n",
              "      <td>25.0</td>\n",
              "      <td>CHS</td>\n",
              "      <td>67.0</td>\n",
              "      <td>NaN</td>\n",
              "      <td>NaN</td>\n",
              "      <td>NaN</td>\n",
              "      <td>...</td>\n",
              "      <td>0.698</td>\n",
              "      <td>NaN</td>\n",
              "      <td>NaN</td>\n",
              "      <td>NaN</td>\n",
              "      <td>140.0</td>\n",
              "      <td>NaN</td>\n",
              "      <td>NaN</td>\n",
              "      <td>NaN</td>\n",
              "      <td>192.0</td>\n",
              "      <td>438.0</td>\n",
              "    </tr>\n",
              "    <tr>\n",
              "      <th>3</th>\n",
              "      <td>3</td>\n",
              "      <td>1950.0</td>\n",
              "      <td>Ed Bartels</td>\n",
              "      <td>F</td>\n",
              "      <td>24.0</td>\n",
              "      <td>TOT</td>\n",
              "      <td>15.0</td>\n",
              "      <td>NaN</td>\n",
              "      <td>NaN</td>\n",
              "      <td>NaN</td>\n",
              "      <td>...</td>\n",
              "      <td>0.559</td>\n",
              "      <td>NaN</td>\n",
              "      <td>NaN</td>\n",
              "      <td>NaN</td>\n",
              "      <td>20.0</td>\n",
              "      <td>NaN</td>\n",
              "      <td>NaN</td>\n",
              "      <td>NaN</td>\n",
              "      <td>29.0</td>\n",
              "      <td>63.0</td>\n",
              "    </tr>\n",
              "    <tr>\n",
              "      <th>4</th>\n",
              "      <td>4</td>\n",
              "      <td>1950.0</td>\n",
              "      <td>Ed Bartels</td>\n",
              "      <td>F</td>\n",
              "      <td>24.0</td>\n",
              "      <td>DNN</td>\n",
              "      <td>13.0</td>\n",
              "      <td>NaN</td>\n",
              "      <td>NaN</td>\n",
              "      <td>NaN</td>\n",
              "      <td>...</td>\n",
              "      <td>0.548</td>\n",
              "      <td>NaN</td>\n",
              "      <td>NaN</td>\n",
              "      <td>NaN</td>\n",
              "      <td>20.0</td>\n",
              "      <td>NaN</td>\n",
              "      <td>NaN</td>\n",
              "      <td>NaN</td>\n",
              "      <td>27.0</td>\n",
              "      <td>59.0</td>\n",
              "    </tr>\n",
              "  </tbody>\n",
              "</table>\n",
              "<p>5 rows × 53 columns</p>\n",
              "</div>"
            ],
            "text/plain": [
              "   Unnamed: 0    Year           Player  Pos   Age   Tm     G  GS  MP  PER  \\\n",
              "0           0  1950.0  Curly Armstrong  G-F  31.0  FTW  63.0 NaN NaN  NaN   \n",
              "1           1  1950.0     Cliff Barker   SG  29.0  INO  49.0 NaN NaN  NaN   \n",
              "2           2  1950.0    Leo Barnhorst   SF  25.0  CHS  67.0 NaN NaN  NaN   \n",
              "3           3  1950.0       Ed Bartels    F  24.0  TOT  15.0 NaN NaN  NaN   \n",
              "4           4  1950.0       Ed Bartels    F  24.0  DNN  13.0 NaN NaN  NaN   \n",
              "\n",
              "   ...    FT%  ORB  DRB  TRB    AST  STL  BLK  TOV     PF    PTS  \n",
              "0  ...  0.705  NaN  NaN  NaN  176.0  NaN  NaN  NaN  217.0  458.0  \n",
              "1  ...  0.708  NaN  NaN  NaN  109.0  NaN  NaN  NaN   99.0  279.0  \n",
              "2  ...  0.698  NaN  NaN  NaN  140.0  NaN  NaN  NaN  192.0  438.0  \n",
              "3  ...  0.559  NaN  NaN  NaN   20.0  NaN  NaN  NaN   29.0   63.0  \n",
              "4  ...  0.548  NaN  NaN  NaN   20.0  NaN  NaN  NaN   27.0   59.0  \n",
              "\n",
              "[5 rows x 53 columns]"
            ]
          },
          "execution_count": 24,
          "metadata": {},
          "output_type": "execute_result"
        }
      ],
      "source": [
        "df_season_stats.head()"
      ]
    },
    {
      "cell_type": "code",
      "execution_count": 25,
      "metadata": {
        "colab": {
          "base_uri": "https://localhost:8080/",
          "height": 206
        },
        "id": "rAmWXzWH6NC1",
        "outputId": "45530080-a94b-4a27-fa24-5a918ec4b173"
      },
      "outputs": [
        {
          "data": {
            "text/html": [
              "<div>\n",
              "<style scoped>\n",
              "    .dataframe tbody tr th:only-of-type {\n",
              "        vertical-align: middle;\n",
              "    }\n",
              "\n",
              "    .dataframe tbody tr th {\n",
              "        vertical-align: top;\n",
              "    }\n",
              "\n",
              "    .dataframe thead th {\n",
              "        text-align: right;\n",
              "    }\n",
              "</style>\n",
              "<table border=\"1\" class=\"dataframe\">\n",
              "  <thead>\n",
              "    <tr style=\"text-align: right;\">\n",
              "      <th></th>\n",
              "      <th>name</th>\n",
              "      <th>year_start</th>\n",
              "      <th>year_end</th>\n",
              "      <th>position</th>\n",
              "      <th>height</th>\n",
              "      <th>weight</th>\n",
              "      <th>birth_date</th>\n",
              "      <th>college</th>\n",
              "    </tr>\n",
              "  </thead>\n",
              "  <tbody>\n",
              "    <tr>\n",
              "      <th>0</th>\n",
              "      <td>Alaa Abdelnaby</td>\n",
              "      <td>1991</td>\n",
              "      <td>1995</td>\n",
              "      <td>F-C</td>\n",
              "      <td>6-10</td>\n",
              "      <td>240.0</td>\n",
              "      <td>June 24, 1968</td>\n",
              "      <td>Duke University</td>\n",
              "    </tr>\n",
              "    <tr>\n",
              "      <th>1</th>\n",
              "      <td>Zaid Abdul-Aziz</td>\n",
              "      <td>1969</td>\n",
              "      <td>1978</td>\n",
              "      <td>C-F</td>\n",
              "      <td>6-9</td>\n",
              "      <td>235.0</td>\n",
              "      <td>April 7, 1946</td>\n",
              "      <td>Iowa State University</td>\n",
              "    </tr>\n",
              "    <tr>\n",
              "      <th>2</th>\n",
              "      <td>Kareem Abdul-Jabbar</td>\n",
              "      <td>1970</td>\n",
              "      <td>1989</td>\n",
              "      <td>C</td>\n",
              "      <td>7-2</td>\n",
              "      <td>225.0</td>\n",
              "      <td>April 16, 1947</td>\n",
              "      <td>University of California, Los Angeles</td>\n",
              "    </tr>\n",
              "    <tr>\n",
              "      <th>3</th>\n",
              "      <td>Mahmoud Abdul-Rauf</td>\n",
              "      <td>1991</td>\n",
              "      <td>2001</td>\n",
              "      <td>G</td>\n",
              "      <td>6-1</td>\n",
              "      <td>162.0</td>\n",
              "      <td>March 9, 1969</td>\n",
              "      <td>Louisiana State University</td>\n",
              "    </tr>\n",
              "    <tr>\n",
              "      <th>4</th>\n",
              "      <td>Tariq Abdul-Wahad</td>\n",
              "      <td>1998</td>\n",
              "      <td>2003</td>\n",
              "      <td>F</td>\n",
              "      <td>6-6</td>\n",
              "      <td>223.0</td>\n",
              "      <td>November 3, 1974</td>\n",
              "      <td>San Jose State University</td>\n",
              "    </tr>\n",
              "  </tbody>\n",
              "</table>\n",
              "</div>"
            ],
            "text/plain": [
              "                  name  year_start  year_end position height  weight  \\\n",
              "0       Alaa Abdelnaby        1991      1995      F-C   6-10   240.0   \n",
              "1      Zaid Abdul-Aziz        1969      1978      C-F    6-9   235.0   \n",
              "2  Kareem Abdul-Jabbar        1970      1989        C    7-2   225.0   \n",
              "3   Mahmoud Abdul-Rauf        1991      2001        G    6-1   162.0   \n",
              "4    Tariq Abdul-Wahad        1998      2003        F    6-6   223.0   \n",
              "\n",
              "         birth_date                                college  \n",
              "0     June 24, 1968                        Duke University  \n",
              "1     April 7, 1946                  Iowa State University  \n",
              "2    April 16, 1947  University of California, Los Angeles  \n",
              "3     March 9, 1969             Louisiana State University  \n",
              "4  November 3, 1974              San Jose State University  "
            ]
          },
          "execution_count": 25,
          "metadata": {},
          "output_type": "execute_result"
        }
      ],
      "source": [
        "df_player_data.head()"
      ]
    },
    {
      "cell_type": "code",
      "execution_count": 26,
      "metadata": {
        "colab": {
          "base_uri": "https://localhost:8080/"
        },
        "id": "nKqkmFlS639V",
        "outputId": "12e9d276-44f7-4cf9-c2d7-72416222f5a1"
      },
      "outputs": [
        {
          "data": {
            "text/plain": [
              "(3922, 8)"
            ]
          },
          "execution_count": 26,
          "metadata": {},
          "output_type": "execute_result"
        }
      ],
      "source": [
        "df_players.shape"
      ]
    },
    {
      "cell_type": "code",
      "execution_count": 27,
      "metadata": {
        "colab": {
          "base_uri": "https://localhost:8080/"
        },
        "id": "nZtlKpBb7IpQ",
        "outputId": "840e52ac-1f1d-4bae-feb7-88a807812ea3"
      },
      "outputs": [
        {
          "data": {
            "text/plain": [
              "(24691, 53)"
            ]
          },
          "execution_count": 27,
          "metadata": {},
          "output_type": "execute_result"
        }
      ],
      "source": [
        "df_season_stats.shape"
      ]
    },
    {
      "cell_type": "code",
      "execution_count": 28,
      "metadata": {
        "colab": {
          "base_uri": "https://localhost:8080/"
        },
        "id": "pXbs0qIb7LGM",
        "outputId": "89fa3de3-4a73-4b11-cff7-ec754a7b6410"
      },
      "outputs": [
        {
          "data": {
            "text/plain": [
              "(4550, 8)"
            ]
          },
          "execution_count": 28,
          "metadata": {},
          "output_type": "execute_result"
        }
      ],
      "source": [
        "df_player_data.shape"
      ]
    },
    {
      "cell_type": "code",
      "execution_count": 29,
      "metadata": {
        "colab": {
          "base_uri": "https://localhost:8080/",
          "height": 423
        },
        "id": "zJvRgOO18wuA",
        "outputId": "2e347a78-ba95-467b-f30f-ddb61d1c8ae2"
      },
      "outputs": [
        {
          "data": {
            "text/html": [
              "<div>\n",
              "<style scoped>\n",
              "    .dataframe tbody tr th:only-of-type {\n",
              "        vertical-align: middle;\n",
              "    }\n",
              "\n",
              "    .dataframe tbody tr th {\n",
              "        vertical-align: top;\n",
              "    }\n",
              "\n",
              "    .dataframe thead th {\n",
              "        text-align: right;\n",
              "    }\n",
              "</style>\n",
              "<table border=\"1\" class=\"dataframe\">\n",
              "  <thead>\n",
              "    <tr style=\"text-align: right;\">\n",
              "      <th></th>\n",
              "      <th>Player</th>\n",
              "      <th>year_start</th>\n",
              "      <th>year_end</th>\n",
              "      <th>position</th>\n",
              "      <th>height</th>\n",
              "      <th>weight</th>\n",
              "      <th>birth_date</th>\n",
              "      <th>college</th>\n",
              "    </tr>\n",
              "  </thead>\n",
              "  <tbody>\n",
              "    <tr>\n",
              "      <th>0</th>\n",
              "      <td>Alaa Abdelnaby</td>\n",
              "      <td>1991</td>\n",
              "      <td>1995</td>\n",
              "      <td>F-C</td>\n",
              "      <td>6-10</td>\n",
              "      <td>240.0</td>\n",
              "      <td>June 24, 1968</td>\n",
              "      <td>Duke University</td>\n",
              "    </tr>\n",
              "    <tr>\n",
              "      <th>1</th>\n",
              "      <td>Zaid Abdul-Aziz</td>\n",
              "      <td>1969</td>\n",
              "      <td>1978</td>\n",
              "      <td>C-F</td>\n",
              "      <td>6-9</td>\n",
              "      <td>235.0</td>\n",
              "      <td>April 7, 1946</td>\n",
              "      <td>Iowa State University</td>\n",
              "    </tr>\n",
              "    <tr>\n",
              "      <th>2</th>\n",
              "      <td>Kareem Abdul-Jabbar</td>\n",
              "      <td>1970</td>\n",
              "      <td>1989</td>\n",
              "      <td>C</td>\n",
              "      <td>7-2</td>\n",
              "      <td>225.0</td>\n",
              "      <td>April 16, 1947</td>\n",
              "      <td>University of California, Los Angeles</td>\n",
              "    </tr>\n",
              "    <tr>\n",
              "      <th>3</th>\n",
              "      <td>Mahmoud Abdul-Rauf</td>\n",
              "      <td>1991</td>\n",
              "      <td>2001</td>\n",
              "      <td>G</td>\n",
              "      <td>6-1</td>\n",
              "      <td>162.0</td>\n",
              "      <td>March 9, 1969</td>\n",
              "      <td>Louisiana State University</td>\n",
              "    </tr>\n",
              "    <tr>\n",
              "      <th>4</th>\n",
              "      <td>Tariq Abdul-Wahad</td>\n",
              "      <td>1998</td>\n",
              "      <td>2003</td>\n",
              "      <td>F</td>\n",
              "      <td>6-6</td>\n",
              "      <td>223.0</td>\n",
              "      <td>November 3, 1974</td>\n",
              "      <td>San Jose State University</td>\n",
              "    </tr>\n",
              "    <tr>\n",
              "      <th>...</th>\n",
              "      <td>...</td>\n",
              "      <td>...</td>\n",
              "      <td>...</td>\n",
              "      <td>...</td>\n",
              "      <td>...</td>\n",
              "      <td>...</td>\n",
              "      <td>...</td>\n",
              "      <td>...</td>\n",
              "    </tr>\n",
              "    <tr>\n",
              "      <th>4545</th>\n",
              "      <td>Ante Zizic</td>\n",
              "      <td>2018</td>\n",
              "      <td>2018</td>\n",
              "      <td>F-C</td>\n",
              "      <td>6-11</td>\n",
              "      <td>250.0</td>\n",
              "      <td>January 4, 1997</td>\n",
              "      <td>NaN</td>\n",
              "    </tr>\n",
              "    <tr>\n",
              "      <th>4546</th>\n",
              "      <td>Jim Zoet</td>\n",
              "      <td>1983</td>\n",
              "      <td>1983</td>\n",
              "      <td>C</td>\n",
              "      <td>7-1</td>\n",
              "      <td>240.0</td>\n",
              "      <td>December 20, 1953</td>\n",
              "      <td>Kent State University</td>\n",
              "    </tr>\n",
              "    <tr>\n",
              "      <th>4547</th>\n",
              "      <td>Bill Zopf</td>\n",
              "      <td>1971</td>\n",
              "      <td>1971</td>\n",
              "      <td>G</td>\n",
              "      <td>6-1</td>\n",
              "      <td>170.0</td>\n",
              "      <td>June 7, 1948</td>\n",
              "      <td>Duquesne University</td>\n",
              "    </tr>\n",
              "    <tr>\n",
              "      <th>4548</th>\n",
              "      <td>Ivica Zubac</td>\n",
              "      <td>2017</td>\n",
              "      <td>2018</td>\n",
              "      <td>C</td>\n",
              "      <td>7-1</td>\n",
              "      <td>265.0</td>\n",
              "      <td>March 18, 1997</td>\n",
              "      <td>NaN</td>\n",
              "    </tr>\n",
              "    <tr>\n",
              "      <th>4549</th>\n",
              "      <td>Matt Zunic</td>\n",
              "      <td>1949</td>\n",
              "      <td>1949</td>\n",
              "      <td>G-F</td>\n",
              "      <td>6-3</td>\n",
              "      <td>195.0</td>\n",
              "      <td>December 19, 1919</td>\n",
              "      <td>George Washington University</td>\n",
              "    </tr>\n",
              "  </tbody>\n",
              "</table>\n",
              "<p>4550 rows × 8 columns</p>\n",
              "</div>"
            ],
            "text/plain": [
              "                   Player  year_start  year_end position height  weight  \\\n",
              "0          Alaa Abdelnaby        1991      1995      F-C   6-10   240.0   \n",
              "1         Zaid Abdul-Aziz        1969      1978      C-F    6-9   235.0   \n",
              "2     Kareem Abdul-Jabbar        1970      1989        C    7-2   225.0   \n",
              "3      Mahmoud Abdul-Rauf        1991      2001        G    6-1   162.0   \n",
              "4       Tariq Abdul-Wahad        1998      2003        F    6-6   223.0   \n",
              "...                   ...         ...       ...      ...    ...     ...   \n",
              "4545           Ante Zizic        2018      2018      F-C   6-11   250.0   \n",
              "4546             Jim Zoet        1983      1983        C    7-1   240.0   \n",
              "4547            Bill Zopf        1971      1971        G    6-1   170.0   \n",
              "4548          Ivica Zubac        2017      2018        C    7-1   265.0   \n",
              "4549           Matt Zunic        1949      1949      G-F    6-3   195.0   \n",
              "\n",
              "             birth_date                                college  \n",
              "0         June 24, 1968                        Duke University  \n",
              "1         April 7, 1946                  Iowa State University  \n",
              "2        April 16, 1947  University of California, Los Angeles  \n",
              "3         March 9, 1969             Louisiana State University  \n",
              "4      November 3, 1974              San Jose State University  \n",
              "...                 ...                                    ...  \n",
              "4545    January 4, 1997                                    NaN  \n",
              "4546  December 20, 1953                  Kent State University  \n",
              "4547       June 7, 1948                    Duquesne University  \n",
              "4548     March 18, 1997                                    NaN  \n",
              "4549  December 19, 1919           George Washington University  \n",
              "\n",
              "[4550 rows x 8 columns]"
            ]
          },
          "execution_count": 29,
          "metadata": {},
          "output_type": "execute_result"
        }
      ],
      "source": [
        "# Renombrar la columna name por Player.\n",
        "\n",
        "df_data = df_player_data.rename(columns = {'name':'Player'})\n",
        "df_data"
      ]
    },
    {
      "cell_type": "code",
      "execution_count": 30,
      "metadata": {
        "colab": {
          "base_uri": "https://localhost:8080/",
          "height": 340
        },
        "id": "WAScAwaaB7La",
        "outputId": "71e4ad22-f2df-4934-dde9-ed23e12658d8"
      },
      "outputs": [
        {
          "data": {
            "text/html": [
              "<div>\n",
              "<style scoped>\n",
              "    .dataframe tbody tr th:only-of-type {\n",
              "        vertical-align: middle;\n",
              "    }\n",
              "\n",
              "    .dataframe tbody tr th {\n",
              "        vertical-align: top;\n",
              "    }\n",
              "\n",
              "    .dataframe thead th {\n",
              "        text-align: right;\n",
              "    }\n",
              "</style>\n",
              "<table border=\"1\" class=\"dataframe\">\n",
              "  <thead>\n",
              "    <tr style=\"text-align: right;\">\n",
              "      <th></th>\n",
              "      <th>Unnamed: 0_x</th>\n",
              "      <th>Player</th>\n",
              "      <th>height_x</th>\n",
              "      <th>weight_x</th>\n",
              "      <th>collage</th>\n",
              "      <th>born</th>\n",
              "      <th>birth_city</th>\n",
              "      <th>birth_state</th>\n",
              "      <th>year_start</th>\n",
              "      <th>year_end</th>\n",
              "      <th>...</th>\n",
              "      <th>FT%</th>\n",
              "      <th>ORB</th>\n",
              "      <th>DRB</th>\n",
              "      <th>TRB</th>\n",
              "      <th>AST</th>\n",
              "      <th>STL</th>\n",
              "      <th>BLK</th>\n",
              "      <th>TOV</th>\n",
              "      <th>PF</th>\n",
              "      <th>PTS</th>\n",
              "    </tr>\n",
              "  </thead>\n",
              "  <tbody>\n",
              "    <tr>\n",
              "      <th>0</th>\n",
              "      <td>0</td>\n",
              "      <td>Curly Armstrong</td>\n",
              "      <td>180.0</td>\n",
              "      <td>77.0</td>\n",
              "      <td>Indiana University</td>\n",
              "      <td>1918.0</td>\n",
              "      <td>NaN</td>\n",
              "      <td>NaN</td>\n",
              "      <td>1949</td>\n",
              "      <td>1951</td>\n",
              "      <td>...</td>\n",
              "      <td>0.705</td>\n",
              "      <td>NaN</td>\n",
              "      <td>NaN</td>\n",
              "      <td>NaN</td>\n",
              "      <td>176.0</td>\n",
              "      <td>NaN</td>\n",
              "      <td>NaN</td>\n",
              "      <td>NaN</td>\n",
              "      <td>217.0</td>\n",
              "      <td>458.0</td>\n",
              "    </tr>\n",
              "    <tr>\n",
              "      <th>1</th>\n",
              "      <td>0</td>\n",
              "      <td>Curly Armstrong</td>\n",
              "      <td>180.0</td>\n",
              "      <td>77.0</td>\n",
              "      <td>Indiana University</td>\n",
              "      <td>1918.0</td>\n",
              "      <td>NaN</td>\n",
              "      <td>NaN</td>\n",
              "      <td>1949</td>\n",
              "      <td>1951</td>\n",
              "      <td>...</td>\n",
              "      <td>0.644</td>\n",
              "      <td>NaN</td>\n",
              "      <td>NaN</td>\n",
              "      <td>89.0</td>\n",
              "      <td>77.0</td>\n",
              "      <td>NaN</td>\n",
              "      <td>NaN</td>\n",
              "      <td>NaN</td>\n",
              "      <td>97.0</td>\n",
              "      <td>202.0</td>\n",
              "    </tr>\n",
              "    <tr>\n",
              "      <th>2</th>\n",
              "      <td>1</td>\n",
              "      <td>Cliff Barker</td>\n",
              "      <td>188.0</td>\n",
              "      <td>83.0</td>\n",
              "      <td>University of Kentucky</td>\n",
              "      <td>1921.0</td>\n",
              "      <td>Yorktown</td>\n",
              "      <td>Indiana</td>\n",
              "      <td>1950</td>\n",
              "      <td>1952</td>\n",
              "      <td>...</td>\n",
              "      <td>0.708</td>\n",
              "      <td>NaN</td>\n",
              "      <td>NaN</td>\n",
              "      <td>NaN</td>\n",
              "      <td>109.0</td>\n",
              "      <td>NaN</td>\n",
              "      <td>NaN</td>\n",
              "      <td>NaN</td>\n",
              "      <td>99.0</td>\n",
              "      <td>279.0</td>\n",
              "    </tr>\n",
              "    <tr>\n",
              "      <th>3</th>\n",
              "      <td>1</td>\n",
              "      <td>Cliff Barker</td>\n",
              "      <td>188.0</td>\n",
              "      <td>83.0</td>\n",
              "      <td>University of Kentucky</td>\n",
              "      <td>1921.0</td>\n",
              "      <td>Yorktown</td>\n",
              "      <td>Indiana</td>\n",
              "      <td>1950</td>\n",
              "      <td>1952</td>\n",
              "      <td>...</td>\n",
              "      <td>0.649</td>\n",
              "      <td>NaN</td>\n",
              "      <td>NaN</td>\n",
              "      <td>100.0</td>\n",
              "      <td>115.0</td>\n",
              "      <td>NaN</td>\n",
              "      <td>NaN</td>\n",
              "      <td>NaN</td>\n",
              "      <td>98.0</td>\n",
              "      <td>152.0</td>\n",
              "    </tr>\n",
              "    <tr>\n",
              "      <th>4</th>\n",
              "      <td>1</td>\n",
              "      <td>Cliff Barker</td>\n",
              "      <td>188.0</td>\n",
              "      <td>83.0</td>\n",
              "      <td>University of Kentucky</td>\n",
              "      <td>1921.0</td>\n",
              "      <td>Yorktown</td>\n",
              "      <td>Indiana</td>\n",
              "      <td>1950</td>\n",
              "      <td>1952</td>\n",
              "      <td>...</td>\n",
              "      <td>0.588</td>\n",
              "      <td>NaN</td>\n",
              "      <td>NaN</td>\n",
              "      <td>81.0</td>\n",
              "      <td>70.0</td>\n",
              "      <td>NaN</td>\n",
              "      <td>NaN</td>\n",
              "      <td>NaN</td>\n",
              "      <td>56.0</td>\n",
              "      <td>126.0</td>\n",
              "    </tr>\n",
              "  </tbody>\n",
              "</table>\n",
              "<p>5 rows × 67 columns</p>\n",
              "</div>"
            ],
            "text/plain": [
              "   Unnamed: 0_x           Player  height_x  weight_x                 collage  \\\n",
              "0             0  Curly Armstrong     180.0      77.0      Indiana University   \n",
              "1             0  Curly Armstrong     180.0      77.0      Indiana University   \n",
              "2             1     Cliff Barker     188.0      83.0  University of Kentucky   \n",
              "3             1     Cliff Barker     188.0      83.0  University of Kentucky   \n",
              "4             1     Cliff Barker     188.0      83.0  University of Kentucky   \n",
              "\n",
              "     born birth_city birth_state  year_start  year_end  ...    FT% ORB  DRB  \\\n",
              "0  1918.0        NaN         NaN        1949      1951  ...  0.705 NaN  NaN   \n",
              "1  1918.0        NaN         NaN        1949      1951  ...  0.644 NaN  NaN   \n",
              "2  1921.0   Yorktown     Indiana        1950      1952  ...  0.708 NaN  NaN   \n",
              "3  1921.0   Yorktown     Indiana        1950      1952  ...  0.649 NaN  NaN   \n",
              "4  1921.0   Yorktown     Indiana        1950      1952  ...  0.588 NaN  NaN   \n",
              "\n",
              "     TRB    AST  STL  BLK TOV     PF    PTS  \n",
              "0    NaN  176.0  NaN  NaN NaN  217.0  458.0  \n",
              "1   89.0   77.0  NaN  NaN NaN   97.0  202.0  \n",
              "2    NaN  109.0  NaN  NaN NaN   99.0  279.0  \n",
              "3  100.0  115.0  NaN  NaN NaN   98.0  152.0  \n",
              "4   81.0   70.0  NaN  NaN NaN   56.0  126.0  \n",
              "\n",
              "[5 rows x 67 columns]"
            ]
          },
          "execution_count": 30,
          "metadata": {},
          "output_type": "execute_result"
        }
      ],
      "source": [
        "# Unión de los tres Dataframe por Player.\n",
        "\n",
        "df_ply_data = pd.merge(df_players, df_data, on= 'Player')\n",
        "df_info_all = pd.merge(df_ply_data, df_season_stats, on='Player')\n",
        "df_info_all.head()"
      ]
    },
    {
      "cell_type": "code",
      "execution_count": 31,
      "metadata": {
        "colab": {
          "base_uri": "https://localhost:8080/"
        },
        "id": "ioDe1q9dDcNQ",
        "outputId": "288e8356-50cc-4f98-d174-e86717eb0e8c"
      },
      "outputs": [
        {
          "data": {
            "text/plain": [
              "Index(['Unnamed: 0_x', 'Player', 'height_x', 'weight_x', 'collage', 'born',\n",
              "       'birth_city', 'birth_state', 'year_start', 'year_end', 'position',\n",
              "       'height_y', 'weight_y', 'birth_date', 'college', 'Unnamed: 0_y', 'Year',\n",
              "       'Pos', 'Age', 'Tm', 'G', 'GS', 'MP', 'PER', 'TS%', '3PAr', 'FTr',\n",
              "       'ORB%', 'DRB%', 'TRB%', 'AST%', 'STL%', 'BLK%', 'TOV%', 'USG%', 'blanl',\n",
              "       'OWS', 'DWS', 'WS', 'WS/48', 'blank2', 'OBPM', 'DBPM', 'BPM', 'VORP',\n",
              "       'FG', 'FGA', 'FG%', '3P', '3PA', '3P%', '2P', '2PA', '2P%', 'eFG%',\n",
              "       'FT', 'FTA', 'FT%', 'ORB', 'DRB', 'TRB', 'AST', 'STL', 'BLK', 'TOV',\n",
              "       'PF', 'PTS'],\n",
              "      dtype='object')"
            ]
          },
          "execution_count": 31,
          "metadata": {},
          "output_type": "execute_result"
        }
      ],
      "source": [
        "df_info_all.columns"
      ]
    },
    {
      "cell_type": "code",
      "execution_count": 32,
      "metadata": {
        "colab": {
          "base_uri": "https://localhost:8080/"
        },
        "id": "HQD1K7yq2n8p",
        "outputId": "5f691df2-9030-4a40-f642-ef615d7a510d"
      },
      "outputs": [
        {
          "data": {
            "text/plain": [
              "(23468, 67)"
            ]
          },
          "execution_count": 32,
          "metadata": {},
          "output_type": "execute_result"
        }
      ],
      "source": [
        "df_info_all.shape"
      ]
    },
    {
      "cell_type": "markdown",
      "metadata": {
        "id": "LzfbvXGbMW6P"
      },
      "source": [
        "LIMPIEZA DATA FRAME"
      ]
    },
    {
      "cell_type": "code",
      "execution_count": 33,
      "metadata": {
        "id": "I-O_6fwuMadn"
      },
      "outputs": [],
      "source": [
        "# Eliminar los NaN del dataframe\n",
        "\n",
        "df_clean = df_info_all.fillna(0)"
      ]
    },
    {
      "cell_type": "code",
      "execution_count": 34,
      "metadata": {
        "id": "tOmvITyRNrjH"
      },
      "outputs": [],
      "source": [
        "# Eliminando las columnas height_y(pies) y weight_y(libras)\n",
        "\n",
        "df_clean = df_clean.drop(['height_y','weight_y'], axis=1)"
      ]
    },
    {
      "cell_type": "code",
      "execution_count": 35,
      "metadata": {
        "id": "laCfOGVwNsmO"
      },
      "outputs": [],
      "source": [
        "# Eliminando columnas no necesarias para la investigación\n",
        "\n",
        "df_clean = df_clean.drop(['birth_city','birth_state','collage','born','Unnamed: 0_y','Unnamed: 0_x'], axis=1)"
      ]
    },
    {
      "cell_type": "code",
      "execution_count": 36,
      "metadata": {
        "id": "xrtPgcrDNveD"
      },
      "outputs": [],
      "source": [
        "df_clean=df_clean.drop(['college'], axis=1)"
      ]
    },
    {
      "cell_type": "code",
      "execution_count": 37,
      "metadata": {
        "colab": {
          "base_uri": "https://localhost:8080/"
        },
        "id": "Jj3JwtyWN47w",
        "outputId": "29bb96c6-0d8d-4b09-f39a-d19511c45b83"
      },
      "outputs": [
        {
          "data": {
            "text/plain": [
              "Index(['Player', 'height_x', 'weight_x', 'year_start', 'year_end', 'position',\n",
              "       'birth_date', 'Year', 'Pos', 'Age', 'Tm', 'G', 'GS', 'MP', 'PER', 'TS%',\n",
              "       '3PAr', 'FTr', 'ORB%', 'DRB%', 'TRB%', 'AST%', 'STL%', 'BLK%', 'TOV%',\n",
              "       'USG%', 'blanl', 'OWS', 'DWS', 'WS', 'WS/48', 'blank2', 'OBPM', 'DBPM',\n",
              "       'BPM', 'VORP', 'FG', 'FGA', 'FG%', '3P', '3PA', '3P%', '2P', '2PA',\n",
              "       '2P%', 'eFG%', 'FT', 'FTA', 'FT%', 'ORB', 'DRB', 'TRB', 'AST', 'STL',\n",
              "       'BLK', 'TOV', 'PF', 'PTS'],\n",
              "      dtype='object')"
            ]
          },
          "execution_count": 37,
          "metadata": {},
          "output_type": "execute_result"
        }
      ],
      "source": [
        "# Columnas con las que se trabajará\n",
        "\n",
        "df_clean.columns"
      ]
    },
    {
      "cell_type": "code",
      "execution_count": 38,
      "metadata": {
        "colab": {
          "base_uri": "https://localhost:8080/",
          "height": 493
        },
        "id": "W-ruJIYBN8B4",
        "outputId": "e194ec73-b1ca-4d9a-8814-7488f4a63a6d"
      },
      "outputs": [
        {
          "data": {
            "text/html": [
              "<div>\n",
              "<style scoped>\n",
              "    .dataframe tbody tr th:only-of-type {\n",
              "        vertical-align: middle;\n",
              "    }\n",
              "\n",
              "    .dataframe tbody tr th {\n",
              "        vertical-align: top;\n",
              "    }\n",
              "\n",
              "    .dataframe thead th {\n",
              "        text-align: right;\n",
              "    }\n",
              "</style>\n",
              "<table border=\"1\" class=\"dataframe\">\n",
              "  <thead>\n",
              "    <tr style=\"text-align: right;\">\n",
              "      <th></th>\n",
              "      <th>Player</th>\n",
              "      <th>height_x</th>\n",
              "      <th>weight_x</th>\n",
              "      <th>year_start</th>\n",
              "      <th>year_end</th>\n",
              "      <th>position</th>\n",
              "      <th>birth_date</th>\n",
              "      <th>Year</th>\n",
              "      <th>Pos</th>\n",
              "      <th>Age</th>\n",
              "      <th>...</th>\n",
              "      <th>FT%</th>\n",
              "      <th>ORB</th>\n",
              "      <th>DRB</th>\n",
              "      <th>TRB</th>\n",
              "      <th>AST</th>\n",
              "      <th>STL</th>\n",
              "      <th>BLK</th>\n",
              "      <th>TOV</th>\n",
              "      <th>PF</th>\n",
              "      <th>PTS</th>\n",
              "    </tr>\n",
              "  </thead>\n",
              "  <tbody>\n",
              "    <tr>\n",
              "      <th>0</th>\n",
              "      <td>Curly Armstrong</td>\n",
              "      <td>180.0</td>\n",
              "      <td>77.0</td>\n",
              "      <td>1949</td>\n",
              "      <td>1951</td>\n",
              "      <td>G-F</td>\n",
              "      <td>November 1, 1918</td>\n",
              "      <td>1950.0</td>\n",
              "      <td>G-F</td>\n",
              "      <td>31.0</td>\n",
              "      <td>...</td>\n",
              "      <td>0.705</td>\n",
              "      <td>0.0</td>\n",
              "      <td>0.0</td>\n",
              "      <td>0.0</td>\n",
              "      <td>176.0</td>\n",
              "      <td>0.0</td>\n",
              "      <td>0.0</td>\n",
              "      <td>0.0</td>\n",
              "      <td>217.0</td>\n",
              "      <td>458.0</td>\n",
              "    </tr>\n",
              "    <tr>\n",
              "      <th>1</th>\n",
              "      <td>Curly Armstrong</td>\n",
              "      <td>180.0</td>\n",
              "      <td>77.0</td>\n",
              "      <td>1949</td>\n",
              "      <td>1951</td>\n",
              "      <td>G-F</td>\n",
              "      <td>November 1, 1918</td>\n",
              "      <td>1951.0</td>\n",
              "      <td>G-F</td>\n",
              "      <td>32.0</td>\n",
              "      <td>...</td>\n",
              "      <td>0.644</td>\n",
              "      <td>0.0</td>\n",
              "      <td>0.0</td>\n",
              "      <td>89.0</td>\n",
              "      <td>77.0</td>\n",
              "      <td>0.0</td>\n",
              "      <td>0.0</td>\n",
              "      <td>0.0</td>\n",
              "      <td>97.0</td>\n",
              "      <td>202.0</td>\n",
              "    </tr>\n",
              "    <tr>\n",
              "      <th>2</th>\n",
              "      <td>Cliff Barker</td>\n",
              "      <td>188.0</td>\n",
              "      <td>83.0</td>\n",
              "      <td>1950</td>\n",
              "      <td>1952</td>\n",
              "      <td>G</td>\n",
              "      <td>January 15, 1921</td>\n",
              "      <td>1950.0</td>\n",
              "      <td>SG</td>\n",
              "      <td>29.0</td>\n",
              "      <td>...</td>\n",
              "      <td>0.708</td>\n",
              "      <td>0.0</td>\n",
              "      <td>0.0</td>\n",
              "      <td>0.0</td>\n",
              "      <td>109.0</td>\n",
              "      <td>0.0</td>\n",
              "      <td>0.0</td>\n",
              "      <td>0.0</td>\n",
              "      <td>99.0</td>\n",
              "      <td>279.0</td>\n",
              "    </tr>\n",
              "    <tr>\n",
              "      <th>3</th>\n",
              "      <td>Cliff Barker</td>\n",
              "      <td>188.0</td>\n",
              "      <td>83.0</td>\n",
              "      <td>1950</td>\n",
              "      <td>1952</td>\n",
              "      <td>G</td>\n",
              "      <td>January 15, 1921</td>\n",
              "      <td>1951.0</td>\n",
              "      <td>SG</td>\n",
              "      <td>30.0</td>\n",
              "      <td>...</td>\n",
              "      <td>0.649</td>\n",
              "      <td>0.0</td>\n",
              "      <td>0.0</td>\n",
              "      <td>100.0</td>\n",
              "      <td>115.0</td>\n",
              "      <td>0.0</td>\n",
              "      <td>0.0</td>\n",
              "      <td>0.0</td>\n",
              "      <td>98.0</td>\n",
              "      <td>152.0</td>\n",
              "    </tr>\n",
              "    <tr>\n",
              "      <th>4</th>\n",
              "      <td>Cliff Barker</td>\n",
              "      <td>188.0</td>\n",
              "      <td>83.0</td>\n",
              "      <td>1950</td>\n",
              "      <td>1952</td>\n",
              "      <td>G</td>\n",
              "      <td>January 15, 1921</td>\n",
              "      <td>1952.0</td>\n",
              "      <td>SG</td>\n",
              "      <td>31.0</td>\n",
              "      <td>...</td>\n",
              "      <td>0.588</td>\n",
              "      <td>0.0</td>\n",
              "      <td>0.0</td>\n",
              "      <td>81.0</td>\n",
              "      <td>70.0</td>\n",
              "      <td>0.0</td>\n",
              "      <td>0.0</td>\n",
              "      <td>0.0</td>\n",
              "      <td>56.0</td>\n",
              "      <td>126.0</td>\n",
              "    </tr>\n",
              "    <tr>\n",
              "      <th>...</th>\n",
              "      <td>...</td>\n",
              "      <td>...</td>\n",
              "      <td>...</td>\n",
              "      <td>...</td>\n",
              "      <td>...</td>\n",
              "      <td>...</td>\n",
              "      <td>...</td>\n",
              "      <td>...</td>\n",
              "      <td>...</td>\n",
              "      <td>...</td>\n",
              "      <td>...</td>\n",
              "      <td>...</td>\n",
              "      <td>...</td>\n",
              "      <td>...</td>\n",
              "      <td>...</td>\n",
              "      <td>...</td>\n",
              "      <td>...</td>\n",
              "      <td>...</td>\n",
              "      <td>...</td>\n",
              "      <td>...</td>\n",
              "      <td>...</td>\n",
              "    </tr>\n",
              "    <tr>\n",
              "      <th>23463</th>\n",
              "      <td>Troy Williams</td>\n",
              "      <td>198.0</td>\n",
              "      <td>97.0</td>\n",
              "      <td>2017</td>\n",
              "      <td>2018</td>\n",
              "      <td>F</td>\n",
              "      <td>December 30, 1994</td>\n",
              "      <td>2017.0</td>\n",
              "      <td>SF</td>\n",
              "      <td>22.0</td>\n",
              "      <td>...</td>\n",
              "      <td>0.857</td>\n",
              "      <td>9.0</td>\n",
              "      <td>15.0</td>\n",
              "      <td>24.0</td>\n",
              "      <td>6.0</td>\n",
              "      <td>3.0</td>\n",
              "      <td>1.0</td>\n",
              "      <td>6.0</td>\n",
              "      <td>18.0</td>\n",
              "      <td>58.0</td>\n",
              "    </tr>\n",
              "    <tr>\n",
              "      <th>23464</th>\n",
              "      <td>Kyle Wiltjer</td>\n",
              "      <td>208.0</td>\n",
              "      <td>108.0</td>\n",
              "      <td>2017</td>\n",
              "      <td>2017</td>\n",
              "      <td>F</td>\n",
              "      <td>October 20, 1992</td>\n",
              "      <td>2017.0</td>\n",
              "      <td>PF</td>\n",
              "      <td>24.0</td>\n",
              "      <td>...</td>\n",
              "      <td>0.500</td>\n",
              "      <td>4.0</td>\n",
              "      <td>6.0</td>\n",
              "      <td>10.0</td>\n",
              "      <td>2.0</td>\n",
              "      <td>3.0</td>\n",
              "      <td>1.0</td>\n",
              "      <td>5.0</td>\n",
              "      <td>4.0</td>\n",
              "      <td>13.0</td>\n",
              "    </tr>\n",
              "    <tr>\n",
              "      <th>23465</th>\n",
              "      <td>Stephen Zimmerman</td>\n",
              "      <td>213.0</td>\n",
              "      <td>108.0</td>\n",
              "      <td>2017</td>\n",
              "      <td>2017</td>\n",
              "      <td>C</td>\n",
              "      <td>September 9, 1996</td>\n",
              "      <td>2017.0</td>\n",
              "      <td>C</td>\n",
              "      <td>20.0</td>\n",
              "      <td>...</td>\n",
              "      <td>0.600</td>\n",
              "      <td>11.0</td>\n",
              "      <td>24.0</td>\n",
              "      <td>35.0</td>\n",
              "      <td>4.0</td>\n",
              "      <td>2.0</td>\n",
              "      <td>5.0</td>\n",
              "      <td>3.0</td>\n",
              "      <td>17.0</td>\n",
              "      <td>23.0</td>\n",
              "    </tr>\n",
              "    <tr>\n",
              "      <th>23466</th>\n",
              "      <td>Paul Zipser</td>\n",
              "      <td>203.0</td>\n",
              "      <td>97.0</td>\n",
              "      <td>2017</td>\n",
              "      <td>2018</td>\n",
              "      <td>G-F</td>\n",
              "      <td>February 18, 1994</td>\n",
              "      <td>2017.0</td>\n",
              "      <td>SF</td>\n",
              "      <td>22.0</td>\n",
              "      <td>...</td>\n",
              "      <td>0.775</td>\n",
              "      <td>15.0</td>\n",
              "      <td>110.0</td>\n",
              "      <td>125.0</td>\n",
              "      <td>36.0</td>\n",
              "      <td>15.0</td>\n",
              "      <td>16.0</td>\n",
              "      <td>40.0</td>\n",
              "      <td>78.0</td>\n",
              "      <td>240.0</td>\n",
              "    </tr>\n",
              "    <tr>\n",
              "      <th>23467</th>\n",
              "      <td>Ivica Zubac</td>\n",
              "      <td>216.0</td>\n",
              "      <td>120.0</td>\n",
              "      <td>2017</td>\n",
              "      <td>2018</td>\n",
              "      <td>C</td>\n",
              "      <td>March 18, 1997</td>\n",
              "      <td>2017.0</td>\n",
              "      <td>C</td>\n",
              "      <td>19.0</td>\n",
              "      <td>...</td>\n",
              "      <td>0.653</td>\n",
              "      <td>41.0</td>\n",
              "      <td>118.0</td>\n",
              "      <td>159.0</td>\n",
              "      <td>30.0</td>\n",
              "      <td>14.0</td>\n",
              "      <td>33.0</td>\n",
              "      <td>30.0</td>\n",
              "      <td>66.0</td>\n",
              "      <td>284.0</td>\n",
              "    </tr>\n",
              "  </tbody>\n",
              "</table>\n",
              "<p>23468 rows × 58 columns</p>\n",
              "</div>"
            ],
            "text/plain": [
              "                  Player  height_x  weight_x  year_start  year_end position  \\\n",
              "0        Curly Armstrong     180.0      77.0        1949      1951      G-F   \n",
              "1        Curly Armstrong     180.0      77.0        1949      1951      G-F   \n",
              "2           Cliff Barker     188.0      83.0        1950      1952        G   \n",
              "3           Cliff Barker     188.0      83.0        1950      1952        G   \n",
              "4           Cliff Barker     188.0      83.0        1950      1952        G   \n",
              "...                  ...       ...       ...         ...       ...      ...   \n",
              "23463      Troy Williams     198.0      97.0        2017      2018        F   \n",
              "23464       Kyle Wiltjer     208.0     108.0        2017      2017        F   \n",
              "23465  Stephen Zimmerman     213.0     108.0        2017      2017        C   \n",
              "23466        Paul Zipser     203.0      97.0        2017      2018      G-F   \n",
              "23467        Ivica Zubac     216.0     120.0        2017      2018        C   \n",
              "\n",
              "              birth_date    Year  Pos   Age  ...    FT%   ORB    DRB    TRB  \\\n",
              "0       November 1, 1918  1950.0  G-F  31.0  ...  0.705   0.0    0.0    0.0   \n",
              "1       November 1, 1918  1951.0  G-F  32.0  ...  0.644   0.0    0.0   89.0   \n",
              "2       January 15, 1921  1950.0   SG  29.0  ...  0.708   0.0    0.0    0.0   \n",
              "3       January 15, 1921  1951.0   SG  30.0  ...  0.649   0.0    0.0  100.0   \n",
              "4       January 15, 1921  1952.0   SG  31.0  ...  0.588   0.0    0.0   81.0   \n",
              "...                  ...     ...  ...   ...  ...    ...   ...    ...    ...   \n",
              "23463  December 30, 1994  2017.0   SF  22.0  ...  0.857   9.0   15.0   24.0   \n",
              "23464   October 20, 1992  2017.0   PF  24.0  ...  0.500   4.0    6.0   10.0   \n",
              "23465  September 9, 1996  2017.0    C  20.0  ...  0.600  11.0   24.0   35.0   \n",
              "23466  February 18, 1994  2017.0   SF  22.0  ...  0.775  15.0  110.0  125.0   \n",
              "23467     March 18, 1997  2017.0    C  19.0  ...  0.653  41.0  118.0  159.0   \n",
              "\n",
              "         AST   STL   BLK   TOV     PF    PTS  \n",
              "0      176.0   0.0   0.0   0.0  217.0  458.0  \n",
              "1       77.0   0.0   0.0   0.0   97.0  202.0  \n",
              "2      109.0   0.0   0.0   0.0   99.0  279.0  \n",
              "3      115.0   0.0   0.0   0.0   98.0  152.0  \n",
              "4       70.0   0.0   0.0   0.0   56.0  126.0  \n",
              "...      ...   ...   ...   ...    ...    ...  \n",
              "23463    6.0   3.0   1.0   6.0   18.0   58.0  \n",
              "23464    2.0   3.0   1.0   5.0    4.0   13.0  \n",
              "23465    4.0   2.0   5.0   3.0   17.0   23.0  \n",
              "23466   36.0  15.0  16.0  40.0   78.0  240.0  \n",
              "23467   30.0  14.0  33.0  30.0   66.0  284.0  \n",
              "\n",
              "[23468 rows x 58 columns]"
            ]
          },
          "execution_count": 38,
          "metadata": {},
          "output_type": "execute_result"
        }
      ],
      "source": [
        "# DATAFRAME LIMPIO Y LISTO PARA TRABAJAR\n",
        "\n",
        "df_clean"
      ]
    },
    {
      "cell_type": "code",
      "execution_count": 39,
      "metadata": {
        "id": "VdadVeGvOAbf"
      },
      "outputs": [],
      "source": [
        "# Extraer DataFrame limpio a csv\n",
        "\n",
        "#df_clean.to_csv('data_clean.csv')"
      ]
    },
    {
      "cell_type": "code",
      "execution_count": 40,
      "metadata": {
        "colab": {
          "base_uri": "https://localhost:8080/"
        },
        "id": "vHOp4olGOC7j",
        "outputId": "f8d20d11-e368-42cb-b3fd-8cd245a58f28"
      },
      "outputs": [
        {
          "data": {
            "text/plain": [
              "0        0.000\n",
              "1        0.000\n",
              "2        0.000\n",
              "3        0.000\n",
              "4        0.000\n",
              "         ...  \n",
              "23463    0.381\n",
              "23464    0.308\n",
              "23465    0.000\n",
              "23466    0.333\n",
              "23467    0.000\n",
              "Name: 3P%, Length: 23468, dtype: float64"
            ]
          },
          "execution_count": 40,
          "metadata": {},
          "output_type": "execute_result"
        }
      ],
      "source": [
        "porcentaje_3P = df_clean['3P%']\n",
        "porcentaje_3P"
      ]
    },
    {
      "cell_type": "code",
      "execution_count": 41,
      "metadata": {
        "colab": {
          "base_uri": "https://localhost:8080/"
        },
        "id": "TF_tmXcEOFPE",
        "outputId": "deb26644-d29e-4484-c40c-8337115d2e8f"
      },
      "outputs": [
        {
          "data": {
            "text/plain": [
              "[1950.0,\n",
              " 1951.0,\n",
              " 1952.0,\n",
              " 1953.0,\n",
              " 1954.0,\n",
              " 1955.0,\n",
              " 1956.0,\n",
              " 1957.0,\n",
              " 1958.0,\n",
              " 1959.0,\n",
              " 1960.0,\n",
              " 1961.0,\n",
              " 1962.0,\n",
              " 1963.0,\n",
              " 1964.0,\n",
              " 1965.0,\n",
              " 1966.0,\n",
              " 1967.0,\n",
              " 1968.0,\n",
              " 1969.0,\n",
              " 1970.0,\n",
              " 1971.0,\n",
              " 1972.0,\n",
              " 1973.0,\n",
              " 1974.0,\n",
              " 1975.0,\n",
              " 1976.0,\n",
              " 1977.0,\n",
              " 1978.0,\n",
              " 1979.0,\n",
              " 1980.0,\n",
              " 1981.0,\n",
              " 1982.0,\n",
              " 1983.0,\n",
              " 1984.0,\n",
              " 1985.0,\n",
              " 1986.0,\n",
              " 1987.0,\n",
              " 1988.0,\n",
              " 1989.0,\n",
              " 1990.0,\n",
              " 1991.0,\n",
              " 1992.0,\n",
              " 1993.0,\n",
              " 1994.0,\n",
              " 1995.0,\n",
              " 1996.0,\n",
              " 1997.0,\n",
              " 1998.0,\n",
              " 1999.0,\n",
              " 2000.0,\n",
              " 2001.0,\n",
              " 2002.0,\n",
              " 2003.0,\n",
              " 2004.0,\n",
              " 2005.0,\n",
              " 2006.0,\n",
              " 2007.0,\n",
              " 2008.0,\n",
              " 2009.0,\n",
              " 2010.0,\n",
              " 2011.0,\n",
              " 2012.0,\n",
              " 2013.0,\n",
              " 2014.0,\n",
              " 2015.0,\n",
              " 2016.0,\n",
              " 2017.0]"
            ]
          },
          "execution_count": 41,
          "metadata": {},
          "output_type": "execute_result"
        }
      ],
      "source": [
        "año_temportadas = df_clean['Year'].unique()\n",
        "sorted(año_temportadas)"
      ]
    },
    {
      "cell_type": "code",
      "execution_count": 42,
      "metadata": {
        "colab": {
          "base_uri": "https://localhost:8080/"
        },
        "id": "yBZHZGxTOIH8",
        "outputId": "27166284-c678-4ce6-e7c7-787daddce545"
      },
      "outputs": [
        {
          "data": {
            "text/plain": [
              "Year\n",
              "1950.0    0.000000\n",
              "1951.0    0.000000\n",
              "1952.0    0.000000\n",
              "1953.0    0.000000\n",
              "1954.0    0.000000\n",
              "            ...   \n",
              "2013.0    0.234282\n",
              "2014.0    0.243674\n",
              "2015.0    0.250627\n",
              "2016.0    0.267248\n",
              "2017.0    0.278438\n",
              "Name: 3P%, Length: 68, dtype: float64"
            ]
          },
          "execution_count": 42,
          "metadata": {},
          "output_type": "execute_result"
        }
      ],
      "source": [
        "media_3P_año = df_clean.groupby('Year')['3P%'].mean()\n",
        "media_3P_año"
      ]
    },
    {
      "cell_type": "code",
      "execution_count": 43,
      "metadata": {
        "colab": {
          "base_uri": "https://localhost:8080/",
          "height": 694
        },
        "id": "BnawBhOmOK6X",
        "outputId": "f47390c9-6180-40b2-9687-6c82fbe12411"
      },
      "outputs": [
        {
          "data": {
            "text/plain": [
              "<function matplotlib.pyplot.show(close=None, block=None)>"
            ]
          },
          "execution_count": 43,
          "metadata": {},
          "output_type": "execute_result"
        },
        {
          "data": {
            "image/png": "[encoded data removed]",
            "text/plain": [
              "<Figure size 1080x576 with 1 Axes>"
            ]
          },
          "metadata": {
            "needs_background": "light"
          },
          "output_type": "display_data"
        }
      ],
      "source": [
        "fig, ax = plt.subplots(figsize=(15,8))\n",
        "ax.bar ( x = año_temportadas, height = media_3P_año)\n",
        "plt.show"
      ]
    },
    {
      "cell_type": "code",
      "execution_count": 44,
      "metadata": {
        "colab": {
          "base_uri": "https://localhost:8080/"
        },
        "id": "IUpCT28uOMxn",
        "outputId": "8f647dc6-f87e-462b-9179-71f9b0a4e023"
      },
      "outputs": [
        {
          "data": {
            "text/plain": [
              "Year                  2017.0\n",
              "Player    Zydrunas Ilgauskas\n",
              "3P%                      1.0\n",
              "dtype: object"
            ]
          },
          "execution_count": 44,
          "metadata": {},
          "output_type": "execute_result"
        }
      ],
      "source": [
        "df_clean.loc[:,['Year','Player', '3P%']].max()"
      ]
    },
    {
      "cell_type": "code",
      "execution_count": 45,
      "metadata": {
        "colab": {
          "base_uri": "https://localhost:8080/"
        },
        "id": "VOF2gQCEOPwA",
        "outputId": "5e8cdaa7-aa0c-4e3e-bf2e-bf7457a97ead"
      },
      "outputs": [
        {
          "data": {
            "text/plain": [
              "Player    Zydrunas Ilgauskas\n",
              "3P%                      1.0\n",
              "dtype: object"
            ]
          },
          "execution_count": 45,
          "metadata": {},
          "output_type": "execute_result"
        }
      ],
      "source": [
        "year_2003 = df_clean[df_clean['Year']==2003]\n",
        "porc_3p_2003 = year_2003.loc[:,['Player', '3P%']]\n",
        "porc_3p_2003.max()"
      ]
    },
    {
      "cell_type": "code",
      "execution_count": 46,
      "metadata": {
        "colab": {
          "base_uri": "https://localhost:8080/",
          "height": 235
        },
        "id": "fEOa-CWeORnk",
        "outputId": "652292a8-ca91-49d8-cff0-94149b6c6c8e"
      },
      "outputs": [
        {
          "data": {
            "text/html": [
              "<div>\n",
              "<style scoped>\n",
              "    .dataframe tbody tr th:only-of-type {\n",
              "        vertical-align: middle;\n",
              "    }\n",
              "\n",
              "    .dataframe tbody tr th {\n",
              "        vertical-align: top;\n",
              "    }\n",
              "\n",
              "    .dataframe thead th {\n",
              "        text-align: right;\n",
              "    }\n",
              "</style>\n",
              "<table border=\"1\" class=\"dataframe\">\n",
              "  <thead>\n",
              "    <tr style=\"text-align: right;\">\n",
              "      <th></th>\n",
              "      <th>Player</th>\n",
              "      <th>height_x</th>\n",
              "      <th>weight_x</th>\n",
              "      <th>year_start</th>\n",
              "      <th>year_end</th>\n",
              "      <th>position</th>\n",
              "      <th>birth_date</th>\n",
              "      <th>Year</th>\n",
              "      <th>Pos</th>\n",
              "      <th>Age</th>\n",
              "      <th>...</th>\n",
              "      <th>FT%</th>\n",
              "      <th>ORB</th>\n",
              "      <th>DRB</th>\n",
              "      <th>TRB</th>\n",
              "      <th>AST</th>\n",
              "      <th>STL</th>\n",
              "      <th>BLK</th>\n",
              "      <th>TOV</th>\n",
              "      <th>PF</th>\n",
              "      <th>PTS</th>\n",
              "    </tr>\n",
              "  </thead>\n",
              "  <tbody>\n",
              "    <tr>\n",
              "      <th>0</th>\n",
              "      <td>Curly Armstrong</td>\n",
              "      <td>180.0</td>\n",
              "      <td>77.0</td>\n",
              "      <td>1949</td>\n",
              "      <td>1951</td>\n",
              "      <td>G-F</td>\n",
              "      <td>November 1, 1918</td>\n",
              "      <td>1950.0</td>\n",
              "      <td>G-F</td>\n",
              "      <td>31.0</td>\n",
              "      <td>...</td>\n",
              "      <td>0.705</td>\n",
              "      <td>0.0</td>\n",
              "      <td>0.0</td>\n",
              "      <td>0.0</td>\n",
              "      <td>176.0</td>\n",
              "      <td>0.0</td>\n",
              "      <td>0.0</td>\n",
              "      <td>0.0</td>\n",
              "      <td>217.0</td>\n",
              "      <td>458.0</td>\n",
              "    </tr>\n",
              "    <tr>\n",
              "      <th>1</th>\n",
              "      <td>Curly Armstrong</td>\n",
              "      <td>180.0</td>\n",
              "      <td>77.0</td>\n",
              "      <td>1949</td>\n",
              "      <td>1951</td>\n",
              "      <td>G-F</td>\n",
              "      <td>November 1, 1918</td>\n",
              "      <td>1951.0</td>\n",
              "      <td>G-F</td>\n",
              "      <td>32.0</td>\n",
              "      <td>...</td>\n",
              "      <td>0.644</td>\n",
              "      <td>0.0</td>\n",
              "      <td>0.0</td>\n",
              "      <td>89.0</td>\n",
              "      <td>77.0</td>\n",
              "      <td>0.0</td>\n",
              "      <td>0.0</td>\n",
              "      <td>0.0</td>\n",
              "      <td>97.0</td>\n",
              "      <td>202.0</td>\n",
              "    </tr>\n",
              "    <tr>\n",
              "      <th>2</th>\n",
              "      <td>Cliff Barker</td>\n",
              "      <td>188.0</td>\n",
              "      <td>83.0</td>\n",
              "      <td>1950</td>\n",
              "      <td>1952</td>\n",
              "      <td>G</td>\n",
              "      <td>January 15, 1921</td>\n",
              "      <td>1950.0</td>\n",
              "      <td>SG</td>\n",
              "      <td>29.0</td>\n",
              "      <td>...</td>\n",
              "      <td>0.708</td>\n",
              "      <td>0.0</td>\n",
              "      <td>0.0</td>\n",
              "      <td>0.0</td>\n",
              "      <td>109.0</td>\n",
              "      <td>0.0</td>\n",
              "      <td>0.0</td>\n",
              "      <td>0.0</td>\n",
              "      <td>99.0</td>\n",
              "      <td>279.0</td>\n",
              "    </tr>\n",
              "    <tr>\n",
              "      <th>3</th>\n",
              "      <td>Cliff Barker</td>\n",
              "      <td>188.0</td>\n",
              "      <td>83.0</td>\n",
              "      <td>1950</td>\n",
              "      <td>1952</td>\n",
              "      <td>G</td>\n",
              "      <td>January 15, 1921</td>\n",
              "      <td>1951.0</td>\n",
              "      <td>SG</td>\n",
              "      <td>30.0</td>\n",
              "      <td>...</td>\n",
              "      <td>0.649</td>\n",
              "      <td>0.0</td>\n",
              "      <td>0.0</td>\n",
              "      <td>100.0</td>\n",
              "      <td>115.0</td>\n",
              "      <td>0.0</td>\n",
              "      <td>0.0</td>\n",
              "      <td>0.0</td>\n",
              "      <td>98.0</td>\n",
              "      <td>152.0</td>\n",
              "    </tr>\n",
              "    <tr>\n",
              "      <th>4</th>\n",
              "      <td>Cliff Barker</td>\n",
              "      <td>188.0</td>\n",
              "      <td>83.0</td>\n",
              "      <td>1950</td>\n",
              "      <td>1952</td>\n",
              "      <td>G</td>\n",
              "      <td>January 15, 1921</td>\n",
              "      <td>1952.0</td>\n",
              "      <td>SG</td>\n",
              "      <td>31.0</td>\n",
              "      <td>...</td>\n",
              "      <td>0.588</td>\n",
              "      <td>0.0</td>\n",
              "      <td>0.0</td>\n",
              "      <td>81.0</td>\n",
              "      <td>70.0</td>\n",
              "      <td>0.0</td>\n",
              "      <td>0.0</td>\n",
              "      <td>0.0</td>\n",
              "      <td>56.0</td>\n",
              "      <td>126.0</td>\n",
              "    </tr>\n",
              "  </tbody>\n",
              "</table>\n",
              "<p>5 rows × 58 columns</p>\n",
              "</div>"
            ],
            "text/plain": [
              "            Player  height_x  weight_x  year_start  year_end position  \\\n",
              "0  Curly Armstrong     180.0      77.0        1949      1951      G-F   \n",
              "1  Curly Armstrong     180.0      77.0        1949      1951      G-F   \n",
              "2     Cliff Barker     188.0      83.0        1950      1952        G   \n",
              "3     Cliff Barker     188.0      83.0        1950      1952        G   \n",
              "4     Cliff Barker     188.0      83.0        1950      1952        G   \n",
              "\n",
              "         birth_date    Year  Pos   Age  ...    FT%  ORB  DRB    TRB    AST  \\\n",
              "0  November 1, 1918  1950.0  G-F  31.0  ...  0.705  0.0  0.0    0.0  176.0   \n",
              "1  November 1, 1918  1951.0  G-F  32.0  ...  0.644  0.0  0.0   89.0   77.0   \n",
              "2  January 15, 1921  1950.0   SG  29.0  ...  0.708  0.0  0.0    0.0  109.0   \n",
              "3  January 15, 1921  1951.0   SG  30.0  ...  0.649  0.0  0.0  100.0  115.0   \n",
              "4  January 15, 1921  1952.0   SG  31.0  ...  0.588  0.0  0.0   81.0   70.0   \n",
              "\n",
              "   STL  BLK  TOV     PF    PTS  \n",
              "0  0.0  0.0  0.0  217.0  458.0  \n",
              "1  0.0  0.0  0.0   97.0  202.0  \n",
              "2  0.0  0.0  0.0   99.0  279.0  \n",
              "3  0.0  0.0  0.0   98.0  152.0  \n",
              "4  0.0  0.0  0.0   56.0  126.0  \n",
              "\n",
              "[5 rows x 58 columns]"
            ]
          },
          "execution_count": 46,
          "metadata": {},
          "output_type": "execute_result"
        }
      ],
      "source": [
        "df_clean_copy = df_clean.copy()\n",
        "df_clean_copy.head()"
      ]
    },
    {
      "cell_type": "code",
      "execution_count": 47,
      "metadata": {
        "colab": {
          "base_uri": "https://localhost:8080/",
          "height": 441
        },
        "id": "2dP7guWJgFj1",
        "outputId": "ba62a9e2-5798-43f6-e4a1-a526f9c8456e"
      },
      "outputs": [
        {
          "data": {
            "text/html": [
              "<div>\n",
              "<style scoped>\n",
              "    .dataframe tbody tr th:only-of-type {\n",
              "        vertical-align: middle;\n",
              "    }\n",
              "\n",
              "    .dataframe tbody tr th {\n",
              "        vertical-align: top;\n",
              "    }\n",
              "\n",
              "    .dataframe thead th {\n",
              "        text-align: right;\n",
              "    }\n",
              "</style>\n",
              "<table border=\"1\" class=\"dataframe\">\n",
              "  <thead>\n",
              "    <tr style=\"text-align: right;\">\n",
              "      <th></th>\n",
              "      <th>Player</th>\n",
              "      <th>height_x</th>\n",
              "      <th>weight_x</th>\n",
              "      <th>year_start</th>\n",
              "      <th>year_end</th>\n",
              "      <th>position</th>\n",
              "      <th>birth_date</th>\n",
              "      <th>Year</th>\n",
              "      <th>Pos</th>\n",
              "      <th>Age</th>\n",
              "      <th>...</th>\n",
              "      <th>FT%</th>\n",
              "      <th>ORB</th>\n",
              "      <th>DRB</th>\n",
              "      <th>TRB</th>\n",
              "      <th>AST</th>\n",
              "      <th>STL</th>\n",
              "      <th>BLK</th>\n",
              "      <th>TOV</th>\n",
              "      <th>PF</th>\n",
              "      <th>PTS</th>\n",
              "    </tr>\n",
              "  </thead>\n",
              "  <tbody>\n",
              "    <tr>\n",
              "      <th>37</th>\n",
              "      <td>Harry Boykoff</td>\n",
              "      <td>208.0</td>\n",
              "      <td>102.0</td>\n",
              "      <td>1950</td>\n",
              "      <td>1951</td>\n",
              "      <td>C</td>\n",
              "      <td>July 24, 1922</td>\n",
              "      <td>1950.0</td>\n",
              "      <td>C</td>\n",
              "      <td>27.0</td>\n",
              "      <td>...</td>\n",
              "      <td>0.775</td>\n",
              "      <td>0.0</td>\n",
              "      <td>0.0</td>\n",
              "      <td>0.0</td>\n",
              "      <td>149.0</td>\n",
              "      <td>0.0</td>\n",
              "      <td>0.0</td>\n",
              "      <td>0.0</td>\n",
              "      <td>229.0</td>\n",
              "      <td>779.0</td>\n",
              "    </tr>\n",
              "    <tr>\n",
              "      <th>38</th>\n",
              "      <td>Harry Boykoff</td>\n",
              "      <td>208.0</td>\n",
              "      <td>102.0</td>\n",
              "      <td>1950</td>\n",
              "      <td>1951</td>\n",
              "      <td>C</td>\n",
              "      <td>July 24, 1922</td>\n",
              "      <td>1951.0</td>\n",
              "      <td>C</td>\n",
              "      <td>28.0</td>\n",
              "      <td>...</td>\n",
              "      <td>0.740</td>\n",
              "      <td>0.0</td>\n",
              "      <td>0.0</td>\n",
              "      <td>220.0</td>\n",
              "      <td>60.0</td>\n",
              "      <td>0.0</td>\n",
              "      <td>0.0</td>\n",
              "      <td>0.0</td>\n",
              "      <td>197.0</td>\n",
              "      <td>326.0</td>\n",
              "    </tr>\n",
              "    <tr>\n",
              "      <th>39</th>\n",
              "      <td>Harry Boykoff</td>\n",
              "      <td>208.0</td>\n",
              "      <td>102.0</td>\n",
              "      <td>1950</td>\n",
              "      <td>1951</td>\n",
              "      <td>C</td>\n",
              "      <td>July 24, 1922</td>\n",
              "      <td>1951.0</td>\n",
              "      <td>C</td>\n",
              "      <td>28.0</td>\n",
              "      <td>...</td>\n",
              "      <td>0.714</td>\n",
              "      <td>0.0</td>\n",
              "      <td>0.0</td>\n",
              "      <td>135.0</td>\n",
              "      <td>40.0</td>\n",
              "      <td>0.0</td>\n",
              "      <td>0.0</td>\n",
              "      <td>0.0</td>\n",
              "      <td>130.0</td>\n",
              "      <td>201.0</td>\n",
              "    </tr>\n",
              "    <tr>\n",
              "      <th>40</th>\n",
              "      <td>Harry Boykoff</td>\n",
              "      <td>208.0</td>\n",
              "      <td>102.0</td>\n",
              "      <td>1950</td>\n",
              "      <td>1951</td>\n",
              "      <td>C</td>\n",
              "      <td>July 24, 1922</td>\n",
              "      <td>1951.0</td>\n",
              "      <td>C</td>\n",
              "      <td>28.0</td>\n",
              "      <td>...</td>\n",
              "      <td>0.784</td>\n",
              "      <td>0.0</td>\n",
              "      <td>0.0</td>\n",
              "      <td>85.0</td>\n",
              "      <td>20.0</td>\n",
              "      <td>0.0</td>\n",
              "      <td>0.0</td>\n",
              "      <td>0.0</td>\n",
              "      <td>67.0</td>\n",
              "      <td>125.0</td>\n",
              "    </tr>\n",
              "    <tr>\n",
              "      <th>67</th>\n",
              "      <td>Jim Browne</td>\n",
              "      <td>208.0</td>\n",
              "      <td>106.0</td>\n",
              "      <td>1949</td>\n",
              "      <td>1950</td>\n",
              "      <td>C</td>\n",
              "      <td>January 1, 1930</td>\n",
              "      <td>1950.0</td>\n",
              "      <td>C</td>\n",
              "      <td>20.0</td>\n",
              "      <td>...</td>\n",
              "      <td>0.481</td>\n",
              "      <td>0.0</td>\n",
              "      <td>0.0</td>\n",
              "      <td>0.0</td>\n",
              "      <td>8.0</td>\n",
              "      <td>0.0</td>\n",
              "      <td>0.0</td>\n",
              "      <td>0.0</td>\n",
              "      <td>16.0</td>\n",
              "      <td>47.0</td>\n",
              "    </tr>\n",
              "    <tr>\n",
              "      <th>...</th>\n",
              "      <td>...</td>\n",
              "      <td>...</td>\n",
              "      <td>...</td>\n",
              "      <td>...</td>\n",
              "      <td>...</td>\n",
              "      <td>...</td>\n",
              "      <td>...</td>\n",
              "      <td>...</td>\n",
              "      <td>...</td>\n",
              "      <td>...</td>\n",
              "      <td>...</td>\n",
              "      <td>...</td>\n",
              "      <td>...</td>\n",
              "      <td>...</td>\n",
              "      <td>...</td>\n",
              "      <td>...</td>\n",
              "      <td>...</td>\n",
              "      <td>...</td>\n",
              "      <td>...</td>\n",
              "      <td>...</td>\n",
              "      <td>...</td>\n",
              "    </tr>\n",
              "    <tr>\n",
              "      <th>23450</th>\n",
              "      <td>Edy Tavares</td>\n",
              "      <td>211.0</td>\n",
              "      <td>115.0</td>\n",
              "      <td>2016</td>\n",
              "      <td>2017</td>\n",
              "      <td>C</td>\n",
              "      <td>March 22, 1992</td>\n",
              "      <td>2017.0</td>\n",
              "      <td>C</td>\n",
              "      <td>24.0</td>\n",
              "      <td>...</td>\n",
              "      <td>0.000</td>\n",
              "      <td>0.0</td>\n",
              "      <td>1.0</td>\n",
              "      <td>1.0</td>\n",
              "      <td>0.0</td>\n",
              "      <td>0.0</td>\n",
              "      <td>0.0</td>\n",
              "      <td>0.0</td>\n",
              "      <td>0.0</td>\n",
              "      <td>2.0</td>\n",
              "    </tr>\n",
              "    <tr>\n",
              "      <th>23451</th>\n",
              "      <td>Edy Tavares</td>\n",
              "      <td>211.0</td>\n",
              "      <td>115.0</td>\n",
              "      <td>2016</td>\n",
              "      <td>2017</td>\n",
              "      <td>C</td>\n",
              "      <td>March 22, 1992</td>\n",
              "      <td>2017.0</td>\n",
              "      <td>C</td>\n",
              "      <td>24.0</td>\n",
              "      <td>...</td>\n",
              "      <td>0.000</td>\n",
              "      <td>4.0</td>\n",
              "      <td>6.0</td>\n",
              "      <td>10.0</td>\n",
              "      <td>1.0</td>\n",
              "      <td>0.0</td>\n",
              "      <td>6.0</td>\n",
              "      <td>2.0</td>\n",
              "      <td>3.0</td>\n",
              "      <td>6.0</td>\n",
              "    </tr>\n",
              "    <tr>\n",
              "      <th>23453</th>\n",
              "      <td>Mike Tobey</td>\n",
              "      <td>213.0</td>\n",
              "      <td>117.0</td>\n",
              "      <td>2017</td>\n",
              "      <td>2017</td>\n",
              "      <td>C</td>\n",
              "      <td>October 10, 1994</td>\n",
              "      <td>2017.0</td>\n",
              "      <td>C</td>\n",
              "      <td>22.0</td>\n",
              "      <td>...</td>\n",
              "      <td>0.000</td>\n",
              "      <td>2.0</td>\n",
              "      <td>1.0</td>\n",
              "      <td>3.0</td>\n",
              "      <td>1.0</td>\n",
              "      <td>0.0</td>\n",
              "      <td>0.0</td>\n",
              "      <td>1.0</td>\n",
              "      <td>2.0</td>\n",
              "      <td>2.0</td>\n",
              "    </tr>\n",
              "    <tr>\n",
              "      <th>23465</th>\n",
              "      <td>Stephen Zimmerman</td>\n",
              "      <td>213.0</td>\n",
              "      <td>108.0</td>\n",
              "      <td>2017</td>\n",
              "      <td>2017</td>\n",
              "      <td>C</td>\n",
              "      <td>September 9, 1996</td>\n",
              "      <td>2017.0</td>\n",
              "      <td>C</td>\n",
              "      <td>20.0</td>\n",
              "      <td>...</td>\n",
              "      <td>0.600</td>\n",
              "      <td>11.0</td>\n",
              "      <td>24.0</td>\n",
              "      <td>35.0</td>\n",
              "      <td>4.0</td>\n",
              "      <td>2.0</td>\n",
              "      <td>5.0</td>\n",
              "      <td>3.0</td>\n",
              "      <td>17.0</td>\n",
              "      <td>23.0</td>\n",
              "    </tr>\n",
              "    <tr>\n",
              "      <th>23467</th>\n",
              "      <td>Ivica Zubac</td>\n",
              "      <td>216.0</td>\n",
              "      <td>120.0</td>\n",
              "      <td>2017</td>\n",
              "      <td>2018</td>\n",
              "      <td>C</td>\n",
              "      <td>March 18, 1997</td>\n",
              "      <td>2017.0</td>\n",
              "      <td>C</td>\n",
              "      <td>19.0</td>\n",
              "      <td>...</td>\n",
              "      <td>0.653</td>\n",
              "      <td>41.0</td>\n",
              "      <td>118.0</td>\n",
              "      <td>159.0</td>\n",
              "      <td>30.0</td>\n",
              "      <td>14.0</td>\n",
              "      <td>33.0</td>\n",
              "      <td>30.0</td>\n",
              "      <td>66.0</td>\n",
              "      <td>284.0</td>\n",
              "    </tr>\n",
              "  </tbody>\n",
              "</table>\n",
              "<p>2499 rows × 58 columns</p>\n",
              "</div>"
            ],
            "text/plain": [
              "                  Player  height_x  weight_x  year_start  year_end position  \\\n",
              "37         Harry Boykoff     208.0     102.0        1950      1951        C   \n",
              "38         Harry Boykoff     208.0     102.0        1950      1951        C   \n",
              "39         Harry Boykoff     208.0     102.0        1950      1951        C   \n",
              "40         Harry Boykoff     208.0     102.0        1950      1951        C   \n",
              "67            Jim Browne     208.0     106.0        1949      1950        C   \n",
              "...                  ...       ...       ...         ...       ...      ...   \n",
              "23450        Edy Tavares     211.0     115.0        2016      2017        C   \n",
              "23451        Edy Tavares     211.0     115.0        2016      2017        C   \n",
              "23453         Mike Tobey     213.0     117.0        2017      2017        C   \n",
              "23465  Stephen Zimmerman     213.0     108.0        2017      2017        C   \n",
              "23467        Ivica Zubac     216.0     120.0        2017      2018        C   \n",
              "\n",
              "              birth_date    Year Pos   Age  ...    FT%   ORB    DRB    TRB  \\\n",
              "37         July 24, 1922  1950.0   C  27.0  ...  0.775   0.0    0.0    0.0   \n",
              "38         July 24, 1922  1951.0   C  28.0  ...  0.740   0.0    0.0  220.0   \n",
              "39         July 24, 1922  1951.0   C  28.0  ...  0.714   0.0    0.0  135.0   \n",
              "40         July 24, 1922  1951.0   C  28.0  ...  0.784   0.0    0.0   85.0   \n",
              "67       January 1, 1930  1950.0   C  20.0  ...  0.481   0.0    0.0    0.0   \n",
              "...                  ...     ...  ..   ...  ...    ...   ...    ...    ...   \n",
              "23450     March 22, 1992  2017.0   C  24.0  ...  0.000   0.0    1.0    1.0   \n",
              "23451     March 22, 1992  2017.0   C  24.0  ...  0.000   4.0    6.0   10.0   \n",
              "23453   October 10, 1994  2017.0   C  22.0  ...  0.000   2.0    1.0    3.0   \n",
              "23465  September 9, 1996  2017.0   C  20.0  ...  0.600  11.0   24.0   35.0   \n",
              "23467     March 18, 1997  2017.0   C  19.0  ...  0.653  41.0  118.0  159.0   \n",
              "\n",
              "         AST   STL   BLK   TOV     PF    PTS  \n",
              "37     149.0   0.0   0.0   0.0  229.0  779.0  \n",
              "38      60.0   0.0   0.0   0.0  197.0  326.0  \n",
              "39      40.0   0.0   0.0   0.0  130.0  201.0  \n",
              "40      20.0   0.0   0.0   0.0   67.0  125.0  \n",
              "67       8.0   0.0   0.0   0.0   16.0   47.0  \n",
              "...      ...   ...   ...   ...    ...    ...  \n",
              "23450    0.0   0.0   0.0   0.0    0.0    2.0  \n",
              "23451    1.0   0.0   6.0   2.0    3.0    6.0  \n",
              "23453    1.0   0.0   0.0   1.0    2.0    2.0  \n",
              "23465    4.0   2.0   5.0   3.0   17.0   23.0  \n",
              "23467   30.0  14.0  33.0  30.0   66.0  284.0  \n",
              "\n",
              "[2499 rows x 58 columns]"
            ]
          },
          "execution_count": 47,
          "metadata": {},
          "output_type": "execute_result"
        }
      ],
      "source": [
        "df_clean_P = df_clean_copy[df_clean_copy['position'] == 'C']\n",
        "df_clean_P"
      ]
    },
    {
      "cell_type": "code",
      "execution_count": 48,
      "metadata": {
        "colab": {
          "base_uri": "https://localhost:8080/"
        },
        "id": "m1eoA70XOtG1",
        "outputId": "cca571e4-9f2c-4e45-9daf-cfef88c30bed"
      },
      "outputs": [
        {
          "data": {
            "text/plain": [
              "Year\n",
              "1950.0    0.000000\n",
              "1951.0    0.000000\n",
              "1952.0    0.000000\n",
              "1953.0    0.000000\n",
              "1954.0    0.000000\n",
              "            ...   \n",
              "2013.0    0.089829\n",
              "2014.0    0.062740\n",
              "2015.0    0.103279\n",
              "2016.0    0.087408\n",
              "2017.0    0.075625\n",
              "Name: 3P%, Length: 68, dtype: float64"
            ]
          },
          "execution_count": 48,
          "metadata": {},
          "output_type": "execute_result"
        }
      ],
      "source": [
        "# información Temporada/año y la media 3P%\n",
        "\n",
        "\n",
        "tabla_media_triples_P = df_clean_P.groupby('Year')['3P%'].mean()\n",
        "tabla_media_triples_P\n"
      ]
    },
    {
      "cell_type": "code",
      "execution_count": 49,
      "metadata": {
        "colab": {
          "base_uri": "https://localhost:8080/",
          "height": 300
        },
        "id": "ort23gWGQEuU",
        "outputId": "b27da807-3b6b-461a-b40d-ed86bf5b0b1b"
      },
      "outputs": [
        {
          "data": {
            "text/html": [
              "<div>\n",
              "<style scoped>\n",
              "    .dataframe tbody tr th:only-of-type {\n",
              "        vertical-align: middle;\n",
              "    }\n",
              "\n",
              "    .dataframe tbody tr th {\n",
              "        vertical-align: top;\n",
              "    }\n",
              "\n",
              "    .dataframe thead th {\n",
              "        text-align: right;\n",
              "    }\n",
              "</style>\n",
              "<table border=\"1\" class=\"dataframe\">\n",
              "  <thead>\n",
              "    <tr style=\"text-align: right;\">\n",
              "      <th></th>\n",
              "      <th>position</th>\n",
              "      <th>3P%</th>\n",
              "    </tr>\n",
              "  </thead>\n",
              "  <tbody>\n",
              "    <tr>\n",
              "      <th>0</th>\n",
              "      <td>0</td>\n",
              "      <td>0.000000</td>\n",
              "    </tr>\n",
              "    <tr>\n",
              "      <th>1</th>\n",
              "      <td>C</td>\n",
              "      <td>0.050014</td>\n",
              "    </tr>\n",
              "    <tr>\n",
              "      <th>2</th>\n",
              "      <td>C-F</td>\n",
              "      <td>0.056331</td>\n",
              "    </tr>\n",
              "    <tr>\n",
              "      <th>3</th>\n",
              "      <td>F</td>\n",
              "      <td>0.154889</td>\n",
              "    </tr>\n",
              "    <tr>\n",
              "      <th>4</th>\n",
              "      <td>F-C</td>\n",
              "      <td>0.087107</td>\n",
              "    </tr>\n",
              "    <tr>\n",
              "      <th>5</th>\n",
              "      <td>F-G</td>\n",
              "      <td>0.185413</td>\n",
              "    </tr>\n",
              "    <tr>\n",
              "      <th>6</th>\n",
              "      <td>G</td>\n",
              "      <td>0.230998</td>\n",
              "    </tr>\n",
              "    <tr>\n",
              "      <th>7</th>\n",
              "      <td>G-F</td>\n",
              "      <td>0.204830</td>\n",
              "    </tr>\n",
              "  </tbody>\n",
              "</table>\n",
              "</div>"
            ],
            "text/plain": [
              "  position       3P%\n",
              "0        0  0.000000\n",
              "1        C  0.050014\n",
              "2      C-F  0.056331\n",
              "3        F  0.154889\n",
              "4      F-C  0.087107\n",
              "5      F-G  0.185413\n",
              "6        G  0.230998\n",
              "7      G-F  0.204830"
            ]
          },
          "execution_count": 49,
          "metadata": {},
          "output_type": "execute_result"
        }
      ],
      "source": [
        "# Información por posición del jugador (P) y la media 3P%\n",
        "\n",
        "tabla_media_pos_triple = df_clean_copy.groupby('position')['3P%'].mean().reset_index()\n",
        "tabla_media_pos_triple"
      ]
    },
    {
      "cell_type": "markdown",
      "metadata": {
        "id": "ei3S36KrUCm_"
      },
      "source": [
        "## DESCOMPOSCIÓN SERIE TEMPORAL NO ESTACIONARIA"
      ]
    },
    {
      "cell_type": "code",
      "execution_count": 50,
      "metadata": {
        "colab": {
          "base_uri": "https://localhost:8080/",
          "height": 477
        },
        "id": "RaZEh9D8UBZI",
        "outputId": "4d5dd955-207d-4cb8-f794-dbbd69af2619"
      },
      "outputs": [
        {
          "data": {
            "image/png": "[encoded data removed]",
            "text/plain": [
              "<Figure size 1080x360 with 1 Axes>"
            ]
          },
          "metadata": {
            "needs_background": "light"
          },
          "output_type": "display_data"
        }
      ],
      "source": [
        "# Descomposición serie temporal NO estacionaria\n",
        "\n",
        "tabla_media_triples_P.plot(figsize=(15,5))\n",
        "plt.tight_layout()"
      ]
    },
    {
      "cell_type": "code",
      "execution_count": 51,
      "metadata": {
        "colab": {
          "base_uri": "https://localhost:8080/"
        },
        "id": "amuWDPWDUHNQ",
        "outputId": "522886dc-bf26-4301-879d-e9bf2c9bac72"
      },
      "outputs": [
        {
          "data": {
            "text/plain": [
              "((60,), (8,))"
            ]
          },
          "execution_count": 51,
          "metadata": {},
          "output_type": "execute_result"
        }
      ],
      "source": [
        "TEST_SIZE = 8 # 8 años de test\n",
        "train, test = tabla_media_triples_P.iloc[: -TEST_SIZE], tabla_media_triples_P.iloc[-TEST_SIZE :]\n",
        "train.shape, test.shape"
      ]
    },
    {
      "cell_type": "code",
      "execution_count": 52,
      "metadata": {
        "colab": {
          "base_uri": "https://localhost:8080/"
        },
        "id": "XFdk_EeNUJeI",
        "outputId": "e99a574e-668f-4fdd-c33d-8484188afd6a"
      },
      "outputs": [
        {
          "data": {
            "text/plain": [
              "(array([ 0,  1,  2,  3,  4,  5,  6,  7,  8,  9, 10, 11, 12, 13, 14, 15, 16,\n",
              "        17, 18, 19, 20, 21, 22, 23, 24, 25, 26, 27, 28, 29, 30, 31, 32, 33,\n",
              "        34, 35, 36, 37, 38, 39, 40, 41, 42, 43, 44, 45, 46, 47, 48, 49, 50,\n",
              "        51, 52, 53, 54, 55, 56, 57, 58, 59]),\n",
              " array([60, 61, 62, 63, 64, 65, 66, 67]))"
            ]
          },
          "execution_count": 52,
          "metadata": {},
          "output_type": "execute_result"
        }
      ],
      "source": [
        "x_train = np.array(range(train.shape[0]))\n",
        "x_test = np.array(range(train.shape[0], tabla_media_triples_P.shape[0]))\n",
        "x_train, x_test"
      ]
    },
    {
      "cell_type": "code",
      "execution_count": 53,
      "metadata": {
        "colab": {
          "base_uri": "https://localhost:8080/",
          "height": 477
        },
        "id": "gAi3ulGsULhA",
        "outputId": "bed615ea-164b-4d1b-cc70-09fd608e54a2"
      },
      "outputs": [
        {
          "data": {
            "image/png": "[encoded data removed]",
            "text/plain": [
              "<Figure size 1080x360 with 1 Axes>"
            ]
          },
          "metadata": {
            "needs_background": "light"
          },
          "output_type": "display_data"
        }
      ],
      "source": [
        "fig, ax = plt.subplots(1 , 1, figsize = (15, 5))\n",
        "ax.plot(x_train, train)\n",
        "ax.plot(x_test, test)\n",
        "plt.tight_layout()"
      ]
    },
    {
      "cell_type": "markdown",
      "metadata": {
        "id": "fiISlbHiUOX3"
      },
      "source": [
        "## HETEROCEDASTICIDAD"
      ]
    },
    {
      "cell_type": "code",
      "execution_count": 54,
      "metadata": {
        "colab": {
          "base_uri": "https://localhost:8080/",
          "height": 513
        },
        "id": "4bI_ty1sUNOk",
        "outputId": "ce305496-83b1-49f9-97d7-4e13c14b0d62"
      },
      "outputs": [
        {
          "name": "stderr",
          "output_type": "stream",
          "text": [
            "c:\\Users\\Marc\\anaconda3\\lib\\site-packages\\pandas\\core\\arraylike.py:396: RuntimeWarning: divide by zero encountered in log\n",
            "  result = getattr(ufunc, method)(*inputs, **kwargs)\n"
          ]
        },
        {
          "data": {
            "image/png": "[encoded data removed]",
            "text/plain": [
              "<Figure size 1080x360 with 1 Axes>"
            ]
          },
          "metadata": {
            "needs_background": "light"
          },
          "output_type": "display_data"
        }
      ],
      "source": [
        "train_log = np.log(train)\n",
        "\n",
        "fig, ax = plt.subplots(1,1, figsize = (15,5))\n",
        "ax.plot(x_train, train_log)\n",
        "plt.tight_layout()"
      ]
    },
    {
      "cell_type": "code",
      "execution_count": 55,
      "metadata": {
        "colab": {
          "base_uri": "https://localhost:8080/",
          "height": 476
        },
        "id": "m4WcBucSUTEO",
        "outputId": "495f40e2-0153-4a08-8f06-79f4bf9ef01d"
      },
      "outputs": [
        {
          "data": {
            "image/png": "[encoded data removed]",
            "text/plain": [
              "<Figure size 1080x360 with 1 Axes>"
            ]
          },
          "metadata": {
            "needs_background": "light"
          },
          "output_type": "display_data"
        }
      ],
      "source": [
        "train_exp = np.exp(train)\n",
        "\n",
        "fig, ax = plt.subplots(1,1, figsize = (15,5))\n",
        "ax.plot(x_train, train_exp)\n",
        "plt.tight_layout()"
      ]
    },
    {
      "cell_type": "code",
      "execution_count": 56,
      "metadata": {
        "colab": {
          "base_uri": "https://localhost:8080/",
          "height": 476
        },
        "id": "cGCUirsdUVBR",
        "outputId": "773a1221-c297-4634-f387-13a0e4f58fde"
      },
      "outputs": [
        {
          "data": {
            "image/png": "[encoded data removed]",
            "text/plain": [
              "<Figure size 1080x360 with 1 Axes>"
            ]
          },
          "metadata": {
            "needs_background": "light"
          },
          "output_type": "display_data"
        }
      ],
      "source": [
        "train_sqrt = np.sqrt(train)\n",
        "\n",
        "fig, ax = plt.subplots(1,1, figsize = (15,5))\n",
        "ax.plot(x_train, train_sqrt)\n",
        "plt.tight_layout()"
      ]
    },
    {
      "cell_type": "markdown",
      "metadata": {
        "id": "77dh0sapUYYn"
      },
      "source": [
        "## Tendencia"
      ]
    },
    {
      "cell_type": "code",
      "execution_count": 57,
      "metadata": {
        "colab": {
          "base_uri": "https://localhost:8080/",
          "height": 476
        },
        "id": "Ycf0SwCoUWje",
        "outputId": "03000c85-78ed-458e-ba5f-d68d2afed635"
      },
      "outputs": [
        {
          "data": {
            "image/png": "[encoded data removed]",
            "text/plain": [
              "<Figure size 1080x360 with 1 Axes>"
            ]
          },
          "metadata": {
            "needs_background": "light"
          },
          "output_type": "display_data"
        }
      ],
      "source": [
        "fig, ax = plt.subplots(1 ,1, figsize = (15,5))\n",
        "ax.plot(x_train, train_log)\n",
        "plt.tight_layout()"
      ]
    },
    {
      "cell_type": "code",
      "execution_count": 58,
      "metadata": {
        "colab": {
          "base_uri": "https://localhost:8080/",
          "height": 476
        },
        "id": "bCPB6RlSUb4n",
        "outputId": "f06e4083-569f-4459-a105-c1757b520a69"
      },
      "outputs": [
        {
          "data": {
            "image/png": "[encoded data removed]",
            "text/plain": [
              "<Figure size 1080x360 with 1 Axes>"
            ]
          },
          "metadata": {
            "needs_background": "light"
          },
          "output_type": "display_data"
        }
      ],
      "source": [
        "model = LinearRegression()\n",
        "model.fit(x_train.reshape(-1,1), train.values)\n",
        "train_trend = model.predict(x_train.reshape(-1,1))\n",
        "\n",
        "fig, ax = plt.subplots(1,1, figsize =(15,5))\n",
        "ax.plot(x_train, train)\n",
        "ax.plot(x_train, train_trend)\n",
        "plt.tight_layout()"
      ]
    },
    {
      "cell_type": "code",
      "execution_count": 59,
      "metadata": {
        "colab": {
          "base_uri": "https://localhost:8080/",
          "height": 476
        },
        "id": "oMGdZbC4UlEv",
        "outputId": "7f89b0e5-193e-477a-deb1-73b8c56554e6"
      },
      "outputs": [
        {
          "data": {
            "image/png": "[encoded data removed]",
            "text/plain": [
              "<Figure size 1080x360 with 1 Axes>"
            ]
          },
          "metadata": {
            "needs_background": "light"
          },
          "output_type": "display_data"
        }
      ],
      "source": [
        "train_trend = (train - model.predict(x_train.reshape(-1,1))).values.squeeze()\n",
        "\n",
        "fig, ax = plt.subplots(1,1, figsize=(15,5))\n",
        "ax.plot(x_train, train_trend)\n",
        "plt.tight_layout()"
      ]
    },
    {
      "cell_type": "markdown",
      "metadata": {
        "id": "2tDeHLeuUtsO"
      },
      "source": [
        "## Estacionalidad"
      ]
    },
    {
      "cell_type": "code",
      "execution_count": 60,
      "metadata": {
        "colab": {
          "base_uri": "https://localhost:8080/",
          "height": 476
        },
        "id": "yBsU4CM8Usce",
        "outputId": "3143da01-50b5-4efd-f4c7-74b7fe4f5171"
      },
      "outputs": [
        {
          "data": {
            "image/png": "[encoded data removed]",
            "text/plain": [
              "<Figure size 1080x360 with 1 Axes>"
            ]
          },
          "metadata": {
            "needs_background": "light"
          },
          "output_type": "display_data"
        }
      ],
      "source": [
        "corr_coefficients = []\n",
        "\n",
        "for i in range(1,8):\n",
        "    corr_coefficients.append(np.corrcoef(train_trend[i:], train_trend[:-i])[0,1])\n",
        "\n",
        "fig, ax = plt.subplots(1,1, figsize = (15,5))\n",
        "ax.plot(range(len(corr_coefficients)), corr_coefficients)\n",
        "plt.tight_layout()"
      ]
    },
    {
      "cell_type": "code",
      "execution_count": 61,
      "metadata": {
        "colab": {
          "base_uri": "https://localhost:8080/"
        },
        "id": "beRQKg9PlAiX",
        "outputId": "e5ad4ac2-8e4f-4335-e175-92e3f8da85d0"
      },
      "outputs": [
        {
          "data": {
            "text/plain": [
              "[0.2713798706285745,\n",
              " 0.3107335358528509,\n",
              " 0.08249647100826502,\n",
              " 0.09975184767451586,\n",
              " 0.17368000736052494,\n",
              " 0.004380737135345408,\n",
              " -0.06733117566055621]"
            ]
          },
          "execution_count": 61,
          "metadata": {},
          "output_type": "execute_result"
        }
      ],
      "source": [
        "corr_coefficients"
      ]
    },
    {
      "cell_type": "code",
      "execution_count": 62,
      "metadata": {
        "colab": {
          "base_uri": "https://localhost:8080/",
          "height": 684
        },
        "id": "umRvhvZ9UxW9",
        "outputId": "fcb3a468-a52c-432b-91a1-5d0aac50017c"
      },
      "outputs": [
        {
          "ename": "ValueError",
          "evalue": "could not broadcast input array from shape (4,) into shape (0,8)",
          "output_type": "error",
          "traceback": [
            "\u001b[1;31m---------------------------------------------------------------------------\u001b[0m",
            "\u001b[1;31mValueError\u001b[0m                                Traceback (most recent call last)",
            "\u001b[1;32m~\\AppData\\Local\\Temp/ipykernel_25760/2723763035.py\u001b[0m in \u001b[0;36m<module>\u001b[1;34m\u001b[0m\n\u001b[0;32m      4\u001b[0m \u001b[1;33m\u001b[0m\u001b[0m\n\u001b[0;32m      5\u001b[0m \u001b[1;32mfor\u001b[0m \u001b[0mi\u001b[0m \u001b[1;33m,\u001b[0m \u001b[0mj\u001b[0m \u001b[1;32min\u001b[0m \u001b[0menumerate\u001b[0m\u001b[1;33m(\u001b[0m\u001b[0mrange\u001b[0m\u001b[1;33m(\u001b[0m\u001b[1;36m0\u001b[0m\u001b[1;33m,\u001b[0m \u001b[0mtrain_trend\u001b[0m\u001b[1;33m.\u001b[0m\u001b[0msize\u001b[0m\u001b[1;33m,\u001b[0m \u001b[1;36m8\u001b[0m\u001b[1;33m)\u001b[0m\u001b[1;33m)\u001b[0m\u001b[1;33m:\u001b[0m\u001b[1;33m\u001b[0m\u001b[1;33m\u001b[0m\u001b[0m\n\u001b[1;32m----> 6\u001b[1;33m     \u001b[0mseasonality\u001b[0m\u001b[1;33m[\u001b[0m\u001b[0mi\u001b[0m\u001b[1;33m:\u001b[0m\u001b[1;33m]\u001b[0m \u001b[1;33m=\u001b[0m \u001b[0mtrain_trend\u001b[0m\u001b[1;33m[\u001b[0m\u001b[0mj\u001b[0m\u001b[1;33m:\u001b[0m\u001b[0mj\u001b[0m\u001b[1;33m+\u001b[0m\u001b[1;36m8\u001b[0m\u001b[1;33m]\u001b[0m\u001b[1;33m\u001b[0m\u001b[1;33m\u001b[0m\u001b[0m\n\u001b[0m\u001b[0;32m      7\u001b[0m     \u001b[0max\u001b[0m\u001b[1;33m.\u001b[0m\u001b[0mplot\u001b[0m\u001b[1;33m(\u001b[0m\u001b[0mrange\u001b[0m\u001b[1;33m(\u001b[0m\u001b[1;36m8\u001b[0m\u001b[1;33m)\u001b[0m\u001b[1;33m,\u001b[0m \u001b[0mtrain_trend\u001b[0m\u001b[1;33m[\u001b[0m\u001b[0mj\u001b[0m\u001b[1;33m:\u001b[0m\u001b[0mj\u001b[0m\u001b[1;33m+\u001b[0m\u001b[1;36m8\u001b[0m\u001b[1;33m]\u001b[0m\u001b[1;33m,\u001b[0m \u001b[0malpha\u001b[0m \u001b[1;33m=\u001b[0m \u001b[1;36m.5\u001b[0m\u001b[1;33m)\u001b[0m\u001b[1;33m\u001b[0m\u001b[1;33m\u001b[0m\u001b[0m\n\u001b[0;32m      8\u001b[0m \u001b[1;33m\u001b[0m\u001b[0m\n",
            "\u001b[1;31mValueError\u001b[0m: could not broadcast input array from shape (4,) into shape (0,8)"
          ]
        },
        {
          "data": {
            "image/png": "[encoded data removed]",
            "text/plain": [
              "<Figure size 1080x360 with 1 Axes>"
            ]
          },
          "metadata": {
            "needs_background": "light"
          },
          "output_type": "display_data"
        }
      ],
      "source": [
        "seasonality = np.zeros((int(train_trend.size/8),8))\n",
        "\n",
        "fig, ax = plt.subplots(1,1, figsize =(15,5))\n",
        "\n",
        "for i , j in enumerate(range(0, train_trend.size, 8)):\n",
        "    seasonality[i:] = train_trend[j:j+8]\n",
        "    ax.plot(range(8), train_trend[j:j+8], alpha = .5)\n",
        "\n",
        "seasonality_median = np.median(seasonality, axis = 0)\n",
        "ax.plot(range(8), seasonality_median, '--', lw = 5)\n",
        "\n",
        "plt.tight_layout()"
      ]
    },
    {
      "cell_type": "code",
      "execution_count": 63,
      "metadata": {
        "id": "0L5Cv5ioUzBA"
      },
      "outputs": [
        {
          "ename": "NameError",
          "evalue": "name 'seasonality_median' is not defined",
          "output_type": "error",
          "traceback": [
            "\u001b[1;31m---------------------------------------------------------------------------\u001b[0m",
            "\u001b[1;31mNameError\u001b[0m                                 Traceback (most recent call last)",
            "\u001b[1;32m~\\AppData\\Local\\Temp/ipykernel_25760/1522931488.py\u001b[0m in \u001b[0;36m<module>\u001b[1;34m\u001b[0m\n\u001b[1;32m----> 1\u001b[1;33m \u001b[0mseasonality_full\u001b[0m \u001b[1;33m=\u001b[0m \u001b[0mnp\u001b[0m\u001b[1;33m.\u001b[0m\u001b[0mtile\u001b[0m\u001b[1;33m(\u001b[0m\u001b[0mseasonality_median\u001b[0m\u001b[1;33m,\u001b[0m \u001b[0mint\u001b[0m\u001b[1;33m(\u001b[0m\u001b[0mtrain_trend\u001b[0m\u001b[1;33m.\u001b[0m\u001b[0msize\u001b[0m\u001b[1;33m/\u001b[0m\u001b[1;36m12\u001b[0m\u001b[1;33m)\u001b[0m\u001b[1;33m)\u001b[0m\u001b[1;33m\u001b[0m\u001b[1;33m\u001b[0m\u001b[0m\n\u001b[0m\u001b[0;32m      2\u001b[0m \u001b[1;33m\u001b[0m\u001b[0m\n\u001b[0;32m      3\u001b[0m \u001b[0mfig\u001b[0m\u001b[1;33m,\u001b[0m \u001b[0max\u001b[0m \u001b[1;33m=\u001b[0m \u001b[0mplt\u001b[0m\u001b[1;33m.\u001b[0m\u001b[0msubplots\u001b[0m\u001b[1;33m(\u001b[0m\u001b[0mfigsize\u001b[0m \u001b[1;33m=\u001b[0m \u001b[1;33m(\u001b[0m\u001b[1;36m15\u001b[0m\u001b[1;33m,\u001b[0m\u001b[1;36m5\u001b[0m\u001b[1;33m)\u001b[0m\u001b[1;33m)\u001b[0m\u001b[1;33m\u001b[0m\u001b[1;33m\u001b[0m\u001b[0m\n\u001b[0;32m      4\u001b[0m \u001b[0max\u001b[0m\u001b[1;33m.\u001b[0m\u001b[0mplot\u001b[0m\u001b[1;33m(\u001b[0m\u001b[0mx_train\u001b[0m\u001b[1;33m,\u001b[0m \u001b[0mtrain_trend\u001b[0m\u001b[1;33m,\u001b[0m \u001b[0mlabel\u001b[0m \u001b[1;33m=\u001b[0m\u001b[1;34m'Original'\u001b[0m\u001b[1;33m)\u001b[0m\u001b[1;33m\u001b[0m\u001b[1;33m\u001b[0m\u001b[0m\n\u001b[0;32m      5\u001b[0m \u001b[0max\u001b[0m\u001b[1;33m.\u001b[0m\u001b[0mplot\u001b[0m\u001b[1;33m(\u001b[0m\u001b[0mx_train\u001b[0m\u001b[1;33m,\u001b[0m \u001b[0mseasonality_full\u001b[0m\u001b[1;33m,\u001b[0m \u001b[0mlabel\u001b[0m \u001b[1;33m=\u001b[0m \u001b[1;34m'median seasonality'\u001b[0m\u001b[1;33m)\u001b[0m\u001b[1;33m\u001b[0m\u001b[1;33m\u001b[0m\u001b[0m\n",
            "\u001b[1;31mNameError\u001b[0m: name 'seasonality_median' is not defined"
          ]
        }
      ],
      "source": [
        "seasonality_full = np.tile(seasonality_median, int(train_trend.size/12))\n",
        "\n",
        "fig, ax = plt.subplots(figsize = (15,5))\n",
        "ax.plot(x_train, train_trend, label ='Original')\n",
        "ax.plot(x_train, seasonality_full, label = 'median seasonality')\n",
        "ax.legend()\n",
        "\n",
        "plt.tight_layout()"
      ]
    },
    {
      "cell_type": "code",
      "execution_count": null,
      "metadata": {
        "id": "BTBK4vngU04J"
      },
      "outputs": [],
      "source": [
        "noise = train_trend - seasonality_full\n",
        "\n",
        "fig, ax = plt.subplots(figsize = (15,5))\n",
        "ax.plot(x_train, noise)\n",
        "\n",
        "plt.tight_layout()"
      ]
    },
    {
      "cell_type": "markdown",
      "metadata": {
        "id": "Ao_tagsfU31v"
      },
      "source": [
        "## Prediction"
      ]
    },
    {
      "cell_type": "code",
      "execution_count": null,
      "metadata": {
        "id": "or91SjkGU2dy"
      },
      "outputs": [],
      "source": [
        "new_data = np.zeros(8)\n",
        "new_data"
      ]
    },
    {
      "cell_type": "code",
      "execution_count": null,
      "metadata": {
        "id": "LO3uN1NMU7io"
      },
      "outputs": [],
      "source": [
        "# Añadimos estacionalidad\n",
        "\n",
        "new_data_season = new_data + np.tile(seasonality_median, int(TEST_SIZE/8))\n",
        "\n",
        "fig, ax = plt.subplots(figsize =(15,5))\n",
        "ax.plot(range(TEST_SIZE), new_data_season)\n",
        "\n",
        "plt.tight_layout()"
      ]
    },
    {
      "cell_type": "code",
      "execution_count": null,
      "metadata": {
        "id": "iCxz7DQpU9Jy"
      },
      "outputs": [],
      "source": [
        "# Añadimos tendencia\n",
        "\n",
        "new_data_season_trend = new_data_season + model.predict(x_test.reshape(-1,1)).squeeze()\n",
        "\n",
        "fig, ax = plt.subplots(figsize = (15,5))\n",
        "ax.plot(range(TEST_SIZE), new_data_season_trend)\n",
        "\n",
        "plt.tight_layout()"
      ]
    },
    {
      "cell_type": "code",
      "execution_count": null,
      "metadata": {
        "id": "mo3L6zabU-ri"
      },
      "outputs": [],
      "source": [
        "# Añadimos heterocedasticidad\n",
        "\n",
        "prediction = np.exp(new_data_season_trend)\n",
        "\n",
        "fig, ax = plt.subplots(figsize = (15,5))\n",
        "ax.plot(range(TEST_SIZE), prediction)\n",
        "\n",
        "plt.tight_layout()"
      ]
    },
    {
      "cell_type": "markdown",
      "metadata": {
        "id": "drjmC47rVBQH"
      },
      "source": [
        "## Predicción VS Realidad"
      ]
    },
    {
      "cell_type": "code",
      "execution_count": null,
      "metadata": {
        "id": "4CWmcL9qVAFW"
      },
      "outputs": [],
      "source": [
        "fig, ax = plt.subplots(figsize =(15,5))\n",
        "ax.plot(x_train, train)\n",
        "ax.plot(x_test, test, label = 'real')\n",
        "ax.plot(x_test, prediction, label = 'prediction')\n",
        "ax.legend()\n",
        "\n",
        "plt.tight_layout()"
      ]
    },
    {
      "cell_type": "markdown",
      "metadata": {
        "id": "DBjyMwq4sgDb"
      },
      "source": [
        "## MODELOS ARIMA SERIE TEMPORAL ESTACIONARIA"
      ]
    },
    {
      "cell_type": "code",
      "execution_count": null,
      "metadata": {
        "id": "JY8FesN1sdsF"
      },
      "outputs": [],
      "source": [
        "from statsmodels.graphics.tsaplots import plot_pacf, plot_acf\n",
        "from statsmodels.tsa.arima.model import ARIMA\n",
        "from statsmodels.tsa.statespace.sarimax import SARIMAX"
      ]
    },
    {
      "cell_type": "code",
      "execution_count": null,
      "metadata": {
        "colab": {
          "base_uri": "https://localhost:8080/",
          "height": 235
        },
        "id": "M1Fnmdd95LxC",
        "outputId": "6ec8ad17-ecf7-410e-ad83-b84683963b38"
      },
      "outputs": [
        {
          "data": {
            "text/html": [
              "\n",
              "  <div id=\"df-bc7a3506-e32d-48bc-9fab-4d516592e21d\" class=\"colab-df-container\">\n",
              "    <div>\n",
              "<style scoped>\n",
              "    .dataframe tbody tr th:only-of-type {\n",
              "        vertical-align: middle;\n",
              "    }\n",
              "\n",
              "    .dataframe tbody tr th {\n",
              "        vertical-align: top;\n",
              "    }\n",
              "\n",
              "    .dataframe thead th {\n",
              "        text-align: right;\n",
              "    }\n",
              "</style>\n",
              "<table border=\"1\" class=\"dataframe\">\n",
              "  <thead>\n",
              "    <tr style=\"text-align: right;\">\n",
              "      <th></th>\n",
              "      <th>Player</th>\n",
              "      <th>height_x</th>\n",
              "      <th>weight_x</th>\n",
              "      <th>year_start</th>\n",
              "      <th>year_end</th>\n",
              "      <th>position</th>\n",
              "      <th>birth_date</th>\n",
              "      <th>Year</th>\n",
              "      <th>Pos</th>\n",
              "      <th>Age</th>\n",
              "      <th>...</th>\n",
              "      <th>FT%</th>\n",
              "      <th>ORB</th>\n",
              "      <th>DRB</th>\n",
              "      <th>TRB</th>\n",
              "      <th>AST</th>\n",
              "      <th>STL</th>\n",
              "      <th>BLK</th>\n",
              "      <th>TOV</th>\n",
              "      <th>PF</th>\n",
              "      <th>PTS</th>\n",
              "    </tr>\n",
              "  </thead>\n",
              "  <tbody>\n",
              "    <tr>\n",
              "      <th>37</th>\n",
              "      <td>Harry Boykoff</td>\n",
              "      <td>208.0</td>\n",
              "      <td>102.0</td>\n",
              "      <td>1950</td>\n",
              "      <td>1951</td>\n",
              "      <td>C</td>\n",
              "      <td>July 24, 1922</td>\n",
              "      <td>1950.0</td>\n",
              "      <td>C</td>\n",
              "      <td>27.0</td>\n",
              "      <td>...</td>\n",
              "      <td>0.775</td>\n",
              "      <td>0.0</td>\n",
              "      <td>0.0</td>\n",
              "      <td>0.0</td>\n",
              "      <td>149.0</td>\n",
              "      <td>0.0</td>\n",
              "      <td>0.0</td>\n",
              "      <td>0.0</td>\n",
              "      <td>229.0</td>\n",
              "      <td>779.0</td>\n",
              "    </tr>\n",
              "    <tr>\n",
              "      <th>38</th>\n",
              "      <td>Harry Boykoff</td>\n",
              "      <td>208.0</td>\n",
              "      <td>102.0</td>\n",
              "      <td>1950</td>\n",
              "      <td>1951</td>\n",
              "      <td>C</td>\n",
              "      <td>July 24, 1922</td>\n",
              "      <td>1951.0</td>\n",
              "      <td>C</td>\n",
              "      <td>28.0</td>\n",
              "      <td>...</td>\n",
              "      <td>0.740</td>\n",
              "      <td>0.0</td>\n",
              "      <td>0.0</td>\n",
              "      <td>220.0</td>\n",
              "      <td>60.0</td>\n",
              "      <td>0.0</td>\n",
              "      <td>0.0</td>\n",
              "      <td>0.0</td>\n",
              "      <td>197.0</td>\n",
              "      <td>326.0</td>\n",
              "    </tr>\n",
              "    <tr>\n",
              "      <th>39</th>\n",
              "      <td>Harry Boykoff</td>\n",
              "      <td>208.0</td>\n",
              "      <td>102.0</td>\n",
              "      <td>1950</td>\n",
              "      <td>1951</td>\n",
              "      <td>C</td>\n",
              "      <td>July 24, 1922</td>\n",
              "      <td>1951.0</td>\n",
              "      <td>C</td>\n",
              "      <td>28.0</td>\n",
              "      <td>...</td>\n",
              "      <td>0.714</td>\n",
              "      <td>0.0</td>\n",
              "      <td>0.0</td>\n",
              "      <td>135.0</td>\n",
              "      <td>40.0</td>\n",
              "      <td>0.0</td>\n",
              "      <td>0.0</td>\n",
              "      <td>0.0</td>\n",
              "      <td>130.0</td>\n",
              "      <td>201.0</td>\n",
              "    </tr>\n",
              "    <tr>\n",
              "      <th>40</th>\n",
              "      <td>Harry Boykoff</td>\n",
              "      <td>208.0</td>\n",
              "      <td>102.0</td>\n",
              "      <td>1950</td>\n",
              "      <td>1951</td>\n",
              "      <td>C</td>\n",
              "      <td>July 24, 1922</td>\n",
              "      <td>1951.0</td>\n",
              "      <td>C</td>\n",
              "      <td>28.0</td>\n",
              "      <td>...</td>\n",
              "      <td>0.784</td>\n",
              "      <td>0.0</td>\n",
              "      <td>0.0</td>\n",
              "      <td>85.0</td>\n",
              "      <td>20.0</td>\n",
              "      <td>0.0</td>\n",
              "      <td>0.0</td>\n",
              "      <td>0.0</td>\n",
              "      <td>67.0</td>\n",
              "      <td>125.0</td>\n",
              "    </tr>\n",
              "    <tr>\n",
              "      <th>67</th>\n",
              "      <td>Jim Browne</td>\n",
              "      <td>208.0</td>\n",
              "      <td>106.0</td>\n",
              "      <td>1949</td>\n",
              "      <td>1950</td>\n",
              "      <td>C</td>\n",
              "      <td>January 1, 1930</td>\n",
              "      <td>1950.0</td>\n",
              "      <td>C</td>\n",
              "      <td>20.0</td>\n",
              "      <td>...</td>\n",
              "      <td>0.481</td>\n",
              "      <td>0.0</td>\n",
              "      <td>0.0</td>\n",
              "      <td>0.0</td>\n",
              "      <td>8.0</td>\n",
              "      <td>0.0</td>\n",
              "      <td>0.0</td>\n",
              "      <td>0.0</td>\n",
              "      <td>16.0</td>\n",
              "      <td>47.0</td>\n",
              "    </tr>\n",
              "  </tbody>\n",
              "</table>\n",
              "<p>5 rows × 58 columns</p>\n",
              "</div>\n",
              "    <div class=\"colab-df-buttons\">\n",
              "\n",
              "  <div class=\"colab-df-container\">\n",
              "    <button class=\"colab-df-convert\" onclick=\"convertToInteractive('df-bc7a3506-e32d-48bc-9fab-4d516592e21d')\"\n",
              "            title=\"Convert this dataframe to an interactive table.\"\n",
              "            style=\"display:none;\">\n",
              "\n",
              "  <svg xmlns=\"http://www.w3.org/2000/svg\" height=\"24px\" viewBox=\"0 -960 960 960\">\n",
              "    <path d=\"M120-120v-720h720v720H120Zm60-500h600v-160H180v160Zm220 220h160v-160H400v160Zm0 220h160v-160H400v160ZM180-400h160v-160H180v160Zm440 0h160v-160H620v160ZM180-180h160v-160H180v160Zm440 0h160v-160H620v160Z\"/>\n",
              "  </svg>\n",
              "    </button>\n",
              "\n",
              "  <style>\n",
              "    .colab-df-container {\n",
              "      display:flex;\n",
              "      gap: 12px;\n",
              "    }\n",
              "\n",
              "    .colab-df-convert {\n",
              "      background-color: #E8F0FE;\n",
              "      border: none;\n",
              "      border-radius: 50%;\n",
              "      cursor: pointer;\n",
              "      display: none;\n",
              "      fill: #1967D2;\n",
              "      height: 32px;\n",
              "      padding: 0 0 0 0;\n",
              "      width: 32px;\n",
              "    }\n",
              "\n",
              "    .colab-df-convert:hover {\n",
              "      background-color: #E2EBFA;\n",
              "      box-shadow: 0px 1px 2px rgba(60, 64, 67, 0.3), 0px 1px 3px 1px rgba(60, 64, 67, 0.15);\n",
              "      fill: #174EA6;\n",
              "    }\n",
              "\n",
              "    .colab-df-buttons div {\n",
              "      margin-bottom: 4px;\n",
              "    }\n",
              "\n",
              "    [theme=dark] .colab-df-convert {\n",
              "      background-color: #3B4455;\n",
              "      fill: #D2E3FC;\n",
              "    }\n",
              "\n",
              "    [theme=dark] .colab-df-convert:hover {\n",
              "      background-color: #434B5C;\n",
              "      box-shadow: 0px 1px 3px 1px rgba(0, 0, 0, 0.15);\n",
              "      filter: drop-shadow(0px 1px 2px rgba(0, 0, 0, 0.3));\n",
              "      fill: #FFFFFF;\n",
              "    }\n",
              "  </style>\n",
              "\n",
              "    <script>\n",
              "      const buttonEl =\n",
              "        document.querySelector('#df-bc7a3506-e32d-48bc-9fab-4d516592e21d button.colab-df-convert');\n",
              "      buttonEl.style.display =\n",
              "        google.colab.kernel.accessAllowed ? 'block' : 'none';\n",
              "\n",
              "      async function convertToInteractive(key) {\n",
              "        const element = document.querySelector('#df-bc7a3506-e32d-48bc-9fab-4d516592e21d');\n",
              "        const dataTable =\n",
              "          await google.colab.kernel.invokeFunction('convertToInteractive',\n",
              "                                                    [key], {});\n",
              "        if (!dataTable) return;\n",
              "\n",
              "        const docLinkHtml = 'Like what you see? Visit the ' +\n",
              "          '<a target=\"_blank\" href=https://colab.research.google.com/notebooks/data_table.ipynb>data table notebook</a>'\n",
              "          + ' to learn more about interactive tables.';\n",
              "        element.innerHTML = '';\n",
              "        dataTable['output_type'] = 'display_data';\n",
              "        await google.colab.output.renderOutput(dataTable, element);\n",
              "        const docLink = document.createElement('div');\n",
              "        docLink.innerHTML = docLinkHtml;\n",
              "        element.appendChild(docLink);\n",
              "      }\n",
              "    </script>\n",
              "  </div>\n",
              "\n",
              "\n",
              "<div id=\"df-d5a82338-e9fe-4a09-9fee-a32f1654c5e7\">\n",
              "  <button class=\"colab-df-quickchart\" onclick=\"quickchart('df-d5a82338-e9fe-4a09-9fee-a32f1654c5e7')\"\n",
              "            title=\"Suggest charts\"\n",
              "            style=\"display:none;\">\n",
              "\n",
              "<svg xmlns=\"http://www.w3.org/2000/svg\" height=\"24px\"viewBox=\"0 0 24 24\"\n",
              "     width=\"24px\">\n",
              "    <g>\n",
              "        <path d=\"M19 3H5c-1.1 0-2 .9-2 2v14c0 1.1.9 2 2 2h14c1.1 0 2-.9 2-2V5c0-1.1-.9-2-2-2zM9 17H7v-7h2v7zm4 0h-2V7h2v10zm4 0h-2v-4h2v4z\"/>\n",
              "    </g>\n",
              "</svg>\n",
              "  </button>\n",
              "\n",
              "<style>\n",
              "  .colab-df-quickchart {\n",
              "      --bg-color: #E8F0FE;\n",
              "      --fill-color: #1967D2;\n",
              "      --hover-bg-color: #E2EBFA;\n",
              "      --hover-fill-color: #174EA6;\n",
              "      --disabled-fill-color: #AAA;\n",
              "      --disabled-bg-color: #DDD;\n",
              "  }\n",
              "\n",
              "  [theme=dark] .colab-df-quickchart {\n",
              "      --bg-color: #3B4455;\n",
              "      --fill-color: #D2E3FC;\n",
              "      --hover-bg-color: #434B5C;\n",
              "      --hover-fill-color: #FFFFFF;\n",
              "      --disabled-bg-color: #3B4455;\n",
              "      --disabled-fill-color: #666;\n",
              "  }\n",
              "\n",
              "  .colab-df-quickchart {\n",
              "    background-color: var(--bg-color);\n",
              "    border: none;\n",
              "    border-radius: 50%;\n",
              "    cursor: pointer;\n",
              "    display: none;\n",
              "    fill: var(--fill-color);\n",
              "    height: 32px;\n",
              "    padding: 0;\n",
              "    width: 32px;\n",
              "  }\n",
              "\n",
              "  .colab-df-quickchart:hover {\n",
              "    background-color: var(--hover-bg-color);\n",
              "    box-shadow: 0 1px 2px rgba(60, 64, 67, 0.3), 0 1px 3px 1px rgba(60, 64, 67, 0.15);\n",
              "    fill: var(--button-hover-fill-color);\n",
              "  }\n",
              "\n",
              "  .colab-df-quickchart-complete:disabled,\n",
              "  .colab-df-quickchart-complete:disabled:hover {\n",
              "    background-color: var(--disabled-bg-color);\n",
              "    fill: var(--disabled-fill-color);\n",
              "    box-shadow: none;\n",
              "  }\n",
              "\n",
              "  .colab-df-spinner {\n",
              "    border: 2px solid var(--fill-color);\n",
              "    border-color: transparent;\n",
              "    border-bottom-color: var(--fill-color);\n",
              "    animation:\n",
              "      spin 1s steps(1) infinite;\n",
              "  }\n",
              "\n",
              "  @keyframes spin {\n",
              "    0% {\n",
              "      border-color: transparent;\n",
              "      border-bottom-color: var(--fill-color);\n",
              "      border-left-color: var(--fill-color);\n",
              "    }\n",
              "    20% {\n",
              "      border-color: transparent;\n",
              "      border-left-color: var(--fill-color);\n",
              "      border-top-color: var(--fill-color);\n",
              "    }\n",
              "    30% {\n",
              "      border-color: transparent;\n",
              "      border-left-color: var(--fill-color);\n",
              "      border-top-color: var(--fill-color);\n",
              "      border-right-color: var(--fill-color);\n",
              "    }\n",
              "    40% {\n",
              "      border-color: transparent;\n",
              "      border-right-color: var(--fill-color);\n",
              "      border-top-color: var(--fill-color);\n",
              "    }\n",
              "    60% {\n",
              "      border-color: transparent;\n",
              "      border-right-color: var(--fill-color);\n",
              "    }\n",
              "    80% {\n",
              "      border-color: transparent;\n",
              "      border-right-color: var(--fill-color);\n",
              "      border-bottom-color: var(--fill-color);\n",
              "    }\n",
              "    90% {\n",
              "      border-color: transparent;\n",
              "      border-bottom-color: var(--fill-color);\n",
              "    }\n",
              "  }\n",
              "</style>\n",
              "\n",
              "  <script>\n",
              "    async function quickchart(key) {\n",
              "      const quickchartButtonEl =\n",
              "        document.querySelector('#' + key + ' button');\n",
              "      quickchartButtonEl.disabled = true;  // To prevent multiple clicks.\n",
              "      quickchartButtonEl.classList.add('colab-df-spinner');\n",
              "      try {\n",
              "        const charts = await google.colab.kernel.invokeFunction(\n",
              "            'suggestCharts', [key], {});\n",
              "      } catch (error) {\n",
              "        console.error('Error during call to suggestCharts:', error);\n",
              "      }\n",
              "      quickchartButtonEl.classList.remove('colab-df-spinner');\n",
              "      quickchartButtonEl.classList.add('colab-df-quickchart-complete');\n",
              "    }\n",
              "    (() => {\n",
              "      let quickchartButtonEl =\n",
              "        document.querySelector('#df-d5a82338-e9fe-4a09-9fee-a32f1654c5e7 button');\n",
              "      quickchartButtonEl.style.display =\n",
              "        google.colab.kernel.accessAllowed ? 'block' : 'none';\n",
              "    })();\n",
              "  </script>\n",
              "</div>\n",
              "    </div>\n",
              "  </div>\n"
            ],
            "text/plain": [
              "           Player  height_x  weight_x  year_start  year_end position  \\\n",
              "37  Harry Boykoff     208.0     102.0        1950      1951        C   \n",
              "38  Harry Boykoff     208.0     102.0        1950      1951        C   \n",
              "39  Harry Boykoff     208.0     102.0        1950      1951        C   \n",
              "40  Harry Boykoff     208.0     102.0        1950      1951        C   \n",
              "67     Jim Browne     208.0     106.0        1949      1950        C   \n",
              "\n",
              "         birth_date    Year Pos   Age  ...    FT%  ORB  DRB    TRB    AST  \\\n",
              "37    July 24, 1922  1950.0   C  27.0  ...  0.775  0.0  0.0    0.0  149.0   \n",
              "38    July 24, 1922  1951.0   C  28.0  ...  0.740  0.0  0.0  220.0   60.0   \n",
              "39    July 24, 1922  1951.0   C  28.0  ...  0.714  0.0  0.0  135.0   40.0   \n",
              "40    July 24, 1922  1951.0   C  28.0  ...  0.784  0.0  0.0   85.0   20.0   \n",
              "67  January 1, 1930  1950.0   C  20.0  ...  0.481  0.0  0.0    0.0    8.0   \n",
              "\n",
              "    STL  BLK  TOV     PF    PTS  \n",
              "37  0.0  0.0  0.0  229.0  779.0  \n",
              "38  0.0  0.0  0.0  197.0  326.0  \n",
              "39  0.0  0.0  0.0  130.0  201.0  \n",
              "40  0.0  0.0  0.0   67.0  125.0  \n",
              "67  0.0  0.0  0.0   16.0   47.0  \n",
              "\n",
              "[5 rows x 58 columns]"
            ]
          },
          "execution_count": 44,
          "metadata": {},
          "output_type": "execute_result"
        }
      ],
      "source": [
        "df_clean_P = df_clean_copy[df_clean_copy['position'] == 'C']\n",
        "df_clean_P.head()"
      ]
    },
    {
      "cell_type": "markdown",
      "metadata": {
        "id": "c5ZRtxl36ULO"
      },
      "source": [
        "### INFORMACIÓN SOBRE LA POSICIÓN DE PIVOT (C)"
      ]
    },
    {
      "cell_type": "code",
      "execution_count": null,
      "metadata": {
        "colab": {
          "base_uri": "https://localhost:8080/"
        },
        "id": "_lUPwBov5NEH",
        "outputId": "a0e4b1ca-5998-434e-fe40-074fe8799edf"
      },
      "outputs": [
        {
          "data": {
            "text/plain": [
              "Year\n",
              "1950.0    0.000000\n",
              "1951.0    0.000000\n",
              "1952.0    0.000000\n",
              "1953.0    0.000000\n",
              "1954.0    0.000000\n",
              "            ...   \n",
              "2013.0    0.089829\n",
              "2014.0    0.062740\n",
              "2015.0    0.103279\n",
              "2016.0    0.087408\n",
              "2017.0    0.075625\n",
              "Name: 3P%, Length: 68, dtype: float64"
            ]
          },
          "execution_count": 45,
          "metadata": {},
          "output_type": "execute_result"
        }
      ],
      "source": [
        "# información Temporada/año y la media 3P% de Pivots\n",
        "\n",
        "tabla_media_triples_P = df_clean_P.groupby('Year')['3P%'].mean()\n",
        "tabla_media_triples_P"
      ]
    },
    {
      "cell_type": "code",
      "execution_count": null,
      "metadata": {
        "colab": {
          "base_uri": "https://localhost:8080/",
          "height": 449
        },
        "id": "S7_r7TQE6yYG",
        "outputId": "609cf512-179a-4dd4-ba36-210ad8e73d4f"
      },
      "outputs": [
        {
          "data": {
            "image/png": "[encoded data removed]",
            "text/plain": [
              "<Figure size 640x480 with 1 Axes>"
            ]
          },
          "metadata": {},
          "output_type": "display_data"
        }
      ],
      "source": [
        "fig, ax = plt.subplots(1,1)\n",
        "tabla_media_triples_P.plot(ax = ax, label = 'Train')\n",
        "plt.show()"
      ]
    },
    {
      "cell_type": "markdown",
      "metadata": {
        "id": "LTE39nAy7D02"
      },
      "source": [
        "### ARIMA PIVOTS (C) 2000-2010"
      ]
    },
    {
      "cell_type": "code",
      "execution_count": null,
      "metadata": {
        "colab": {
          "base_uri": "https://localhost:8080/",
          "height": 235
        },
        "id": "dHY9aCOo7GyI",
        "outputId": "baa4bf6b-ebfa-4045-ff69-d27e7028d10e"
      },
      "outputs": [
        {
          "data": {
            "text/html": [
              "\n",
              "  <div id=\"df-0bba68ed-d9b0-416f-8409-e4014733efa5\" class=\"colab-df-container\">\n",
              "    <div>\n",
              "<style scoped>\n",
              "    .dataframe tbody tr th:only-of-type {\n",
              "        vertical-align: middle;\n",
              "    }\n",
              "\n",
              "    .dataframe tbody tr th {\n",
              "        vertical-align: top;\n",
              "    }\n",
              "\n",
              "    .dataframe thead th {\n",
              "        text-align: right;\n",
              "    }\n",
              "</style>\n",
              "<table border=\"1\" class=\"dataframe\">\n",
              "  <thead>\n",
              "    <tr style=\"text-align: right;\">\n",
              "      <th></th>\n",
              "      <th>Player</th>\n",
              "      <th>height_x</th>\n",
              "      <th>weight_x</th>\n",
              "      <th>year_start</th>\n",
              "      <th>year_end</th>\n",
              "      <th>position</th>\n",
              "      <th>birth_date</th>\n",
              "      <th>Year</th>\n",
              "      <th>Pos</th>\n",
              "      <th>Age</th>\n",
              "      <th>...</th>\n",
              "      <th>FT%</th>\n",
              "      <th>ORB</th>\n",
              "      <th>DRB</th>\n",
              "      <th>TRB</th>\n",
              "      <th>AST</th>\n",
              "      <th>STL</th>\n",
              "      <th>BLK</th>\n",
              "      <th>TOV</th>\n",
              "      <th>PF</th>\n",
              "      <th>PTS</th>\n",
              "    </tr>\n",
              "  </thead>\n",
              "  <tbody>\n",
              "    <tr>\n",
              "      <th>9710</th>\n",
              "      <td>Chris Dudley</td>\n",
              "      <td>188.0</td>\n",
              "      <td>81.0</td>\n",
              "      <td>1988</td>\n",
              "      <td>2003</td>\n",
              "      <td>C</td>\n",
              "      <td>February 22, 1965</td>\n",
              "      <td>2001.0</td>\n",
              "      <td>C</td>\n",
              "      <td>35.0</td>\n",
              "      <td>...</td>\n",
              "      <td>0.389</td>\n",
              "      <td>64.0</td>\n",
              "      <td>119.0</td>\n",
              "      <td>183.0</td>\n",
              "      <td>18.0</td>\n",
              "      <td>14.0</td>\n",
              "      <td>29.0</td>\n",
              "      <td>26.0</td>\n",
              "      <td>111.0</td>\n",
              "      <td>72.0</td>\n",
              "    </tr>\n",
              "    <tr>\n",
              "      <th>9711</th>\n",
              "      <td>Chris Dudley</td>\n",
              "      <td>188.0</td>\n",
              "      <td>81.0</td>\n",
              "      <td>1988</td>\n",
              "      <td>2003</td>\n",
              "      <td>C</td>\n",
              "      <td>February 22, 1965</td>\n",
              "      <td>2002.0</td>\n",
              "      <td>C</td>\n",
              "      <td>36.0</td>\n",
              "      <td>...</td>\n",
              "      <td>0.533</td>\n",
              "      <td>27.0</td>\n",
              "      <td>53.0</td>\n",
              "      <td>80.0</td>\n",
              "      <td>13.0</td>\n",
              "      <td>3.0</td>\n",
              "      <td>14.0</td>\n",
              "      <td>14.0</td>\n",
              "      <td>42.0</td>\n",
              "      <td>48.0</td>\n",
              "    </tr>\n",
              "    <tr>\n",
              "      <th>9712</th>\n",
              "      <td>Chris Dudley</td>\n",
              "      <td>188.0</td>\n",
              "      <td>81.0</td>\n",
              "      <td>1988</td>\n",
              "      <td>2003</td>\n",
              "      <td>C</td>\n",
              "      <td>February 22, 1965</td>\n",
              "      <td>2003.0</td>\n",
              "      <td>C</td>\n",
              "      <td>37.0</td>\n",
              "      <td>...</td>\n",
              "      <td>0.000</td>\n",
              "      <td>2.0</td>\n",
              "      <td>0.0</td>\n",
              "      <td>2.0</td>\n",
              "      <td>0.0</td>\n",
              "      <td>0.0</td>\n",
              "      <td>0.0</td>\n",
              "      <td>0.0</td>\n",
              "      <td>3.0</td>\n",
              "      <td>0.0</td>\n",
              "    </tr>\n",
              "    <tr>\n",
              "      <th>10463</th>\n",
              "      <td>Will Perdue</td>\n",
              "      <td>213.0</td>\n",
              "      <td>108.0</td>\n",
              "      <td>1989</td>\n",
              "      <td>2001</td>\n",
              "      <td>C</td>\n",
              "      <td>August 29, 1965</td>\n",
              "      <td>2001.0</td>\n",
              "      <td>C</td>\n",
              "      <td>35.0</td>\n",
              "      <td>...</td>\n",
              "      <td>0.500</td>\n",
              "      <td>6.0</td>\n",
              "      <td>12.0</td>\n",
              "      <td>18.0</td>\n",
              "      <td>2.0</td>\n",
              "      <td>3.0</td>\n",
              "      <td>2.0</td>\n",
              "      <td>0.0</td>\n",
              "      <td>8.0</td>\n",
              "      <td>14.0</td>\n",
              "    </tr>\n",
              "    <tr>\n",
              "      <th>10841</th>\n",
              "      <td>Vlade Divac</td>\n",
              "      <td>216.0</td>\n",
              "      <td>110.0</td>\n",
              "      <td>1990</td>\n",
              "      <td>2005</td>\n",
              "      <td>C</td>\n",
              "      <td>February 3, 1968</td>\n",
              "      <td>2001.0</td>\n",
              "      <td>C</td>\n",
              "      <td>32.0</td>\n",
              "      <td>...</td>\n",
              "      <td>0.691</td>\n",
              "      <td>207.0</td>\n",
              "      <td>466.0</td>\n",
              "      <td>673.0</td>\n",
              "      <td>231.0</td>\n",
              "      <td>87.0</td>\n",
              "      <td>93.0</td>\n",
              "      <td>192.0</td>\n",
              "      <td>242.0</td>\n",
              "      <td>974.0</td>\n",
              "    </tr>\n",
              "  </tbody>\n",
              "</table>\n",
              "<p>5 rows × 58 columns</p>\n",
              "</div>\n",
              "    <div class=\"colab-df-buttons\">\n",
              "\n",
              "  <div class=\"colab-df-container\">\n",
              "    <button class=\"colab-df-convert\" onclick=\"convertToInteractive('df-0bba68ed-d9b0-416f-8409-e4014733efa5')\"\n",
              "            title=\"Convert this dataframe to an interactive table.\"\n",
              "            style=\"display:none;\">\n",
              "\n",
              "  <svg xmlns=\"http://www.w3.org/2000/svg\" height=\"24px\" viewBox=\"0 -960 960 960\">\n",
              "    <path d=\"M120-120v-720h720v720H120Zm60-500h600v-160H180v160Zm220 220h160v-160H400v160Zm0 220h160v-160H400v160ZM180-400h160v-160H180v160Zm440 0h160v-160H620v160ZM180-180h160v-160H180v160Zm440 0h160v-160H620v160Z\"/>\n",
              "  </svg>\n",
              "    </button>\n",
              "\n",
              "  <style>\n",
              "    .colab-df-container {\n",
              "      display:flex;\n",
              "      gap: 12px;\n",
              "    }\n",
              "\n",
              "    .colab-df-convert {\n",
              "      background-color: #E8F0FE;\n",
              "      border: none;\n",
              "      border-radius: 50%;\n",
              "      cursor: pointer;\n",
              "      display: none;\n",
              "      fill: #1967D2;\n",
              "      height: 32px;\n",
              "      padding: 0 0 0 0;\n",
              "      width: 32px;\n",
              "    }\n",
              "\n",
              "    .colab-df-convert:hover {\n",
              "      background-color: #E2EBFA;\n",
              "      box-shadow: 0px 1px 2px rgba(60, 64, 67, 0.3), 0px 1px 3px 1px rgba(60, 64, 67, 0.15);\n",
              "      fill: #174EA6;\n",
              "    }\n",
              "\n",
              "    .colab-df-buttons div {\n",
              "      margin-bottom: 4px;\n",
              "    }\n",
              "\n",
              "    [theme=dark] .colab-df-convert {\n",
              "      background-color: #3B4455;\n",
              "      fill: #D2E3FC;\n",
              "    }\n",
              "\n",
              "    [theme=dark] .colab-df-convert:hover {\n",
              "      background-color: #434B5C;\n",
              "      box-shadow: 0px 1px 3px 1px rgba(0, 0, 0, 0.15);\n",
              "      filter: drop-shadow(0px 1px 2px rgba(0, 0, 0, 0.3));\n",
              "      fill: #FFFFFF;\n",
              "    }\n",
              "  </style>\n",
              "\n",
              "    <script>\n",
              "      const buttonEl =\n",
              "        document.querySelector('#df-0bba68ed-d9b0-416f-8409-e4014733efa5 button.colab-df-convert');\n",
              "      buttonEl.style.display =\n",
              "        google.colab.kernel.accessAllowed ? 'block' : 'none';\n",
              "\n",
              "      async function convertToInteractive(key) {\n",
              "        const element = document.querySelector('#df-0bba68ed-d9b0-416f-8409-e4014733efa5');\n",
              "        const dataTable =\n",
              "          await google.colab.kernel.invokeFunction('convertToInteractive',\n",
              "                                                    [key], {});\n",
              "        if (!dataTable) return;\n",
              "\n",
              "        const docLinkHtml = 'Like what you see? Visit the ' +\n",
              "          '<a target=\"_blank\" href=https://colab.research.google.com/notebooks/data_table.ipynb>data table notebook</a>'\n",
              "          + ' to learn more about interactive tables.';\n",
              "        element.innerHTML = '';\n",
              "        dataTable['output_type'] = 'display_data';\n",
              "        await google.colab.output.renderOutput(dataTable, element);\n",
              "        const docLink = document.createElement('div');\n",
              "        docLink.innerHTML = docLinkHtml;\n",
              "        element.appendChild(docLink);\n",
              "      }\n",
              "    </script>\n",
              "  </div>\n",
              "\n",
              "\n",
              "<div id=\"df-5069ef9d-a16a-4658-8ee1-3caf7c09706e\">\n",
              "  <button class=\"colab-df-quickchart\" onclick=\"quickchart('df-5069ef9d-a16a-4658-8ee1-3caf7c09706e')\"\n",
              "            title=\"Suggest charts\"\n",
              "            style=\"display:none;\">\n",
              "\n",
              "<svg xmlns=\"http://www.w3.org/2000/svg\" height=\"24px\"viewBox=\"0 0 24 24\"\n",
              "     width=\"24px\">\n",
              "    <g>\n",
              "        <path d=\"M19 3H5c-1.1 0-2 .9-2 2v14c0 1.1.9 2 2 2h14c1.1 0 2-.9 2-2V5c0-1.1-.9-2-2-2zM9 17H7v-7h2v7zm4 0h-2V7h2v10zm4 0h-2v-4h2v4z\"/>\n",
              "    </g>\n",
              "</svg>\n",
              "  </button>\n",
              "\n",
              "<style>\n",
              "  .colab-df-quickchart {\n",
              "      --bg-color: #E8F0FE;\n",
              "      --fill-color: #1967D2;\n",
              "      --hover-bg-color: #E2EBFA;\n",
              "      --hover-fill-color: #174EA6;\n",
              "      --disabled-fill-color: #AAA;\n",
              "      --disabled-bg-color: #DDD;\n",
              "  }\n",
              "\n",
              "  [theme=dark] .colab-df-quickchart {\n",
              "      --bg-color: #3B4455;\n",
              "      --fill-color: #D2E3FC;\n",
              "      --hover-bg-color: #434B5C;\n",
              "      --hover-fill-color: #FFFFFF;\n",
              "      --disabled-bg-color: #3B4455;\n",
              "      --disabled-fill-color: #666;\n",
              "  }\n",
              "\n",
              "  .colab-df-quickchart {\n",
              "    background-color: var(--bg-color);\n",
              "    border: none;\n",
              "    border-radius: 50%;\n",
              "    cursor: pointer;\n",
              "    display: none;\n",
              "    fill: var(--fill-color);\n",
              "    height: 32px;\n",
              "    padding: 0;\n",
              "    width: 32px;\n",
              "  }\n",
              "\n",
              "  .colab-df-quickchart:hover {\n",
              "    background-color: var(--hover-bg-color);\n",
              "    box-shadow: 0 1px 2px rgba(60, 64, 67, 0.3), 0 1px 3px 1px rgba(60, 64, 67, 0.15);\n",
              "    fill: var(--button-hover-fill-color);\n",
              "  }\n",
              "\n",
              "  .colab-df-quickchart-complete:disabled,\n",
              "  .colab-df-quickchart-complete:disabled:hover {\n",
              "    background-color: var(--disabled-bg-color);\n",
              "    fill: var(--disabled-fill-color);\n",
              "    box-shadow: none;\n",
              "  }\n",
              "\n",
              "  .colab-df-spinner {\n",
              "    border: 2px solid var(--fill-color);\n",
              "    border-color: transparent;\n",
              "    border-bottom-color: var(--fill-color);\n",
              "    animation:\n",
              "      spin 1s steps(1) infinite;\n",
              "  }\n",
              "\n",
              "  @keyframes spin {\n",
              "    0% {\n",
              "      border-color: transparent;\n",
              "      border-bottom-color: var(--fill-color);\n",
              "      border-left-color: var(--fill-color);\n",
              "    }\n",
              "    20% {\n",
              "      border-color: transparent;\n",
              "      border-left-color: var(--fill-color);\n",
              "      border-top-color: var(--fill-color);\n",
              "    }\n",
              "    30% {\n",
              "      border-color: transparent;\n",
              "      border-left-color: var(--fill-color);\n",
              "      border-top-color: var(--fill-color);\n",
              "      border-right-color: var(--fill-color);\n",
              "    }\n",
              "    40% {\n",
              "      border-color: transparent;\n",
              "      border-right-color: var(--fill-color);\n",
              "      border-top-color: var(--fill-color);\n",
              "    }\n",
              "    60% {\n",
              "      border-color: transparent;\n",
              "      border-right-color: var(--fill-color);\n",
              "    }\n",
              "    80% {\n",
              "      border-color: transparent;\n",
              "      border-right-color: var(--fill-color);\n",
              "      border-bottom-color: var(--fill-color);\n",
              "    }\n",
              "    90% {\n",
              "      border-color: transparent;\n",
              "      border-bottom-color: var(--fill-color);\n",
              "    }\n",
              "  }\n",
              "</style>\n",
              "\n",
              "  <script>\n",
              "    async function quickchart(key) {\n",
              "      const quickchartButtonEl =\n",
              "        document.querySelector('#' + key + ' button');\n",
              "      quickchartButtonEl.disabled = true;  // To prevent multiple clicks.\n",
              "      quickchartButtonEl.classList.add('colab-df-spinner');\n",
              "      try {\n",
              "        const charts = await google.colab.kernel.invokeFunction(\n",
              "            'suggestCharts', [key], {});\n",
              "      } catch (error) {\n",
              "        console.error('Error during call to suggestCharts:', error);\n",
              "      }\n",
              "      quickchartButtonEl.classList.remove('colab-df-spinner');\n",
              "      quickchartButtonEl.classList.add('colab-df-quickchart-complete');\n",
              "    }\n",
              "    (() => {\n",
              "      let quickchartButtonEl =\n",
              "        document.querySelector('#df-5069ef9d-a16a-4658-8ee1-3caf7c09706e button');\n",
              "      quickchartButtonEl.style.display =\n",
              "        google.colab.kernel.accessAllowed ? 'block' : 'none';\n",
              "    })();\n",
              "  </script>\n",
              "</div>\n",
              "    </div>\n",
              "  </div>\n"
            ],
            "text/plain": [
              "             Player  height_x  weight_x  year_start  year_end position  \\\n",
              "9710   Chris Dudley     188.0      81.0        1988      2003        C   \n",
              "9711   Chris Dudley     188.0      81.0        1988      2003        C   \n",
              "9712   Chris Dudley     188.0      81.0        1988      2003        C   \n",
              "10463   Will Perdue     213.0     108.0        1989      2001        C   \n",
              "10841   Vlade Divac     216.0     110.0        1990      2005        C   \n",
              "\n",
              "              birth_date    Year Pos   Age  ...    FT%    ORB    DRB    TRB  \\\n",
              "9710   February 22, 1965  2001.0   C  35.0  ...  0.389   64.0  119.0  183.0   \n",
              "9711   February 22, 1965  2002.0   C  36.0  ...  0.533   27.0   53.0   80.0   \n",
              "9712   February 22, 1965  2003.0   C  37.0  ...  0.000    2.0    0.0    2.0   \n",
              "10463    August 29, 1965  2001.0   C  35.0  ...  0.500    6.0   12.0   18.0   \n",
              "10841   February 3, 1968  2001.0   C  32.0  ...  0.691  207.0  466.0  673.0   \n",
              "\n",
              "         AST   STL   BLK    TOV     PF    PTS  \n",
              "9710    18.0  14.0  29.0   26.0  111.0   72.0  \n",
              "9711    13.0   3.0  14.0   14.0   42.0   48.0  \n",
              "9712     0.0   0.0   0.0    0.0    3.0    0.0  \n",
              "10463    2.0   3.0   2.0    0.0    8.0   14.0  \n",
              "10841  231.0  87.0  93.0  192.0  242.0  974.0  \n",
              "\n",
              "[5 rows x 58 columns]"
            ]
          },
          "execution_count": 52,
          "metadata": {},
          "output_type": "execute_result"
        }
      ],
      "source": [
        "tabla_P_año_2000_2010 = df_clean_P[(df_clean_P['Year'] > 2000.0) & (df_clean_P['Year'] < 2010.0)]\n",
        "tabla_P_año_2000_2010.head()"
      ]
    },
    {
      "cell_type": "code",
      "execution_count": null,
      "metadata": {
        "colab": {
          "base_uri": "https://localhost:8080/"
        },
        "id": "DKUkerqLIqer",
        "outputId": "cbd9ffda-a3f3-4cdc-e53f-79d99f698990"
      },
      "outputs": [
        {
          "data": {
            "text/plain": [
              "Year\n",
              "2001.0    0.037971\n",
              "2002.0    0.058164\n",
              "2003.0    0.052841\n",
              "2004.0    0.033535\n",
              "2005.0    0.083730\n",
              "2006.0    0.048843\n",
              "2007.0    0.057759\n",
              "2008.0    0.019577\n",
              "2009.0    0.032143\n",
              "Name: 3P%, dtype: float64"
            ]
          },
          "execution_count": 53,
          "metadata": {},
          "output_type": "execute_result"
        }
      ],
      "source": [
        "tabla_media_triples_P_2000 = tabla_P_año_2000_2010.groupby('Year')['3P%'].mean()\n",
        "tabla_media_triples_P_2000"
      ]
    },
    {
      "cell_type": "code",
      "execution_count": null,
      "metadata": {
        "colab": {
          "base_uri": "https://localhost:8080/"
        },
        "id": "dA6Y1XZyIKOt",
        "outputId": "f02ced98-08bd-4059-fbc1-dcf140480656"
      },
      "outputs": [
        {
          "name": "stderr",
          "output_type": "stream",
          "text": [
            "/usr/local/lib/python3.10/dist-packages/statsmodels/tsa/base/tsa_model.py:473: ValueWarning: An unsupported index was provided and will be ignored when e.g. forecasting.\n",
            "  self._init_dates(dates, freq)\n",
            "/usr/local/lib/python3.10/dist-packages/statsmodels/tsa/base/tsa_model.py:473: ValueWarning: An unsupported index was provided and will be ignored when e.g. forecasting.\n",
            "  self._init_dates(dates, freq)\n",
            "/usr/local/lib/python3.10/dist-packages/statsmodels/tsa/base/tsa_model.py:473: ValueWarning: An unsupported index was provided and will be ignored when e.g. forecasting.\n",
            "  self._init_dates(dates, freq)\n"
          ]
        },
        {
          "name": "stdout",
          "output_type": "stream",
          "text": [
            "                               SARIMAX Results                                \n",
            "==============================================================================\n",
            "Dep. Variable:                    3P%   No. Observations:                    9\n",
            "Model:                 ARIMA(5, 1, 1)   Log Likelihood                  20.127\n",
            "Date:                Wed, 22 Nov 2023   AIC                            -26.255\n",
            "Time:                        07:41:23   BIC                            -25.699\n",
            "Sample:                             0   HQIC                           -30.005\n",
            "                                  - 9                                         \n",
            "Covariance Type:                  opg                                         \n",
            "==============================================================================\n",
            "                 coef    std err          z      P>|z|      [0.025      0.975]\n",
            "------------------------------------------------------------------------------\n",
            "ar.L1         -0.4480      7.952     -0.056      0.955     -16.034      15.138\n",
            "ar.L2         -0.1307      7.666     -0.017      0.986     -15.156      14.895\n",
            "ar.L3         -0.3933      4.695     -0.084      0.933      -9.595       8.808\n",
            "ar.L4         -0.3173      8.002     -0.040      0.968     -16.000      15.366\n",
            "ar.L5          0.4120      7.164      0.058      0.954     -13.629      14.453\n",
            "ma.L1         -0.3460     10.333     -0.033      0.973     -20.599      19.907\n",
            "sigma2         0.0002      0.001      0.363      0.717      -0.001       0.002\n",
            "===================================================================================\n",
            "Ljung-Box (L1) (Q):                   0.17   Jarque-Bera (JB):                 0.34\n",
            "Prob(Q):                              0.68   Prob(JB):                         0.84\n",
            "Heteroskedasticity (H):               3.31   Skew:                            -0.18\n",
            "Prob(H) (two-sided):                  0.35   Kurtosis:                         2.06\n",
            "===================================================================================\n",
            "\n",
            "Warnings:\n",
            "[1] Covariance matrix calculated using the outer product of gradients (complex-step).\n"
          ]
        },
        {
          "name": "stderr",
          "output_type": "stream",
          "text": [
            "/usr/local/lib/python3.10/dist-packages/statsmodels/base/model.py:607: ConvergenceWarning: Maximum Likelihood optimization failed to converge. Check mle_retvals\n",
            "  warnings.warn(\"Maximum Likelihood optimization failed to \"\n"
          ]
        }
      ],
      "source": [
        "arima = ARIMA(endog = tabla_media_triples_P_2000, order = (5,1,1))\n",
        "arima_fit = arima.fit()\n",
        "print(arima_fit.summary())"
      ]
    },
    {
      "cell_type": "code",
      "execution_count": null,
      "metadata": {
        "colab": {
          "base_uri": "https://localhost:8080/"
        },
        "id": "sDPPv5UCI67U",
        "outputId": "5b6cd542-b9ff-4b92-d603-746e2860e977"
      },
      "outputs": [
        {
          "name": "stderr",
          "output_type": "stream",
          "text": [
            "/usr/local/lib/python3.10/dist-packages/statsmodels/tsa/base/tsa_model.py:836: ValueWarning: No supported index is available. Prediction results will be given with an integer index beginning at `start`.\n",
            "  return get_prediction_index(\n",
            "/usr/local/lib/python3.10/dist-packages/statsmodels/tsa/base/tsa_model.py:836: FutureWarning: No supported index is available. In the next version, calling this method in a model without a supported index will result in an exception.\n",
            "  return get_prediction_index(\n"
          ]
        }
      ],
      "source": [
        "predicciones = arima_fit.forecast(steps= 5)\n",
        "predicciones.index = [2010.0,2011.0,2012.0, 2013.0,2014.0]"
      ]
    },
    {
      "cell_type": "code",
      "execution_count": null,
      "metadata": {
        "colab": {
          "base_uri": "https://localhost:8080/",
          "height": 449
        },
        "id": "eMfnmuKfJGWG",
        "outputId": "20be7917-8320-4dfb-f89b-098d9a6db523"
      },
      "outputs": [
        {
          "data": {
            "image/png": "[encoded data removed]",
            "text/plain": [
              "<Figure size 640x480 with 1 Axes>"
            ]
          },
          "metadata": {},
          "output_type": "display_data"
        }
      ],
      "source": [
        "fig, ax = plt.subplots(1,1)\n",
        "tabla_media_triples_P.plot(ax = ax, label = 'Train')\n",
        "predicciones.plot(ax = ax, label = 'Predicciones')\n",
        "plt.show()"
      ]
    },
    {
      "cell_type": "markdown",
      "metadata": {
        "id": "lRxD46l6648D"
      },
      "source": [
        "### ARIMA PIVOTS (C) 2018-2022"
      ]
    },
    {
      "cell_type": "code",
      "execution_count": null,
      "metadata": {
        "colab": {
          "base_uri": "https://localhost:8080/"
        },
        "id": "_s3W4_mwtO8h",
        "outputId": "281507f9-978f-4eff-8403-951263562fe6"
      },
      "outputs": [
        {
          "name": "stderr",
          "output_type": "stream",
          "text": [
            "/usr/local/lib/python3.10/dist-packages/statsmodels/tsa/base/tsa_model.py:473: ValueWarning: An unsupported index was provided and will be ignored when e.g. forecasting.\n",
            "  self._init_dates(dates, freq)\n",
            "/usr/local/lib/python3.10/dist-packages/statsmodels/tsa/base/tsa_model.py:473: ValueWarning: An unsupported index was provided and will be ignored when e.g. forecasting.\n",
            "  self._init_dates(dates, freq)\n",
            "/usr/local/lib/python3.10/dist-packages/statsmodels/tsa/base/tsa_model.py:473: ValueWarning: An unsupported index was provided and will be ignored when e.g. forecasting.\n",
            "  self._init_dates(dates, freq)\n"
          ]
        },
        {
          "name": "stdout",
          "output_type": "stream",
          "text": [
            "                               SARIMAX Results                                \n",
            "==============================================================================\n",
            "Dep. Variable:                    3P%   No. Observations:                   68\n",
            "Model:                 ARIMA(5, 1, 1)   Log Likelihood                 151.464\n",
            "Date:                Wed, 22 Nov 2023   AIC                           -288.927\n",
            "Time:                        07:42:23   BIC                           -273.494\n",
            "Sample:                             0   HQIC                          -282.820\n",
            "                                 - 68                                         \n",
            "Covariance Type:                  opg                                         \n",
            "==============================================================================\n",
            "                 coef    std err          z      P>|z|      [0.025      0.975]\n",
            "------------------------------------------------------------------------------\n",
            "ar.L1         -0.2976      6.977     -0.043      0.966     -13.972      13.376\n",
            "ar.L2         -0.0136      4.564     -0.003      0.998      -8.959       8.931\n",
            "ar.L3         -0.1856      1.702     -0.109      0.913      -3.522       3.150\n",
            "ar.L4         -0.1261      1.942     -0.065      0.948      -3.933       3.681\n",
            "ar.L5          0.0519      1.582      0.033      0.974      -3.048       3.152\n",
            "ma.L1         -0.3552      6.927     -0.051      0.959     -13.931      13.221\n",
            "sigma2         0.0006    6.5e-05      9.700      0.000       0.001       0.001\n",
            "===================================================================================\n",
            "Ljung-Box (L1) (Q):                   0.03   Jarque-Bera (JB):               159.52\n",
            "Prob(Q):                              0.86   Prob(JB):                         0.00\n",
            "Heteroskedasticity (H):                inf   Skew:                             1.69\n",
            "Prob(H) (two-sided):                  0.00   Kurtosis:                         9.76\n",
            "===================================================================================\n",
            "\n",
            "Warnings:\n",
            "[1] Covariance matrix calculated using the outer product of gradients (complex-step).\n"
          ]
        },
        {
          "name": "stderr",
          "output_type": "stream",
          "text": [
            "/usr/local/lib/python3.10/dist-packages/statsmodels/tsa/stattools.py:1363: RuntimeWarning: divide by zero encountered in divide\n",
            "  test_statistic = numer_squared_sum / denom_squared_sum\n"
          ]
        }
      ],
      "source": [
        "arima = ARIMA(endog = tabla_media_triples_P, order = (5,1,1))\n",
        "arima_fit = arima.fit()\n",
        "print(arima_fit.summary())"
      ]
    },
    {
      "cell_type": "code",
      "execution_count": null,
      "metadata": {
        "colab": {
          "base_uri": "https://localhost:8080/"
        },
        "id": "uVxQaJ554BQT",
        "outputId": "2bf6a8cb-eaa6-4efd-fc53-de87169f574d"
      },
      "outputs": [
        {
          "name": "stderr",
          "output_type": "stream",
          "text": [
            "/usr/local/lib/python3.10/dist-packages/statsmodels/tsa/base/tsa_model.py:836: ValueWarning: No supported index is available. Prediction results will be given with an integer index beginning at `start`.\n",
            "  return get_prediction_index(\n",
            "/usr/local/lib/python3.10/dist-packages/statsmodels/tsa/base/tsa_model.py:836: FutureWarning: No supported index is available. In the next version, calling this method in a model without a supported index will result in an exception.\n",
            "  return get_prediction_index(\n"
          ]
        }
      ],
      "source": [
        "predicciones = arima_fit.forecast(steps= 5)\n",
        "predicciones.index = [2018.0,2019.0,2020.0, 2021.0,2022.0]"
      ]
    },
    {
      "cell_type": "code",
      "execution_count": null,
      "metadata": {
        "colab": {
          "base_uri": "https://localhost:8080/",
          "height": 449
        },
        "id": "VRMYXr_P5HAn",
        "outputId": "71424763-1d99-46c5-f2d4-97d8428cefbe"
      },
      "outputs": [
        {
          "data": {
            "image/png": "[encoded data removed]",
            "text/plain": [
              "<Figure size 640x480 with 1 Axes>"
            ]
          },
          "metadata": {},
          "output_type": "display_data"
        }
      ],
      "source": [
        "fig, ax = plt.subplots(1,1)\n",
        "tabla_media_triples_P.plot(ax = ax, label = 'Train')\n",
        "predicciones.plot(ax = ax, label = 'Predicciones')\n",
        "plt.show()\n"
      ]
    },
    {
      "cell_type": "markdown",
      "metadata": {
        "id": "pAmE7A7R_VBW"
      },
      "source": [
        "### INFORMACIÓN SOBRE LA POSICIÓN DE ALA-PIVOT (C-F)"
      ]
    },
    {
      "cell_type": "code",
      "execution_count": null,
      "metadata": {
        "colab": {
          "base_uri": "https://localhost:8080/",
          "height": 235
        },
        "id": "Az_LQwS0AANA",
        "outputId": "95ad5eba-f9e8-46b0-c973-aa94393ddb87"
      },
      "outputs": [
        {
          "data": {
            "text/html": [
              "\n",
              "  <div id=\"df-99386757-6e83-4fc2-b7d1-8b971c862e4d\" class=\"colab-df-container\">\n",
              "    <div>\n",
              "<style scoped>\n",
              "    .dataframe tbody tr th:only-of-type {\n",
              "        vertical-align: middle;\n",
              "    }\n",
              "\n",
              "    .dataframe tbody tr th {\n",
              "        vertical-align: top;\n",
              "    }\n",
              "\n",
              "    .dataframe thead th {\n",
              "        text-align: right;\n",
              "    }\n",
              "</style>\n",
              "<table border=\"1\" class=\"dataframe\">\n",
              "  <thead>\n",
              "    <tr style=\"text-align: right;\">\n",
              "      <th></th>\n",
              "      <th>Player</th>\n",
              "      <th>height_x</th>\n",
              "      <th>weight_x</th>\n",
              "      <th>year_start</th>\n",
              "      <th>year_end</th>\n",
              "      <th>position</th>\n",
              "      <th>birth_date</th>\n",
              "      <th>Year</th>\n",
              "      <th>Pos</th>\n",
              "      <th>Age</th>\n",
              "      <th>...</th>\n",
              "      <th>FT%</th>\n",
              "      <th>ORB</th>\n",
              "      <th>DRB</th>\n",
              "      <th>TRB</th>\n",
              "      <th>AST</th>\n",
              "      <th>STL</th>\n",
              "      <th>BLK</th>\n",
              "      <th>TOV</th>\n",
              "      <th>PF</th>\n",
              "      <th>PTS</th>\n",
              "    </tr>\n",
              "  </thead>\n",
              "  <tbody>\n",
              "    <tr>\n",
              "      <th>235</th>\n",
              "      <td>Kleggie Hermsen</td>\n",
              "      <td>206.0</td>\n",
              "      <td>102.0</td>\n",
              "      <td>1947</td>\n",
              "      <td>1953</td>\n",
              "      <td>C-F</td>\n",
              "      <td>March 12, 1923</td>\n",
              "      <td>1950.0</td>\n",
              "      <td>C-F</td>\n",
              "      <td>26.0</td>\n",
              "      <td>...</td>\n",
              "      <td>0.619</td>\n",
              "      <td>0.0</td>\n",
              "      <td>0.0</td>\n",
              "      <td>0.0</td>\n",
              "      <td>98.0</td>\n",
              "      <td>0.0</td>\n",
              "      <td>0.0</td>\n",
              "      <td>0.0</td>\n",
              "      <td>267.0</td>\n",
              "      <td>545.0</td>\n",
              "    </tr>\n",
              "    <tr>\n",
              "      <th>236</th>\n",
              "      <td>Kleggie Hermsen</td>\n",
              "      <td>206.0</td>\n",
              "      <td>102.0</td>\n",
              "      <td>1947</td>\n",
              "      <td>1953</td>\n",
              "      <td>C-F</td>\n",
              "      <td>March 12, 1923</td>\n",
              "      <td>1951.0</td>\n",
              "      <td>C-F</td>\n",
              "      <td>27.0</td>\n",
              "      <td>...</td>\n",
              "      <td>0.654</td>\n",
              "      <td>0.0</td>\n",
              "      <td>0.0</td>\n",
              "      <td>448.0</td>\n",
              "      <td>92.0</td>\n",
              "      <td>0.0</td>\n",
              "      <td>0.0</td>\n",
              "      <td>0.0</td>\n",
              "      <td>261.0</td>\n",
              "      <td>533.0</td>\n",
              "    </tr>\n",
              "    <tr>\n",
              "      <th>237</th>\n",
              "      <td>Kleggie Hermsen</td>\n",
              "      <td>206.0</td>\n",
              "      <td>102.0</td>\n",
              "      <td>1947</td>\n",
              "      <td>1953</td>\n",
              "      <td>C-F</td>\n",
              "      <td>March 12, 1923</td>\n",
              "      <td>1953.0</td>\n",
              "      <td>C-F</td>\n",
              "      <td>29.0</td>\n",
              "      <td>...</td>\n",
              "      <td>0.600</td>\n",
              "      <td>0.0</td>\n",
              "      <td>0.0</td>\n",
              "      <td>19.0</td>\n",
              "      <td>4.0</td>\n",
              "      <td>0.0</td>\n",
              "      <td>0.0</td>\n",
              "      <td>0.0</td>\n",
              "      <td>18.0</td>\n",
              "      <td>11.0</td>\n",
              "    </tr>\n",
              "    <tr>\n",
              "      <th>238</th>\n",
              "      <td>Kleggie Hermsen</td>\n",
              "      <td>206.0</td>\n",
              "      <td>102.0</td>\n",
              "      <td>1947</td>\n",
              "      <td>1953</td>\n",
              "      <td>C-F</td>\n",
              "      <td>March 12, 1923</td>\n",
              "      <td>1953.0</td>\n",
              "      <td>C-F</td>\n",
              "      <td>29.0</td>\n",
              "      <td>...</td>\n",
              "      <td>0.500</td>\n",
              "      <td>0.0</td>\n",
              "      <td>0.0</td>\n",
              "      <td>7.0</td>\n",
              "      <td>0.0</td>\n",
              "      <td>0.0</td>\n",
              "      <td>0.0</td>\n",
              "      <td>0.0</td>\n",
              "      <td>6.0</td>\n",
              "      <td>1.0</td>\n",
              "    </tr>\n",
              "    <tr>\n",
              "      <th>239</th>\n",
              "      <td>Kleggie Hermsen</td>\n",
              "      <td>206.0</td>\n",
              "      <td>102.0</td>\n",
              "      <td>1947</td>\n",
              "      <td>1953</td>\n",
              "      <td>C-F</td>\n",
              "      <td>March 12, 1923</td>\n",
              "      <td>1953.0</td>\n",
              "      <td>C-F</td>\n",
              "      <td>29.0</td>\n",
              "      <td>...</td>\n",
              "      <td>0.667</td>\n",
              "      <td>0.0</td>\n",
              "      <td>0.0</td>\n",
              "      <td>12.0</td>\n",
              "      <td>4.0</td>\n",
              "      <td>0.0</td>\n",
              "      <td>0.0</td>\n",
              "      <td>0.0</td>\n",
              "      <td>12.0</td>\n",
              "      <td>10.0</td>\n",
              "    </tr>\n",
              "  </tbody>\n",
              "</table>\n",
              "<p>5 rows × 58 columns</p>\n",
              "</div>\n",
              "    <div class=\"colab-df-buttons\">\n",
              "\n",
              "  <div class=\"colab-df-container\">\n",
              "    <button class=\"colab-df-convert\" onclick=\"convertToInteractive('df-99386757-6e83-4fc2-b7d1-8b971c862e4d')\"\n",
              "            title=\"Convert this dataframe to an interactive table.\"\n",
              "            style=\"display:none;\">\n",
              "\n",
              "  <svg xmlns=\"http://www.w3.org/2000/svg\" height=\"24px\" viewBox=\"0 -960 960 960\">\n",
              "    <path d=\"M120-120v-720h720v720H120Zm60-500h600v-160H180v160Zm220 220h160v-160H400v160Zm0 220h160v-160H400v160ZM180-400h160v-160H180v160Zm440 0h160v-160H620v160ZM180-180h160v-160H180v160Zm440 0h160v-160H620v160Z\"/>\n",
              "  </svg>\n",
              "    </button>\n",
              "\n",
              "  <style>\n",
              "    .colab-df-container {\n",
              "      display:flex;\n",
              "      gap: 12px;\n",
              "    }\n",
              "\n",
              "    .colab-df-convert {\n",
              "      background-color: #E8F0FE;\n",
              "      border: none;\n",
              "      border-radius: 50%;\n",
              "      cursor: pointer;\n",
              "      display: none;\n",
              "      fill: #1967D2;\n",
              "      height: 32px;\n",
              "      padding: 0 0 0 0;\n",
              "      width: 32px;\n",
              "    }\n",
              "\n",
              "    .colab-df-convert:hover {\n",
              "      background-color: #E2EBFA;\n",
              "      box-shadow: 0px 1px 2px rgba(60, 64, 67, 0.3), 0px 1px 3px 1px rgba(60, 64, 67, 0.15);\n",
              "      fill: #174EA6;\n",
              "    }\n",
              "\n",
              "    .colab-df-buttons div {\n",
              "      margin-bottom: 4px;\n",
              "    }\n",
              "\n",
              "    [theme=dark] .colab-df-convert {\n",
              "      background-color: #3B4455;\n",
              "      fill: #D2E3FC;\n",
              "    }\n",
              "\n",
              "    [theme=dark] .colab-df-convert:hover {\n",
              "      background-color: #434B5C;\n",
              "      box-shadow: 0px 1px 3px 1px rgba(0, 0, 0, 0.15);\n",
              "      filter: drop-shadow(0px 1px 2px rgba(0, 0, 0, 0.3));\n",
              "      fill: #FFFFFF;\n",
              "    }\n",
              "  </style>\n",
              "\n",
              "    <script>\n",
              "      const buttonEl =\n",
              "        document.querySelector('#df-99386757-6e83-4fc2-b7d1-8b971c862e4d button.colab-df-convert');\n",
              "      buttonEl.style.display =\n",
              "        google.colab.kernel.accessAllowed ? 'block' : 'none';\n",
              "\n",
              "      async function convertToInteractive(key) {\n",
              "        const element = document.querySelector('#df-99386757-6e83-4fc2-b7d1-8b971c862e4d');\n",
              "        const dataTable =\n",
              "          await google.colab.kernel.invokeFunction('convertToInteractive',\n",
              "                                                    [key], {});\n",
              "        if (!dataTable) return;\n",
              "\n",
              "        const docLinkHtml = 'Like what you see? Visit the ' +\n",
              "          '<a target=\"_blank\" href=https://colab.research.google.com/notebooks/data_table.ipynb>data table notebook</a>'\n",
              "          + ' to learn more about interactive tables.';\n",
              "        element.innerHTML = '';\n",
              "        dataTable['output_type'] = 'display_data';\n",
              "        await google.colab.output.renderOutput(dataTable, element);\n",
              "        const docLink = document.createElement('div');\n",
              "        docLink.innerHTML = docLinkHtml;\n",
              "        element.appendChild(docLink);\n",
              "      }\n",
              "    </script>\n",
              "  </div>\n",
              "\n",
              "\n",
              "<div id=\"df-faa6cf99-581d-4ae6-81cd-08278e9c044d\">\n",
              "  <button class=\"colab-df-quickchart\" onclick=\"quickchart('df-faa6cf99-581d-4ae6-81cd-08278e9c044d')\"\n",
              "            title=\"Suggest charts\"\n",
              "            style=\"display:none;\">\n",
              "\n",
              "<svg xmlns=\"http://www.w3.org/2000/svg\" height=\"24px\"viewBox=\"0 0 24 24\"\n",
              "     width=\"24px\">\n",
              "    <g>\n",
              "        <path d=\"M19 3H5c-1.1 0-2 .9-2 2v14c0 1.1.9 2 2 2h14c1.1 0 2-.9 2-2V5c0-1.1-.9-2-2-2zM9 17H7v-7h2v7zm4 0h-2V7h2v10zm4 0h-2v-4h2v4z\"/>\n",
              "    </g>\n",
              "</svg>\n",
              "  </button>\n",
              "\n",
              "<style>\n",
              "  .colab-df-quickchart {\n",
              "      --bg-color: #E8F0FE;\n",
              "      --fill-color: #1967D2;\n",
              "      --hover-bg-color: #E2EBFA;\n",
              "      --hover-fill-color: #174EA6;\n",
              "      --disabled-fill-color: #AAA;\n",
              "      --disabled-bg-color: #DDD;\n",
              "  }\n",
              "\n",
              "  [theme=dark] .colab-df-quickchart {\n",
              "      --bg-color: #3B4455;\n",
              "      --fill-color: #D2E3FC;\n",
              "      --hover-bg-color: #434B5C;\n",
              "      --hover-fill-color: #FFFFFF;\n",
              "      --disabled-bg-color: #3B4455;\n",
              "      --disabled-fill-color: #666;\n",
              "  }\n",
              "\n",
              "  .colab-df-quickchart {\n",
              "    background-color: var(--bg-color);\n",
              "    border: none;\n",
              "    border-radius: 50%;\n",
              "    cursor: pointer;\n",
              "    display: none;\n",
              "    fill: var(--fill-color);\n",
              "    height: 32px;\n",
              "    padding: 0;\n",
              "    width: 32px;\n",
              "  }\n",
              "\n",
              "  .colab-df-quickchart:hover {\n",
              "    background-color: var(--hover-bg-color);\n",
              "    box-shadow: 0 1px 2px rgba(60, 64, 67, 0.3), 0 1px 3px 1px rgba(60, 64, 67, 0.15);\n",
              "    fill: var(--button-hover-fill-color);\n",
              "  }\n",
              "\n",
              "  .colab-df-quickchart-complete:disabled,\n",
              "  .colab-df-quickchart-complete:disabled:hover {\n",
              "    background-color: var(--disabled-bg-color);\n",
              "    fill: var(--disabled-fill-color);\n",
              "    box-shadow: none;\n",
              "  }\n",
              "\n",
              "  .colab-df-spinner {\n",
              "    border: 2px solid var(--fill-color);\n",
              "    border-color: transparent;\n",
              "    border-bottom-color: var(--fill-color);\n",
              "    animation:\n",
              "      spin 1s steps(1) infinite;\n",
              "  }\n",
              "\n",
              "  @keyframes spin {\n",
              "    0% {\n",
              "      border-color: transparent;\n",
              "      border-bottom-color: var(--fill-color);\n",
              "      border-left-color: var(--fill-color);\n",
              "    }\n",
              "    20% {\n",
              "      border-color: transparent;\n",
              "      border-left-color: var(--fill-color);\n",
              "      border-top-color: var(--fill-color);\n",
              "    }\n",
              "    30% {\n",
              "      border-color: transparent;\n",
              "      border-left-color: var(--fill-color);\n",
              "      border-top-color: var(--fill-color);\n",
              "      border-right-color: var(--fill-color);\n",
              "    }\n",
              "    40% {\n",
              "      border-color: transparent;\n",
              "      border-right-color: var(--fill-color);\n",
              "      border-top-color: var(--fill-color);\n",
              "    }\n",
              "    60% {\n",
              "      border-color: transparent;\n",
              "      border-right-color: var(--fill-color);\n",
              "    }\n",
              "    80% {\n",
              "      border-color: transparent;\n",
              "      border-right-color: var(--fill-color);\n",
              "      border-bottom-color: var(--fill-color);\n",
              "    }\n",
              "    90% {\n",
              "      border-color: transparent;\n",
              "      border-bottom-color: var(--fill-color);\n",
              "    }\n",
              "  }\n",
              "</style>\n",
              "\n",
              "  <script>\n",
              "    async function quickchart(key) {\n",
              "      const quickchartButtonEl =\n",
              "        document.querySelector('#' + key + ' button');\n",
              "      quickchartButtonEl.disabled = true;  // To prevent multiple clicks.\n",
              "      quickchartButtonEl.classList.add('colab-df-spinner');\n",
              "      try {\n",
              "        const charts = await google.colab.kernel.invokeFunction(\n",
              "            'suggestCharts', [key], {});\n",
              "      } catch (error) {\n",
              "        console.error('Error during call to suggestCharts:', error);\n",
              "      }\n",
              "      quickchartButtonEl.classList.remove('colab-df-spinner');\n",
              "      quickchartButtonEl.classList.add('colab-df-quickchart-complete');\n",
              "    }\n",
              "    (() => {\n",
              "      let quickchartButtonEl =\n",
              "        document.querySelector('#df-faa6cf99-581d-4ae6-81cd-08278e9c044d button');\n",
              "      quickchartButtonEl.style.display =\n",
              "        google.colab.kernel.accessAllowed ? 'block' : 'none';\n",
              "    })();\n",
              "  </script>\n",
              "</div>\n",
              "    </div>\n",
              "  </div>\n"
            ],
            "text/plain": [
              "              Player  height_x  weight_x  year_start  year_end position  \\\n",
              "235  Kleggie Hermsen     206.0     102.0        1947      1953      C-F   \n",
              "236  Kleggie Hermsen     206.0     102.0        1947      1953      C-F   \n",
              "237  Kleggie Hermsen     206.0     102.0        1947      1953      C-F   \n",
              "238  Kleggie Hermsen     206.0     102.0        1947      1953      C-F   \n",
              "239  Kleggie Hermsen     206.0     102.0        1947      1953      C-F   \n",
              "\n",
              "         birth_date    Year  Pos   Age  ...    FT%  ORB  DRB    TRB   AST  \\\n",
              "235  March 12, 1923  1950.0  C-F  26.0  ...  0.619  0.0  0.0    0.0  98.0   \n",
              "236  March 12, 1923  1951.0  C-F  27.0  ...  0.654  0.0  0.0  448.0  92.0   \n",
              "237  March 12, 1923  1953.0  C-F  29.0  ...  0.600  0.0  0.0   19.0   4.0   \n",
              "238  March 12, 1923  1953.0  C-F  29.0  ...  0.500  0.0  0.0    7.0   0.0   \n",
              "239  March 12, 1923  1953.0  C-F  29.0  ...  0.667  0.0  0.0   12.0   4.0   \n",
              "\n",
              "     STL  BLK  TOV     PF    PTS  \n",
              "235  0.0  0.0  0.0  267.0  545.0  \n",
              "236  0.0  0.0  0.0  261.0  533.0  \n",
              "237  0.0  0.0  0.0   18.0   11.0  \n",
              "238  0.0  0.0  0.0    6.0    1.0  \n",
              "239  0.0  0.0  0.0   12.0   10.0  \n",
              "\n",
              "[5 rows x 58 columns]"
            ]
          },
          "execution_count": 61,
          "metadata": {},
          "output_type": "execute_result"
        }
      ],
      "source": [
        "df_clean_AP = df_clean_copy[df_clean_copy['position'] == 'C-F']\n",
        "df_clean_AP.head()"
      ]
    },
    {
      "cell_type": "code",
      "execution_count": null,
      "metadata": {
        "colab": {
          "base_uri": "https://localhost:8080/"
        },
        "id": "1iRt1flK_puL",
        "outputId": "1c69d3a4-f8c4-4162-bfc2-91c2fe38803c"
      },
      "outputs": [
        {
          "data": {
            "text/plain": [
              "Year\n",
              "1950.0    0.000000\n",
              "1951.0    0.000000\n",
              "1952.0    0.000000\n",
              "1953.0    0.000000\n",
              "1954.0    0.000000\n",
              "            ...   \n",
              "2013.0    0.130789\n",
              "2014.0    0.187864\n",
              "2015.0    0.171962\n",
              "2016.0    0.211200\n",
              "2017.0    0.187605\n",
              "Name: 3P%, Length: 68, dtype: float64"
            ]
          },
          "execution_count": 63,
          "metadata": {},
          "output_type": "execute_result"
        }
      ],
      "source": [
        "#información sobre la posición de Ala-Pivot\n",
        "\n",
        "tabla_media_triples_AP = df_clean_AP.groupby('Year')['3P%'].mean()\n",
        "tabla_media_triples_AP"
      ]
    },
    {
      "cell_type": "code",
      "execution_count": null,
      "metadata": {
        "colab": {
          "base_uri": "https://localhost:8080/",
          "height": 449
        },
        "id": "5RGxTUiZAPhP",
        "outputId": "3d86f80c-fb62-421f-f3b3-2a028f8af095"
      },
      "outputs": [
        {
          "data": {
            "image/png": "[encoded data removed]",
            "text/plain": [
              "<Figure size 640x480 with 1 Axes>"
            ]
          },
          "metadata": {},
          "output_type": "display_data"
        }
      ],
      "source": [
        "fig, ax = plt.subplots(1,1)\n",
        "tabla_media_triples_AP.plot(ax = ax, label = 'Train')\n",
        "plt.show()"
      ]
    },
    {
      "cell_type": "markdown",
      "metadata": {
        "id": "OIBW5ZQcAWTj"
      },
      "source": [
        "### ARIMA ALA-PIVOTS (C-F) 2000-2010"
      ]
    },
    {
      "cell_type": "code",
      "execution_count": null,
      "metadata": {
        "colab": {
          "base_uri": "https://localhost:8080/",
          "height": 235
        },
        "id": "gps97ftLAVUt",
        "outputId": "cc735ed2-bfc2-472d-f1c2-c55b715e69f1"
      },
      "outputs": [
        {
          "data": {
            "text/html": [
              "\n",
              "  <div id=\"df-ab095c84-7c65-4be6-a5b8-f994c31584fe\" class=\"colab-df-container\">\n",
              "    <div>\n",
              "<style scoped>\n",
              "    .dataframe tbody tr th:only-of-type {\n",
              "        vertical-align: middle;\n",
              "    }\n",
              "\n",
              "    .dataframe tbody tr th {\n",
              "        vertical-align: top;\n",
              "    }\n",
              "\n",
              "    .dataframe thead th {\n",
              "        text-align: right;\n",
              "    }\n",
              "</style>\n",
              "<table border=\"1\" class=\"dataframe\">\n",
              "  <thead>\n",
              "    <tr style=\"text-align: right;\">\n",
              "      <th></th>\n",
              "      <th>Player</th>\n",
              "      <th>height_x</th>\n",
              "      <th>weight_x</th>\n",
              "      <th>year_start</th>\n",
              "      <th>year_end</th>\n",
              "      <th>position</th>\n",
              "      <th>birth_date</th>\n",
              "      <th>Year</th>\n",
              "      <th>Pos</th>\n",
              "      <th>Age</th>\n",
              "      <th>...</th>\n",
              "      <th>FT%</th>\n",
              "      <th>ORB</th>\n",
              "      <th>DRB</th>\n",
              "      <th>TRB</th>\n",
              "      <th>AST</th>\n",
              "      <th>STL</th>\n",
              "      <th>BLK</th>\n",
              "      <th>TOV</th>\n",
              "      <th>PF</th>\n",
              "      <th>PTS</th>\n",
              "    </tr>\n",
              "  </thead>\n",
              "  <tbody>\n",
              "    <tr>\n",
              "      <th>9932</th>\n",
              "      <td>Olden Polynice</td>\n",
              "      <td>211.0</td>\n",
              "      <td>99.0</td>\n",
              "      <td>1988</td>\n",
              "      <td>2004</td>\n",
              "      <td>C-F</td>\n",
              "      <td>November 21, 1964</td>\n",
              "      <td>2001.0</td>\n",
              "      <td>C</td>\n",
              "      <td>36.0</td>\n",
              "      <td>...</td>\n",
              "      <td>0.262</td>\n",
              "      <td>157.0</td>\n",
              "      <td>221.0</td>\n",
              "      <td>378.0</td>\n",
              "      <td>31.0</td>\n",
              "      <td>27.0</td>\n",
              "      <td>77.0</td>\n",
              "      <td>78.0</td>\n",
              "      <td>241.0</td>\n",
              "      <td>429.0</td>\n",
              "    </tr>\n",
              "    <tr>\n",
              "      <th>9933</th>\n",
              "      <td>Olden Polynice</td>\n",
              "      <td>211.0</td>\n",
              "      <td>99.0</td>\n",
              "      <td>1988</td>\n",
              "      <td>2004</td>\n",
              "      <td>C-F</td>\n",
              "      <td>November 21, 1964</td>\n",
              "      <td>2004.0</td>\n",
              "      <td>C</td>\n",
              "      <td>39.0</td>\n",
              "      <td>...</td>\n",
              "      <td>0.000</td>\n",
              "      <td>1.0</td>\n",
              "      <td>1.0</td>\n",
              "      <td>2.0</td>\n",
              "      <td>1.0</td>\n",
              "      <td>1.0</td>\n",
              "      <td>0.0</td>\n",
              "      <td>4.0</td>\n",
              "      <td>2.0</td>\n",
              "      <td>0.0</td>\n",
              "    </tr>\n",
              "    <tr>\n",
              "      <th>11871</th>\n",
              "      <td>Victor Alexander</td>\n",
              "      <td>206.0</td>\n",
              "      <td>120.0</td>\n",
              "      <td>1992</td>\n",
              "      <td>2002</td>\n",
              "      <td>C-F</td>\n",
              "      <td>August 31, 1969</td>\n",
              "      <td>2002.0</td>\n",
              "      <td>C</td>\n",
              "      <td>32.0</td>\n",
              "      <td>...</td>\n",
              "      <td>0.500</td>\n",
              "      <td>7.0</td>\n",
              "      <td>22.0</td>\n",
              "      <td>29.0</td>\n",
              "      <td>6.0</td>\n",
              "      <td>0.0</td>\n",
              "      <td>1.0</td>\n",
              "      <td>5.0</td>\n",
              "      <td>6.0</td>\n",
              "      <td>40.0</td>\n",
              "    </tr>\n",
              "    <tr>\n",
              "      <th>13726</th>\n",
              "      <td>Carlos Rogers</td>\n",
              "      <td>211.0</td>\n",
              "      <td>99.0</td>\n",
              "      <td>1995</td>\n",
              "      <td>2002</td>\n",
              "      <td>C-F</td>\n",
              "      <td>February 6, 1971</td>\n",
              "      <td>2001.0</td>\n",
              "      <td>C</td>\n",
              "      <td>29.0</td>\n",
              "      <td>...</td>\n",
              "      <td>0.558</td>\n",
              "      <td>48.0</td>\n",
              "      <td>91.0</td>\n",
              "      <td>139.0</td>\n",
              "      <td>9.0</td>\n",
              "      <td>10.0</td>\n",
              "      <td>18.0</td>\n",
              "      <td>17.0</td>\n",
              "      <td>33.0</td>\n",
              "      <td>179.0</td>\n",
              "    </tr>\n",
              "    <tr>\n",
              "      <th>13727</th>\n",
              "      <td>Carlos Rogers</td>\n",
              "      <td>211.0</td>\n",
              "      <td>99.0</td>\n",
              "      <td>1995</td>\n",
              "      <td>2002</td>\n",
              "      <td>C-F</td>\n",
              "      <td>February 6, 1971</td>\n",
              "      <td>2002.0</td>\n",
              "      <td>C</td>\n",
              "      <td>30.0</td>\n",
              "      <td>...</td>\n",
              "      <td>0.526</td>\n",
              "      <td>14.0</td>\n",
              "      <td>24.0</td>\n",
              "      <td>38.0</td>\n",
              "      <td>3.0</td>\n",
              "      <td>5.0</td>\n",
              "      <td>6.0</td>\n",
              "      <td>5.0</td>\n",
              "      <td>17.0</td>\n",
              "      <td>59.0</td>\n",
              "    </tr>\n",
              "  </tbody>\n",
              "</table>\n",
              "<p>5 rows × 58 columns</p>\n",
              "</div>\n",
              "    <div class=\"colab-df-buttons\">\n",
              "\n",
              "  <div class=\"colab-df-container\">\n",
              "    <button class=\"colab-df-convert\" onclick=\"convertToInteractive('df-ab095c84-7c65-4be6-a5b8-f994c31584fe')\"\n",
              "            title=\"Convert this dataframe to an interactive table.\"\n",
              "            style=\"display:none;\">\n",
              "\n",
              "  <svg xmlns=\"http://www.w3.org/2000/svg\" height=\"24px\" viewBox=\"0 -960 960 960\">\n",
              "    <path d=\"M120-120v-720h720v720H120Zm60-500h600v-160H180v160Zm220 220h160v-160H400v160Zm0 220h160v-160H400v160ZM180-400h160v-160H180v160Zm440 0h160v-160H620v160ZM180-180h160v-160H180v160Zm440 0h160v-160H620v160Z\"/>\n",
              "  </svg>\n",
              "    </button>\n",
              "\n",
              "  <style>\n",
              "    .colab-df-container {\n",
              "      display:flex;\n",
              "      gap: 12px;\n",
              "    }\n",
              "\n",
              "    .colab-df-convert {\n",
              "      background-color: #E8F0FE;\n",
              "      border: none;\n",
              "      border-radius: 50%;\n",
              "      cursor: pointer;\n",
              "      display: none;\n",
              "      fill: #1967D2;\n",
              "      height: 32px;\n",
              "      padding: 0 0 0 0;\n",
              "      width: 32px;\n",
              "    }\n",
              "\n",
              "    .colab-df-convert:hover {\n",
              "      background-color: #E2EBFA;\n",
              "      box-shadow: 0px 1px 2px rgba(60, 64, 67, 0.3), 0px 1px 3px 1px rgba(60, 64, 67, 0.15);\n",
              "      fill: #174EA6;\n",
              "    }\n",
              "\n",
              "    .colab-df-buttons div {\n",
              "      margin-bottom: 4px;\n",
              "    }\n",
              "\n",
              "    [theme=dark] .colab-df-convert {\n",
              "      background-color: #3B4455;\n",
              "      fill: #D2E3FC;\n",
              "    }\n",
              "\n",
              "    [theme=dark] .colab-df-convert:hover {\n",
              "      background-color: #434B5C;\n",
              "      box-shadow: 0px 1px 3px 1px rgba(0, 0, 0, 0.15);\n",
              "      filter: drop-shadow(0px 1px 2px rgba(0, 0, 0, 0.3));\n",
              "      fill: #FFFFFF;\n",
              "    }\n",
              "  </style>\n",
              "\n",
              "    <script>\n",
              "      const buttonEl =\n",
              "        document.querySelector('#df-ab095c84-7c65-4be6-a5b8-f994c31584fe button.colab-df-convert');\n",
              "      buttonEl.style.display =\n",
              "        google.colab.kernel.accessAllowed ? 'block' : 'none';\n",
              "\n",
              "      async function convertToInteractive(key) {\n",
              "        const element = document.querySelector('#df-ab095c84-7c65-4be6-a5b8-f994c31584fe');\n",
              "        const dataTable =\n",
              "          await google.colab.kernel.invokeFunction('convertToInteractive',\n",
              "                                                    [key], {});\n",
              "        if (!dataTable) return;\n",
              "\n",
              "        const docLinkHtml = 'Like what you see? Visit the ' +\n",
              "          '<a target=\"_blank\" href=https://colab.research.google.com/notebooks/data_table.ipynb>data table notebook</a>'\n",
              "          + ' to learn more about interactive tables.';\n",
              "        element.innerHTML = '';\n",
              "        dataTable['output_type'] = 'display_data';\n",
              "        await google.colab.output.renderOutput(dataTable, element);\n",
              "        const docLink = document.createElement('div');\n",
              "        docLink.innerHTML = docLinkHtml;\n",
              "        element.appendChild(docLink);\n",
              "      }\n",
              "    </script>\n",
              "  </div>\n",
              "\n",
              "\n",
              "<div id=\"df-6dc30177-742d-4f05-abb7-e1e912f28cc9\">\n",
              "  <button class=\"colab-df-quickchart\" onclick=\"quickchart('df-6dc30177-742d-4f05-abb7-e1e912f28cc9')\"\n",
              "            title=\"Suggest charts\"\n",
              "            style=\"display:none;\">\n",
              "\n",
              "<svg xmlns=\"http://www.w3.org/2000/svg\" height=\"24px\"viewBox=\"0 0 24 24\"\n",
              "     width=\"24px\">\n",
              "    <g>\n",
              "        <path d=\"M19 3H5c-1.1 0-2 .9-2 2v14c0 1.1.9 2 2 2h14c1.1 0 2-.9 2-2V5c0-1.1-.9-2-2-2zM9 17H7v-7h2v7zm4 0h-2V7h2v10zm4 0h-2v-4h2v4z\"/>\n",
              "    </g>\n",
              "</svg>\n",
              "  </button>\n",
              "\n",
              "<style>\n",
              "  .colab-df-quickchart {\n",
              "      --bg-color: #E8F0FE;\n",
              "      --fill-color: #1967D2;\n",
              "      --hover-bg-color: #E2EBFA;\n",
              "      --hover-fill-color: #174EA6;\n",
              "      --disabled-fill-color: #AAA;\n",
              "      --disabled-bg-color: #DDD;\n",
              "  }\n",
              "\n",
              "  [theme=dark] .colab-df-quickchart {\n",
              "      --bg-color: #3B4455;\n",
              "      --fill-color: #D2E3FC;\n",
              "      --hover-bg-color: #434B5C;\n",
              "      --hover-fill-color: #FFFFFF;\n",
              "      --disabled-bg-color: #3B4455;\n",
              "      --disabled-fill-color: #666;\n",
              "  }\n",
              "\n",
              "  .colab-df-quickchart {\n",
              "    background-color: var(--bg-color);\n",
              "    border: none;\n",
              "    border-radius: 50%;\n",
              "    cursor: pointer;\n",
              "    display: none;\n",
              "    fill: var(--fill-color);\n",
              "    height: 32px;\n",
              "    padding: 0;\n",
              "    width: 32px;\n",
              "  }\n",
              "\n",
              "  .colab-df-quickchart:hover {\n",
              "    background-color: var(--hover-bg-color);\n",
              "    box-shadow: 0 1px 2px rgba(60, 64, 67, 0.3), 0 1px 3px 1px rgba(60, 64, 67, 0.15);\n",
              "    fill: var(--button-hover-fill-color);\n",
              "  }\n",
              "\n",
              "  .colab-df-quickchart-complete:disabled,\n",
              "  .colab-df-quickchart-complete:disabled:hover {\n",
              "    background-color: var(--disabled-bg-color);\n",
              "    fill: var(--disabled-fill-color);\n",
              "    box-shadow: none;\n",
              "  }\n",
              "\n",
              "  .colab-df-spinner {\n",
              "    border: 2px solid var(--fill-color);\n",
              "    border-color: transparent;\n",
              "    border-bottom-color: var(--fill-color);\n",
              "    animation:\n",
              "      spin 1s steps(1) infinite;\n",
              "  }\n",
              "\n",
              "  @keyframes spin {\n",
              "    0% {\n",
              "      border-color: transparent;\n",
              "      border-bottom-color: var(--fill-color);\n",
              "      border-left-color: var(--fill-color);\n",
              "    }\n",
              "    20% {\n",
              "      border-color: transparent;\n",
              "      border-left-color: var(--fill-color);\n",
              "      border-top-color: var(--fill-color);\n",
              "    }\n",
              "    30% {\n",
              "      border-color: transparent;\n",
              "      border-left-color: var(--fill-color);\n",
              "      border-top-color: var(--fill-color);\n",
              "      border-right-color: var(--fill-color);\n",
              "    }\n",
              "    40% {\n",
              "      border-color: transparent;\n",
              "      border-right-color: var(--fill-color);\n",
              "      border-top-color: var(--fill-color);\n",
              "    }\n",
              "    60% {\n",
              "      border-color: transparent;\n",
              "      border-right-color: var(--fill-color);\n",
              "    }\n",
              "    80% {\n",
              "      border-color: transparent;\n",
              "      border-right-color: var(--fill-color);\n",
              "      border-bottom-color: var(--fill-color);\n",
              "    }\n",
              "    90% {\n",
              "      border-color: transparent;\n",
              "      border-bottom-color: var(--fill-color);\n",
              "    }\n",
              "  }\n",
              "</style>\n",
              "\n",
              "  <script>\n",
              "    async function quickchart(key) {\n",
              "      const quickchartButtonEl =\n",
              "        document.querySelector('#' + key + ' button');\n",
              "      quickchartButtonEl.disabled = true;  // To prevent multiple clicks.\n",
              "      quickchartButtonEl.classList.add('colab-df-spinner');\n",
              "      try {\n",
              "        const charts = await google.colab.kernel.invokeFunction(\n",
              "            'suggestCharts', [key], {});\n",
              "      } catch (error) {\n",
              "        console.error('Error during call to suggestCharts:', error);\n",
              "      }\n",
              "      quickchartButtonEl.classList.remove('colab-df-spinner');\n",
              "      quickchartButtonEl.classList.add('colab-df-quickchart-complete');\n",
              "    }\n",
              "    (() => {\n",
              "      let quickchartButtonEl =\n",
              "        document.querySelector('#df-6dc30177-742d-4f05-abb7-e1e912f28cc9 button');\n",
              "      quickchartButtonEl.style.display =\n",
              "        google.colab.kernel.accessAllowed ? 'block' : 'none';\n",
              "    })();\n",
              "  </script>\n",
              "</div>\n",
              "    </div>\n",
              "  </div>\n"
            ],
            "text/plain": [
              "                 Player  height_x  weight_x  year_start  year_end position  \\\n",
              "9932     Olden Polynice     211.0      99.0        1988      2004      C-F   \n",
              "9933     Olden Polynice     211.0      99.0        1988      2004      C-F   \n",
              "11871  Victor Alexander     206.0     120.0        1992      2002      C-F   \n",
              "13726     Carlos Rogers     211.0      99.0        1995      2002      C-F   \n",
              "13727     Carlos Rogers     211.0      99.0        1995      2002      C-F   \n",
              "\n",
              "              birth_date    Year Pos   Age  ...    FT%    ORB    DRB    TRB  \\\n",
              "9932   November 21, 1964  2001.0   C  36.0  ...  0.262  157.0  221.0  378.0   \n",
              "9933   November 21, 1964  2004.0   C  39.0  ...  0.000    1.0    1.0    2.0   \n",
              "11871    August 31, 1969  2002.0   C  32.0  ...  0.500    7.0   22.0   29.0   \n",
              "13726   February 6, 1971  2001.0   C  29.0  ...  0.558   48.0   91.0  139.0   \n",
              "13727   February 6, 1971  2002.0   C  30.0  ...  0.526   14.0   24.0   38.0   \n",
              "\n",
              "        AST   STL   BLK   TOV     PF    PTS  \n",
              "9932   31.0  27.0  77.0  78.0  241.0  429.0  \n",
              "9933    1.0   1.0   0.0   4.0    2.0    0.0  \n",
              "11871   6.0   0.0   1.0   5.0    6.0   40.0  \n",
              "13726   9.0  10.0  18.0  17.0   33.0  179.0  \n",
              "13727   3.0   5.0   6.0   5.0   17.0   59.0  \n",
              "\n",
              "[5 rows x 58 columns]"
            ]
          },
          "execution_count": 77,
          "metadata": {},
          "output_type": "execute_result"
        }
      ],
      "source": [
        "tabla_AP_año_2000_2010 = df_clean_AP[(df_clean_AP['Year'] > 2000.0) & (df_clean_AP['Year'] < 2010.0)]\n",
        "tabla_AP_año_2000_2010.head()"
      ]
    },
    {
      "cell_type": "code",
      "execution_count": null,
      "metadata": {
        "colab": {
          "base_uri": "https://localhost:8080/"
        },
        "id": "xxOOWoeWA-A5",
        "outputId": "e3e162f1-46fe-48e3-8179-3610c5af2809"
      },
      "outputs": [
        {
          "data": {
            "text/plain": [
              "Year\n",
              "2001.0    0.012500\n",
              "2002.0    0.020875\n",
              "2003.0    0.197750\n",
              "2004.0    0.156545\n",
              "2005.0    0.038571\n",
              "2006.0    0.087667\n",
              "2007.0    0.082400\n",
              "2008.0    0.084143\n",
              "2009.0    0.167588\n",
              "Name: 3P%, dtype: float64"
            ]
          },
          "execution_count": 79,
          "metadata": {},
          "output_type": "execute_result"
        }
      ],
      "source": [
        "tabla_media_triples_AP_2000 = tabla_AP_año_2000_2010.groupby('Year')['3P%'].mean()\n",
        "tabla_media_triples_AP_2000"
      ]
    },
    {
      "cell_type": "code",
      "execution_count": null,
      "metadata": {
        "colab": {
          "base_uri": "https://localhost:8080/"
        },
        "id": "1PSdqPwrBswk",
        "outputId": "f46c5a53-e21c-4257-b1a9-64ffe37add39"
      },
      "outputs": [
        {
          "name": "stderr",
          "output_type": "stream",
          "text": [
            "/usr/local/lib/python3.10/dist-packages/statsmodels/tsa/base/tsa_model.py:473: ValueWarning: An unsupported index was provided and will be ignored when e.g. forecasting.\n",
            "  self._init_dates(dates, freq)\n",
            "/usr/local/lib/python3.10/dist-packages/statsmodels/tsa/base/tsa_model.py:473: ValueWarning: An unsupported index was provided and will be ignored when e.g. forecasting.\n",
            "  self._init_dates(dates, freq)\n",
            "/usr/local/lib/python3.10/dist-packages/statsmodels/tsa/base/tsa_model.py:473: ValueWarning: An unsupported index was provided and will be ignored when e.g. forecasting.\n",
            "  self._init_dates(dates, freq)\n",
            "/usr/local/lib/python3.10/dist-packages/statsmodels/tsa/statespace/sarimax.py:966: UserWarning: Non-stationary starting autoregressive parameters found. Using zeros as starting parameters.\n",
            "  warn('Non-stationary starting autoregressive parameters'\n"
          ]
        },
        {
          "name": "stdout",
          "output_type": "stream",
          "text": [
            "                               SARIMAX Results                                \n",
            "==============================================================================\n",
            "Dep. Variable:                    3P%   No. Observations:                    9\n",
            "Model:                 ARIMA(5, 1, 1)   Log Likelihood                  15.174\n",
            "Date:                Wed, 22 Nov 2023   AIC                            -16.349\n",
            "Time:                        07:55:43   BIC                            -15.793\n",
            "Sample:                             0   HQIC                           -20.099\n",
            "                                  - 9                                         \n",
            "Covariance Type:                  opg                                         \n",
            "==============================================================================\n",
            "                 coef    std err          z      P>|z|      [0.025      0.975]\n",
            "------------------------------------------------------------------------------\n",
            "ar.L1         -0.1845    116.105     -0.002      0.999    -227.747     227.378\n",
            "ar.L2         -1.3302     25.533     -0.052      0.958     -51.373      48.713\n",
            "ar.L3         -0.0521    146.224     -0.000      1.000    -286.645     286.541\n",
            "ar.L4         -0.8365     12.786     -0.065      0.948     -25.896      24.223\n",
            "ar.L5          0.0992     90.593      0.001      0.999    -177.459     177.657\n",
            "ma.L1          0.2777    187.447      0.001      0.999    -367.112     367.668\n",
            "sigma2         0.0004      0.018      0.021      0.983      -0.036       0.037\n",
            "===================================================================================\n",
            "Ljung-Box (L1) (Q):                   0.13   Jarque-Bera (JB):                 1.30\n",
            "Prob(Q):                              0.72   Prob(JB):                         0.52\n",
            "Heteroskedasticity (H):               0.16   Skew:                             0.98\n",
            "Prob(H) (two-sided):                  0.17   Kurtosis:                         3.13\n",
            "===================================================================================\n",
            "\n",
            "Warnings:\n",
            "[1] Covariance matrix calculated using the outer product of gradients (complex-step).\n"
          ]
        },
        {
          "name": "stderr",
          "output_type": "stream",
          "text": [
            "/usr/local/lib/python3.10/dist-packages/statsmodels/base/model.py:607: ConvergenceWarning: Maximum Likelihood optimization failed to converge. Check mle_retvals\n",
            "  warnings.warn(\"Maximum Likelihood optimization failed to \"\n"
          ]
        }
      ],
      "source": [
        "arima = ARIMA(endog = tabla_media_triples_AP_2000, order = (5,1,1))\n",
        "arima_fit = arima.fit()\n",
        "print(arima_fit.summary())"
      ]
    },
    {
      "cell_type": "code",
      "execution_count": null,
      "metadata": {
        "colab": {
          "base_uri": "https://localhost:8080/"
        },
        "id": "Fc9zg3eQBx-O",
        "outputId": "3c8ba8b4-57ea-404d-ec1c-778191227f45"
      },
      "outputs": [
        {
          "name": "stderr",
          "output_type": "stream",
          "text": [
            "/usr/local/lib/python3.10/dist-packages/statsmodels/tsa/base/tsa_model.py:836: ValueWarning: No supported index is available. Prediction results will be given with an integer index beginning at `start`.\n",
            "  return get_prediction_index(\n",
            "/usr/local/lib/python3.10/dist-packages/statsmodels/tsa/base/tsa_model.py:836: FutureWarning: No supported index is available. In the next version, calling this method in a model without a supported index will result in an exception.\n",
            "  return get_prediction_index(\n"
          ]
        }
      ],
      "source": [
        "predicciones = arima_fit.forecast(steps= 5)\n",
        "predicciones.index = [2010.0,2011.0,2012.0, 2013.0,2014.0]"
      ]
    },
    {
      "cell_type": "code",
      "execution_count": null,
      "metadata": {
        "colab": {
          "base_uri": "https://localhost:8080/",
          "height": 449
        },
        "id": "lOsBCFFQB2ee",
        "outputId": "62807156-86b6-463f-d071-5a3e32c848ee"
      },
      "outputs": [
        {
          "data": {
            "image/png": "[encoded data removed]",
            "text/plain": [
              "<Figure size 640x480 with 1 Axes>"
            ]
          },
          "metadata": {},
          "output_type": "display_data"
        }
      ],
      "source": [
        "fig, ax = plt.subplots(1,1)\n",
        "tabla_media_triples_AP.plot(ax = ax, label = 'Train')\n",
        "predicciones.plot(ax = ax, label = 'Predicciones')\n",
        "plt.show()"
      ]
    },
    {
      "cell_type": "markdown",
      "metadata": {
        "id": "jUEmyVSXGI2y"
      },
      "source": [
        "### ARIMA ALA-PIVOTS (C-F) 2018-2022"
      ]
    },
    {
      "cell_type": "code",
      "execution_count": null,
      "metadata": {
        "colab": {
          "base_uri": "https://localhost:8080/"
        },
        "id": "HiIMrGJ1GTTS",
        "outputId": "6d606cac-3c75-4917-9dac-7f5849b0ac9d"
      },
      "outputs": [
        {
          "name": "stderr",
          "output_type": "stream",
          "text": [
            "/usr/local/lib/python3.10/dist-packages/statsmodels/tsa/base/tsa_model.py:473: ValueWarning: An unsupported index was provided and will be ignored when e.g. forecasting.\n",
            "  self._init_dates(dates, freq)\n",
            "/usr/local/lib/python3.10/dist-packages/statsmodels/tsa/base/tsa_model.py:473: ValueWarning: An unsupported index was provided and will be ignored when e.g. forecasting.\n",
            "  self._init_dates(dates, freq)\n",
            "/usr/local/lib/python3.10/dist-packages/statsmodels/tsa/base/tsa_model.py:473: ValueWarning: An unsupported index was provided and will be ignored when e.g. forecasting.\n",
            "  self._init_dates(dates, freq)\n"
          ]
        },
        {
          "name": "stdout",
          "output_type": "stream",
          "text": [
            "                               SARIMAX Results                                \n",
            "==============================================================================\n",
            "Dep. Variable:                    3P%   No. Observations:                   68\n",
            "Model:                 ARIMA(5, 1, 1)   Log Likelihood                 124.556\n",
            "Date:                Wed, 22 Nov 2023   AIC                           -235.111\n",
            "Time:                        08:16:08   BIC                           -219.678\n",
            "Sample:                             0   HQIC                          -229.004\n",
            "                                 - 68                                         \n",
            "Covariance Type:                  opg                                         \n",
            "==============================================================================\n",
            "                 coef    std err          z      P>|z|      [0.025      0.975]\n",
            "------------------------------------------------------------------------------\n",
            "ar.L1         -0.4467      1.440     -0.310      0.756      -3.270       2.376\n",
            "ar.L2         -0.6721      1.004     -0.670      0.503      -2.640       1.295\n",
            "ar.L3         -0.3652      1.176     -0.311      0.756      -2.670       1.940\n",
            "ar.L4         -0.1946      0.700     -0.278      0.781      -1.567       1.177\n",
            "ar.L5         -0.0157      0.391     -0.040      0.968      -0.782       0.751\n",
            "ma.L1         -0.2723      1.469     -0.185      0.853      -3.151       2.606\n",
            "sigma2         0.0014      0.000      8.331      0.000       0.001       0.002\n",
            "===================================================================================\n",
            "Ljung-Box (L1) (Q):                   0.51   Jarque-Bera (JB):                36.50\n",
            "Prob(Q):                              0.47   Prob(JB):                         0.00\n",
            "Heteroskedasticity (H):                inf   Skew:                             1.07\n",
            "Prob(H) (two-sided):                  0.00   Kurtosis:                         5.91\n",
            "===================================================================================\n",
            "\n",
            "Warnings:\n",
            "[1] Covariance matrix calculated using the outer product of gradients (complex-step).\n"
          ]
        },
        {
          "name": "stderr",
          "output_type": "stream",
          "text": [
            "/usr/local/lib/python3.10/dist-packages/statsmodels/base/model.py:607: ConvergenceWarning: Maximum Likelihood optimization failed to converge. Check mle_retvals\n",
            "  warnings.warn(\"Maximum Likelihood optimization failed to \"\n",
            "/usr/local/lib/python3.10/dist-packages/statsmodels/tsa/stattools.py:1363: RuntimeWarning: divide by zero encountered in divide\n",
            "  test_statistic = numer_squared_sum / denom_squared_sum\n"
          ]
        }
      ],
      "source": [
        "arima = ARIMA(endog = tabla_media_triples_AP, order = (5,1,1))\n",
        "arima_fit = arima.fit()\n",
        "print(arima_fit.summary())"
      ]
    },
    {
      "cell_type": "code",
      "execution_count": null,
      "metadata": {
        "colab": {
          "base_uri": "https://localhost:8080/"
        },
        "id": "mRxVwvx1GbT7",
        "outputId": "01d8358f-7527-473a-dc79-d59960f0e6c5"
      },
      "outputs": [
        {
          "name": "stderr",
          "output_type": "stream",
          "text": [
            "/usr/local/lib/python3.10/dist-packages/statsmodels/tsa/base/tsa_model.py:836: ValueWarning: No supported index is available. Prediction results will be given with an integer index beginning at `start`.\n",
            "  return get_prediction_index(\n",
            "/usr/local/lib/python3.10/dist-packages/statsmodels/tsa/base/tsa_model.py:836: FutureWarning: No supported index is available. In the next version, calling this method in a model without a supported index will result in an exception.\n",
            "  return get_prediction_index(\n"
          ]
        }
      ],
      "source": [
        "predicciones = arima_fit.forecast(steps= 5)\n",
        "predicciones.index = [2018.0,2019.0,2020.0, 2021.0,2022.0]"
      ]
    },
    {
      "cell_type": "code",
      "execution_count": null,
      "metadata": {
        "colab": {
          "base_uri": "https://localhost:8080/",
          "height": 449
        },
        "id": "EKQ6zS2KGiZg",
        "outputId": "1101b2b6-864c-41d9-c746-1f94a3c14197"
      },
      "outputs": [
        {
          "data": {
            "image/png": "[encoded data removed]",
            "text/plain": [
              "<Figure size 640x480 with 1 Axes>"
            ]
          },
          "metadata": {},
          "output_type": "display_data"
        }
      ],
      "source": [
        "fig, ax = plt.subplots(1,1)\n",
        "tabla_media_triples_AP.plot(ax = ax, label = 'Train')\n",
        "predicciones.plot(ax = ax, label = 'Predicciones')\n",
        "plt.show()"
      ]
    }
  ],
  "metadata": {
    "colab": {
      "provenance": []
    },
    "kernelspec": {
      "display_name": "Python 3",
      "name": "python3"
    },
    "language_info": {
      "codemirror_mode": {
        "name": "ipython",
        "version": 3
      },
      "file_extension": ".py",
      "mimetype": "text/x-python",
      "name": "python",
      "nbconvert_exporter": "python",
      "pygments_lexer": "ipython3",
      "version": "3.9.7"
    }
  },
  "nbformat": 4,
  "nbformat_minor": 0
}
